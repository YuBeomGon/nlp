{
 "cells": [
  {
   "cell_type": "code",
   "execution_count": 1,
   "metadata": {},
   "outputs": [],
   "source": [
    "import pandas as pd\n",
    "import numpy as np\n",
    "import os\n",
    "import sklearn\n",
    "from sklearn.preprocessing import LabelEncoder\n",
    "from sklearn.model_selection import train_test_split\n",
    "\n",
    "import sys\n",
    "sys.path.append('../../')\n",
    "from preprop import *"
   ]
  },
  {
   "cell_type": "code",
   "execution_count": 2,
   "metadata": {},
   "outputs": [],
   "source": [
    "# dirs = [d for d in os.listdir('.') if os.path.isdir(d)]\n",
    "# dirs"
   ]
  },
  {
   "cell_type": "code",
   "execution_count": 3,
   "metadata": {},
   "outputs": [],
   "source": [
    "# df = pd.read_excel('A_라라/A_01_1 라라_2017_01_2018_08_19년코드적용.xlsx')\n",
    "# # df.head()\n",
    "# df.columns = df.columns.str.replace('\\n', '')\n",
    "# df[[col for col in df.columns if '新증상코드' in col ]].apply(\n",
    "#     lambda x: ','.join(x.dropna().astype(str)),\n",
    "#     axis=1\n",
    "# )"
   ]
  },
  {
   "cell_type": "code",
   "execution_count": 4,
   "metadata": {},
   "outputs": [
    {
     "name": "stdout",
     "output_type": "stream",
     "text": [
      "Index(['품종', '성별코드', '주진단명코드', '병원', 'SE', '기타진단코드', '기타증상코드'], dtype='object')\n",
      "Index(['품종', '성별코드', '주진단명코드', '병원', 'SE', '기타진단코드', '기타증상코드'], dtype='object')\n",
      "Index(['품종', '성별코드', '주진단명코드', '병원', 'SE', '기타진단코드', '기타증상코드'], dtype='object')\n",
      "Index(['품종', '성별코드', '주진단명코드', '병원', 'SE', '기타진단코드', '기타증상코드'], dtype='object')\n",
      "Index(['품종', '성별코드', '주진단명코드', '병원', 'SE', '기타진단코드', '기타증상코드'], dtype='object')\n",
      "Index(['품종', '성별코드', '주진단명코드', '병원', 'SE', '기타진단코드', '기타증상코드'], dtype='object')\n",
      "Index(['품종', '성별코드', '주진단명코드', '병원', 'SE', '기타진단코드', '기타증상코드'], dtype='object')\n",
      "Index(['품종', '성별코드', '주진단명코드', '병원', 'SE', '기타진단코드', '기타증상코드'], dtype='object')\n",
      "Index(['품종', '성별코드', '주진단명코드', '병원', 'SE', '기타진단코드', '기타증상코드'], dtype='object')\n",
      "Index(['품종', '성별코드', '주진단명코드', '병원', 'SE', '기타진단코드', '기타증상코드'], dtype='object')\n",
      "Index(['품종', '성별코드', '주진단명코드', '병원', 'SE', '기타진단코드', '기타증상코드'], dtype='object')\n",
      "Index(['품종', '성별코드', '주진단명코드', '병원', 'SE', '기타진단코드', '기타증상코드'], dtype='object')\n"
     ]
    }
   ],
   "source": [
    "df_all = []\n",
    "dirs = [d for d in os.listdir('.') if os.path.isdir(d)]\n",
    "for dir in dirs :\n",
    "    files = [f for f in os.listdir('./' + dir) if not '혈액' in f and f.endswith('.xlsx')]\n",
    "#     print(files)\n",
    "    for file in files :\n",
    "#         print(file)\n",
    "        xls = pd.ExcelFile(('./' + dir + '/' + file))\n",
    "#         print(xls.sheet_names)\n",
    "        for sheet in xls.sheet_names :\n",
    "            df_sheet = pd.read_excel('./' + dir + '/' + file, sheet_name=sheet)\n",
    "            if 'SE' in df_sheet.columns :\n",
    "#                 print(df_sheet.columns)\n",
    "                df_sheet['병원'] = dir\n",
    "                df_sheet.columns = df_sheet.columns.str.replace('\\n\\(단일항목기재\\)', '')\n",
    "                df_sheet.columns = df_sheet.columns.str.replace('\\n', '')\n",
    "                df_sheet.columns = df_sheet.columns.str.replace('주진단명코드 1', '주진단명코드')\n",
    "                df_sheet.columns = df_sheet.columns.str.replace('\\(복수기재가능\\)', '')\n",
    "#                 df_sheet.columns = df_sheet.columns.sr.replace('*기타진단명*', '기타진단명코드')\n",
    "                df_sheet['기타진단코드'] = df_sheet[[col for col in df_sheet.columns if '기타진단명' in col ]].apply(lambda x : ','.join(x.dropna().astype(str)), axis=1)\n",
    "                df_sheet['기타증상코드'] = df_sheet[[col for col in df_sheet.columns if '新증상코드' in col ]].apply(lambda x : ','.join(x.dropna().astype(str)), axis=1)\n",
    "                df_sheet = df_sheet[['품종','성별코드','주진단명코드','병원','SE','기타진단코드','기타증상코드']]\n",
    "                print(df_sheet.columns)\n",
    "                \n",
    "#                 df_sheet = df_sheet[['']]\n",
    "                df_all.append(df_sheet)\n",
    "\n",
    "df = pd.concat(df_all)    \n",
    "df = df.reset_index(drop=True)"
   ]
  },
  {
   "cell_type": "code",
   "execution_count": 344,
   "metadata": {},
   "outputs": [],
   "source": [
    "# !pip3 install xlrd"
   ]
  },
  {
   "cell_type": "code",
   "execution_count": 5,
   "metadata": {},
   "outputs": [
    {
     "data": {
      "text/html": [
       "<div>\n",
       "<style scoped>\n",
       "    .dataframe tbody tr th:only-of-type {\n",
       "        vertical-align: middle;\n",
       "    }\n",
       "\n",
       "    .dataframe tbody tr th {\n",
       "        vertical-align: top;\n",
       "    }\n",
       "\n",
       "    .dataframe thead th {\n",
       "        text-align: right;\n",
       "    }\n",
       "</style>\n",
       "<table border=\"1\" class=\"dataframe\">\n",
       "  <thead>\n",
       "    <tr style=\"text-align: right;\">\n",
       "      <th></th>\n",
       "      <th>품종</th>\n",
       "      <th>성별코드</th>\n",
       "      <th>주진단명코드</th>\n",
       "      <th>병원</th>\n",
       "      <th>SE</th>\n",
       "      <th>기타진단코드</th>\n",
       "      <th>기타증상코드</th>\n",
       "    </tr>\n",
       "  </thead>\n",
       "  <tbody>\n",
       "    <tr>\n",
       "      <th>17453</th>\n",
       "      <td>Schnauzers( 슈나우져)</td>\n",
       "      <td>F</td>\n",
       "      <td>2263</td>\n",
       "      <td>G_부천이지</td>\n",
       "      <td>소래 동물병원 의뢰  - 홍역 진단    보호자분 요청으로 병리학적 검사를 실시함 ...</td>\n",
       "      <td></td>\n",
       "      <td>0.0</td>\n",
       "    </tr>\n",
       "    <tr>\n",
       "      <th>17454</th>\n",
       "      <td>Maltese(말티즈)</td>\n",
       "      <td>FS</td>\n",
       "      <td>2082</td>\n",
       "      <td>G_부천이지</td>\n",
       "      <td>&lt;오전관리사항&gt;    Food     - 식사종류 / 양 : 금식   - 식욕상태 ...</td>\n",
       "      <td></td>\n",
       "      <td>1.0,21.0,28.0,33.0,67.0</td>\n",
       "    </tr>\n",
       "    <tr>\n",
       "      <th>17455</th>\n",
       "      <td>Pomeranian(포메라이안)</td>\n",
       "      <td>MN</td>\n",
       "      <td>2046</td>\n",
       "      <td>G_부천이지</td>\n",
       "      <td>S)  - 조금전 음식물 쓰레기 뒤져 닭뼈 다량 섭식.  - 구토했는데 조각 일부 ...</td>\n",
       "      <td></td>\n",
       "      <td>1.0,25.0</td>\n",
       "    </tr>\n",
       "    <tr>\n",
       "      <th>17456</th>\n",
       "      <td>Yorkshire Terrier(요크셔 테리어)</td>\n",
       "      <td>FS</td>\n",
       "      <td>XX</td>\n",
       "      <td>G_부천이지</td>\n",
       "      <td>우측 CCRL 수술/ 양측서혜탈장 수술    &lt;수술설명&gt;  - 연구개노장, 기관...</td>\n",
       "      <td></td>\n",
       "      <td></td>\n",
       "    </tr>\n",
       "    <tr>\n",
       "      <th>17457</th>\n",
       "      <td>Maltese(말티즈)</td>\n",
       "      <td>F</td>\n",
       "      <td>2274</td>\n",
       "      <td>G_부천이지</td>\n",
       "      <td>동거견에 물려 안구돌출  보호자분 요청으로 병리학적 검사 진행  O)  혈액검사 상...</td>\n",
       "      <td></td>\n",
       "      <td>34.0</td>\n",
       "    </tr>\n",
       "  </tbody>\n",
       "</table>\n",
       "</div>"
      ],
      "text/plain": [
       "                               품종              성별코드 주진단명코드      병원  \\\n",
       "17453           Schnauzers( 슈나우져)  F                  2263  G_부천이지   \n",
       "17454                Maltese(말티즈)  FS                 2082  G_부천이지   \n",
       "17455           Pomeranian(포메라이안)  MN                 2046  G_부천이지   \n",
       "17456  Yorkshire Terrier(요크셔 테리어)  FS                   XX  G_부천이지   \n",
       "17457                Maltese(말티즈)  F                  2274  G_부천이지   \n",
       "\n",
       "                                                      SE 기타진단코드  \\\n",
       "17453  소래 동물병원 의뢰  - 홍역 진단    보호자분 요청으로 병리학적 검사를 실시함 ...          \n",
       "17454  <오전관리사항>    Food     - 식사종류 / 양 : 금식   - 식욕상태 ...          \n",
       "17455  S)  - 조금전 음식물 쓰레기 뒤져 닭뼈 다량 섭식.  - 구토했는데 조각 일부 ...          \n",
       "17456    우측 CCRL 수술/ 양측서혜탈장 수술    <수술설명>  - 연구개노장, 기관...          \n",
       "17457  동거견에 물려 안구돌출  보호자분 요청으로 병리학적 검사 진행  O)  혈액검사 상...          \n",
       "\n",
       "                        기타증상코드  \n",
       "17453                      0.0  \n",
       "17454  1.0,21.0,28.0,33.0,67.0  \n",
       "17455                 1.0,25.0  \n",
       "17456                           \n",
       "17457                     34.0  "
      ]
     },
     "execution_count": 5,
     "metadata": {},
     "output_type": "execute_result"
    }
   ],
   "source": [
    "df.tail()"
   ]
  },
  {
   "cell_type": "code",
   "execution_count": 6,
   "metadata": {},
   "outputs": [
    {
     "name": "stdout",
     "output_type": "stream",
     "text": [
      "(17458, 7)\n"
     ]
    }
   ],
   "source": [
    "print(df.shape)\n",
    "# df.dropna(subset=['SE'], inplace=True)\n",
    "# print(df.shape)\n",
    "# df['len'] = df.SE.apply(lambda x : len(x)) \n",
    "# df = df[df['len'] > 50]\n",
    "# print(df.shape)\n",
    "# df = df[df['len'] < 5000]\n",
    "# print(df.shape)\n",
    "# df = df.reset_index(drop=True)"
   ]
  },
  {
   "cell_type": "code",
   "execution_count": 7,
   "metadata": {},
   "outputs": [
    {
     "data": {
      "text/html": [
       "<div>\n",
       "<style scoped>\n",
       "    .dataframe tbody tr th:only-of-type {\n",
       "        vertical-align: middle;\n",
       "    }\n",
       "\n",
       "    .dataframe tbody tr th {\n",
       "        vertical-align: top;\n",
       "    }\n",
       "\n",
       "    .dataframe thead th {\n",
       "        text-align: right;\n",
       "    }\n",
       "</style>\n",
       "<table border=\"1\" class=\"dataframe\">\n",
       "  <thead>\n",
       "    <tr style=\"text-align: right;\">\n",
       "      <th></th>\n",
       "      <th>품종</th>\n",
       "      <th>성별코드</th>\n",
       "      <th>주진단명코드</th>\n",
       "      <th>병원</th>\n",
       "      <th>SE</th>\n",
       "      <th>기타진단코드</th>\n",
       "      <th>기타증상코드</th>\n",
       "    </tr>\n",
       "  </thead>\n",
       "  <tbody>\n",
       "    <tr>\n",
       "      <th>0</th>\n",
       "      <td>A.Cocker Spaniel(아메리카 코커)</td>\n",
       "      <td>MN</td>\n",
       "      <td>2078</td>\n",
       "      <td>D_VIP</td>\n",
       "      <td>S) 식욕부진, 기력저하, 눈    O)  - 2일동안 식욕이 거의 없어서 보호자분...</td>\n",
       "      <td>만성신질환, 신장결석, 방광염</td>\n",
       "      <td>21.0</td>\n",
       "    </tr>\n",
       "    <tr>\n",
       "      <th>1</th>\n",
       "      <td>Poodles(푸들)</td>\n",
       "      <td>MN</td>\n",
       "      <td>2244</td>\n",
       "      <td>D_VIP</td>\n",
       "      <td>S) 다음다뇨, 식욕부진    O)  - 최근들어 다음다뇨 증상과 2~3일전부터는 ...</td>\n",
       "      <td>담낭점액종</td>\n",
       "      <td>21.0,10.0</td>\n",
       "    </tr>\n",
       "    <tr>\n",
       "      <th>2</th>\n",
       "      <td>Mixed(혼합)</td>\n",
       "      <td>FS</td>\n",
       "      <td>2082</td>\n",
       "      <td>D_VIP</td>\n",
       "      <td>[오전 통화 by 관중]  - 일주일동안 밥안먹고, 활력저하됨  - 보호자님 복부촉...</td>\n",
       "      <td>만성신질환, 부비동염</td>\n",
       "      <td>21.0,28.0,6.0</td>\n",
       "    </tr>\n",
       "    <tr>\n",
       "      <th>3</th>\n",
       "      <td>Schnauzers( 슈나우져)</td>\n",
       "      <td>FS</td>\n",
       "      <td>2087</td>\n",
       "      <td>D_VIP</td>\n",
       "      <td>1. 쿠싱약 안먹고 와서 쿠싱검사는 28일에 하기로 함  2. 흉방에서 CVC 허탈...</td>\n",
       "      <td>단백뇨, 쿠싱, 빈혈</td>\n",
       "      <td>28.0,59.0</td>\n",
       "    </tr>\n",
       "    <tr>\n",
       "      <th>4</th>\n",
       "      <td>Maltese(말티즈)</td>\n",
       "      <td>MN</td>\n",
       "      <td>2081</td>\n",
       "      <td>D_VIP</td>\n",
       "      <td>S) 건강검진 진행함    O)  1. 혈액검사  - 간수치 상승(ALP, ALT ...</td>\n",
       "      <td>방광결석</td>\n",
       "      <td></td>\n",
       "    </tr>\n",
       "  </tbody>\n",
       "</table>\n",
       "</div>"
      ],
      "text/plain": [
       "                          품종 성별코드 주진단명코드     병원  \\\n",
       "0  A.Cocker Spaniel(아메리카 코커)   MN   2078  D_VIP   \n",
       "1                Poodles(푸들)   MN   2244  D_VIP   \n",
       "2                  Mixed(혼합)   FS   2082  D_VIP   \n",
       "3          Schnauzers( 슈나우져)   FS   2087  D_VIP   \n",
       "4               Maltese(말티즈)   MN   2081  D_VIP   \n",
       "\n",
       "                                                  SE            기타진단코드  \\\n",
       "0  S) 식욕부진, 기력저하, 눈    O)  - 2일동안 식욕이 거의 없어서 보호자분...  만성신질환, 신장결석, 방광염   \n",
       "1  S) 다음다뇨, 식욕부진    O)  - 최근들어 다음다뇨 증상과 2~3일전부터는 ...             담낭점액종   \n",
       "2  [오전 통화 by 관중]  - 일주일동안 밥안먹고, 활력저하됨  - 보호자님 복부촉...       만성신질환, 부비동염   \n",
       "3  1. 쿠싱약 안먹고 와서 쿠싱검사는 28일에 하기로 함  2. 흉방에서 CVC 허탈...       단백뇨, 쿠싱, 빈혈   \n",
       "4  S) 건강검진 진행함    O)  1. 혈액검사  - 간수치 상승(ALP, ALT ...              방광결석   \n",
       "\n",
       "          기타증상코드  \n",
       "0           21.0  \n",
       "1      21.0,10.0  \n",
       "2  21.0,28.0,6.0  \n",
       "3      28.0,59.0  \n",
       "4                 "
      ]
     },
     "execution_count": 7,
     "metadata": {},
     "output_type": "execute_result"
    }
   ],
   "source": [
    "df.head()"
   ]
  },
  {
   "cell_type": "code",
   "execution_count": 8,
   "metadata": {},
   "outputs": [],
   "source": [
    "# # sheet = pd.ExcelFile('02 2019_질병코드리스트_ANICOM.xlsx')\n",
    "# # sheet.sheet_names\n",
    "\n",
    "diag_df = pd.read_excel('02 2019_질병코드리스트_ANICOM.xlsx', sheet_name ='일본 AICOM 질병코드')\n",
    "diag_df['질병코드'] = diag_df['질병코드'].apply(lambda x : str(x).replace('.0', ''))\n",
    "# (diag_df[diag_df['질병코드'] == str(df.iloc[0]['주진단명코드'])]).iloc[0]['질병명(한글)']\n"
   ]
  },
  {
   "cell_type": "code",
   "execution_count": 9,
   "metadata": {},
   "outputs": [
    {
     "data": {
      "text/html": [
       "<div>\n",
       "<style scoped>\n",
       "    .dataframe tbody tr th:only-of-type {\n",
       "        vertical-align: middle;\n",
       "    }\n",
       "\n",
       "    .dataframe tbody tr th {\n",
       "        vertical-align: top;\n",
       "    }\n",
       "\n",
       "    .dataframe thead th {\n",
       "        text-align: right;\n",
       "    }\n",
       "</style>\n",
       "<table border=\"1\" class=\"dataframe\">\n",
       "  <thead>\n",
       "    <tr style=\"text-align: right;\">\n",
       "      <th></th>\n",
       "      <th>분류번호</th>\n",
       "      <th>분류</th>\n",
       "      <th>질병코드</th>\n",
       "      <th>질병명(한글)</th>\n",
       "      <th>질병명(일어)</th>\n",
       "    </tr>\n",
       "  </thead>\n",
       "  <tbody>\n",
       "    <tr>\n",
       "      <th>0</th>\n",
       "      <td>1.0</td>\n",
       "      <td>순환기 질환</td>\n",
       "      <td>2001</td>\n",
       "      <td>판막증 (의심 포함한 심장 잡음 + 심부전 증후 자)</td>\n",
       "      <td>弁膜症（疑い含む、心雑音＋、心不全徴候ー）</td>\n",
       "    </tr>\n",
       "    <tr>\n",
       "      <th>1</th>\n",
       "      <td>1.0</td>\n",
       "      <td>순환기 질환</td>\n",
       "      <td>2002</td>\n",
       "      <td>판막증 (심장 마비 증후 +)</td>\n",
       "      <td>弁膜症（心不全徴候＋）</td>\n",
       "    </tr>\n",
       "    <tr>\n",
       "      <th>2</th>\n",
       "      <td>1.0</td>\n",
       "      <td>순환기 질환</td>\n",
       "      <td>2003</td>\n",
       "      <td>병태 불명의 심비대 / 마음 확대</td>\n",
       "      <td>病態不明の心肥大/ 心拡大</td>\n",
       "    </tr>\n",
       "    <tr>\n",
       "      <th>3</th>\n",
       "      <td>1.0</td>\n",
       "      <td>순환기 질환</td>\n",
       "      <td>2004</td>\n",
       "      <td>심근증</td>\n",
       "      <td>心筋症</td>\n",
       "    </tr>\n",
       "    <tr>\n",
       "      <th>4</th>\n",
       "      <td>1.0</td>\n",
       "      <td>순환기 질환</td>\n",
       "      <td>2005</td>\n",
       "      <td>부정맥</td>\n",
       "      <td>不整脈</td>\n",
       "    </tr>\n",
       "  </tbody>\n",
       "</table>\n",
       "</div>"
      ],
      "text/plain": [
       "   분류번호        분류  질병코드                         질병명(한글)                질병명(일어)\n",
       "0   1.0   순환기 질환   2001   판막증 (의심 포함한 심장 잡음 + 심부전 증후 자)  弁膜症（疑い含む、心雑音＋、心不全徴候ー）\n",
       "1   1.0   순환기 질환   2002               판막증 (심장 마비 증후 +)             弁膜症（心不全徴候＋）\n",
       "2   1.0   순환기 질환   2003             병태 불명의 심비대 / 마음 확대           病態不明の心肥大/ 心拡大\n",
       "3   1.0   순환기 질환   2004                            심근증                     心筋症\n",
       "4   1.0   순환기 질환   2005                            부정맥                     不整脈"
      ]
     },
     "execution_count": 9,
     "metadata": {},
     "output_type": "execute_result"
    }
   ],
   "source": [
    "diag_df.head()"
   ]
  },
  {
   "cell_type": "code",
   "execution_count": 10,
   "metadata": {},
   "outputs": [],
   "source": [
    "df['주진단명'] = ''\n",
    "df['질환'] = ''\n",
    "for i in range(len(df)) :\n",
    "    temp_df = (diag_df[diag_df['질병코드'] == str(df.iloc[i]['주진단명코드'])])\n",
    "    if len(temp_df) != 0 :\n",
    "#         print(temp_df.iloc[0]['질병명(한글)'])\n",
    "        df.loc[i,'주진단명'] = temp_df.iloc[0]['질병명(한글)']\n",
    "        df.loc[i,'질환'] = temp_df.iloc[0]['분류']"
   ]
  },
  {
   "cell_type": "code",
   "execution_count": 36,
   "metadata": {},
   "outputs": [
    {
     "name": "stdout",
     "output_type": "stream",
     "text": [
      "(10225, 11)\n",
      "(10225, 11)\n",
      "(10225, 11)\n",
      "(10225, 11)\n",
      "(8998, 11)\n",
      "(1227, 11)\n"
     ]
    }
   ],
   "source": [
    "df.dropna(subset=['SE', '질환'], inplace=True)\n",
    "print(df.shape)\n",
    "df['len'] = df.SE.apply(lambda x : len(str(x)))\n",
    "df = df[df['len'] > 50]\n",
    "print(df.shape)\n",
    "\n",
    "df['주진단명코드'] = df['주진단명코드'].apply(lambda x : label_regex(str(x)))\n",
    "df = df.reset_index(drop=True)\n",
    "\n",
    "for i in range(len(df)) :\n",
    "    if df.loc[i, '주진단명코드'].strip() == '중성화' :\n",
    "        df.loc[i,'질환'] = '중성화'\n",
    "        \n",
    "df['질환'] = df['질환'].apply(lambda x : np.nan if str(x).strip() == '' else x)     \n",
    "df.dropna(subset=['SE', '질환'], inplace=True)\n",
    "print(df.shape)\n",
    "df = df.reset_index(drop=True)\n",
    "\n",
    "df['질환'] = df['질환'].apply(lambda x : np.nan if str(x).strip() == '귀 질환' else x)\n",
    "df.dropna(subset=['SE', '질환'], inplace=True)\n",
    "print(df.shape)\n",
    "df = df.reset_index(drop=True)\n",
    "\n",
    "\n",
    "from sklearn.preprocessing import LabelEncoder\n",
    "encoder = LabelEncoder()\n",
    "encoder.fit(df['질환'])\n",
    "df['label_id'] = encoder.transform(df['질환'])\n",
    "\n",
    "train, test = train_test_split(df,test_size=0.12, random_state=100 )\n",
    "train.to_csv('files/disease_train.csv', index=None)\n",
    "test.to_csv('files/disease_test.csv', index=None)\n",
    "print(train.shape)\n",
    "print(test.shape)"
   ]
  },
  {
   "cell_type": "code",
   "execution_count": null,
   "metadata": {},
   "outputs": [],
   "source": []
  },
  {
   "cell_type": "code",
   "execution_count": 31,
   "metadata": {},
   "outputs": [
    {
     "data": {
      "text/plain": [
       " 소화기 질환             1879\n",
       " 비뇨기과 질환            1213\n",
       "전신성의 질환             1114\n",
       " 간 · 담도계 및 췌장 질환     801\n",
       " 순환기 질환              741\n",
       " 생식기 질환              670\n",
       " 신경 질환               591\n",
       "중성화                  581\n",
       " 호흡기 질환              578\n",
       "근육 골격 질환             497\n",
       "치아 및 구강 질환           473\n",
       "혈액 및 조혈기의 질환         385\n",
       "피부 질환                299\n",
       "내분비 질환               254\n",
       " 눈 및 부속 기관의 질환       149\n",
       " 귀 질환                 88\n",
       "Name: 질환, dtype: int64"
      ]
     },
     "execution_count": 31,
     "metadata": {},
     "output_type": "execute_result"
    }
   ],
   "source": [
    "df['질환'].value_counts()"
   ]
  },
  {
   "cell_type": "code",
   "execution_count": 350,
   "metadata": {},
   "outputs": [],
   "source": [
    "df['기타증상코드'] = df['기타증상코드'].apply(lambda x : str(x).replace('.0', ''))\n",
    "diag_df = pd.read_excel('01 2019_증상코드리스트.xlsx', sheet_name ='Sheet1')\n",
    "diag_df.columns = diag_df.columns.str.replace('\\'', '')\n",
    "diag_df['19코드'] = diag_df['19코드'].apply(lambda x : str(x).replace('.0', ''))"
   ]
  },
  {
   "cell_type": "code",
   "execution_count": 351,
   "metadata": {},
   "outputs": [
    {
     "data": {
      "text/plain": [
       "1"
      ]
     },
     "execution_count": 351,
     "metadata": {},
     "output_type": "execute_result"
    }
   ],
   "source": [
    "len((df.iloc[0]['기타증상코드']).split(','))"
   ]
  },
  {
   "cell_type": "code",
   "execution_count": 352,
   "metadata": {},
   "outputs": [],
   "source": [
    "df['증상명'] = ''\n",
    "for i in range(len(df)) :\n",
    "    symptoms = (df.iloc[i]['기타증상코드']).split(',')\n",
    "    if len(symptoms) > 0 :\n",
    "        for symptom in symptoms :\n",
    "            temp_df = (diag_df[diag_df['19코드'] == symptom])\n",
    "            if len(temp_df) > 0 :\n",
    "                if df.loc[i,'증상명'] == '' :\n",
    "                    df.loc[i,'증상명'] = temp_df.iloc[0]['증상명칭(한글)']\n",
    "                else :\n",
    "                    df.loc[i,'증상명'] = df.loc[i,'증상명'] + ',' + temp_df.iloc[0]['증상명칭(한글)']\n",
    "df['주증상명'] = ''   \n",
    "for i in range(len(df)) :\n",
    "    symptoms = (df.iloc[i]['기타증상코드']).split(',')\n",
    "    if len(symptoms) > 0 :\n",
    "        for symptom in symptoms :\n",
    "            temp_df = (diag_df[diag_df['19코드'] == symptom])\n",
    "            if len(temp_df) > 0 :\n",
    "                if df.loc[i,'주증상명'] == '' :\n",
    "                    df.loc[i,'주증상명'] = temp_df.iloc[0]['증상명칭(한글)']"
   ]
  },
  {
   "cell_type": "code",
   "execution_count": 353,
   "metadata": {},
   "outputs": [
    {
     "data": {
      "text/html": [
       "<div>\n",
       "<style scoped>\n",
       "    .dataframe tbody tr th:only-of-type {\n",
       "        vertical-align: middle;\n",
       "    }\n",
       "\n",
       "    .dataframe tbody tr th {\n",
       "        vertical-align: top;\n",
       "    }\n",
       "\n",
       "    .dataframe thead th {\n",
       "        text-align: right;\n",
       "    }\n",
       "</style>\n",
       "<table border=\"1\" class=\"dataframe\">\n",
       "  <thead>\n",
       "    <tr style=\"text-align: right;\">\n",
       "      <th></th>\n",
       "      <th>품종</th>\n",
       "      <th>성별코드</th>\n",
       "      <th>주진단명코드</th>\n",
       "      <th>병원</th>\n",
       "      <th>SE</th>\n",
       "      <th>기타진단코드</th>\n",
       "      <th>기타증상코드</th>\n",
       "      <th>주진단명</th>\n",
       "      <th>질환</th>\n",
       "      <th>증상명</th>\n",
       "      <th>주증상명</th>\n",
       "    </tr>\n",
       "  </thead>\n",
       "  <tbody>\n",
       "    <tr>\n",
       "      <th>0</th>\n",
       "      <td>A.Cocker Spaniel(아메리카 코커)</td>\n",
       "      <td>MN</td>\n",
       "      <td>2078</td>\n",
       "      <td>D_VIP</td>\n",
       "      <td>S) 식욕부진, 기력저하, 눈    O)  - 2일동안 식욕이 거의 없어서 보호자분...</td>\n",
       "      <td>만성신질환, 신장결석, 방광염</td>\n",
       "      <td>21</td>\n",
       "      <td>담관염 / 담관 간염</td>\n",
       "      <td>간 · 담도계 및 췌장 질환</td>\n",
       "      <td>식욕부진, 식욕저하</td>\n",
       "      <td>식욕부진, 식욕저하</td>\n",
       "    </tr>\n",
       "    <tr>\n",
       "      <th>1</th>\n",
       "      <td>Poodles(푸들)</td>\n",
       "      <td>MN</td>\n",
       "      <td>2244</td>\n",
       "      <td>D_VIP</td>\n",
       "      <td>S) 다음다뇨, 식욕부진    O)  - 최근들어 다음다뇨 증상과 2~3일전부터는 ...</td>\n",
       "      <td>담낭점액종</td>\n",
       "      <td>21,10</td>\n",
       "      <td>당뇨병</td>\n",
       "      <td>내분비 질환</td>\n",
       "      <td>식욕부진, 식욕저하,다뇨/다발(다음)</td>\n",
       "      <td>식욕부진, 식욕저하</td>\n",
       "    </tr>\n",
       "    <tr>\n",
       "      <th>2</th>\n",
       "      <td>Mixed(혼합)</td>\n",
       "      <td>FS</td>\n",
       "      <td>2082</td>\n",
       "      <td>D_VIP</td>\n",
       "      <td>[오전 통화 by 관중]  - 일주일동안 밥안먹고, 활력저하됨  - 보호자님 복부촉...</td>\n",
       "      <td>만성신질환, 부비동염</td>\n",
       "      <td>21,28,6</td>\n",
       "      <td>췌장염</td>\n",
       "      <td>간 · 담도계 및 췌장 질환</td>\n",
       "      <td>식욕부진, 식욕저하,기력저하,비강 분비 및 비출혈</td>\n",
       "      <td>식욕부진, 식욕저하</td>\n",
       "    </tr>\n",
       "    <tr>\n",
       "      <th>3</th>\n",
       "      <td>Schnauzers( 슈나우져)</td>\n",
       "      <td>FS</td>\n",
       "      <td>2087</td>\n",
       "      <td>D_VIP</td>\n",
       "      <td>1. 쿠싱약 안먹고 와서 쿠싱검사는 28일에 하기로 함  2. 흉방에서 CVC 허탈...</td>\n",
       "      <td>단백뇨, 쿠싱, 빈혈</td>\n",
       "      <td>28,59</td>\n",
       "      <td>만성 신장 질환 (신부전 포함)</td>\n",
       "      <td>비뇨기과 질환</td>\n",
       "      <td>기력저하</td>\n",
       "      <td>기력저하</td>\n",
       "    </tr>\n",
       "    <tr>\n",
       "      <th>4</th>\n",
       "      <td>Maltese(말티즈)</td>\n",
       "      <td>MN</td>\n",
       "      <td>2081</td>\n",
       "      <td>D_VIP</td>\n",
       "      <td>S) 건강검진 진행함    O)  1. 혈액검사  - 간수치 상승(ALP, ALT ...</td>\n",
       "      <td>방광결석</td>\n",
       "      <td></td>\n",
       "      <td>간 효소 상승 (원인 미정)</td>\n",
       "      <td>간 · 담도계 및 췌장 질환</td>\n",
       "      <td></td>\n",
       "      <td></td>\n",
       "    </tr>\n",
       "    <tr>\n",
       "      <th>5</th>\n",
       "      <td>K.C(Korean Cat)</td>\n",
       "      <td>FS</td>\n",
       "      <td>2244</td>\n",
       "      <td>D_VIP</td>\n",
       "      <td>538,300원 선결제 하셨습니다. - 송이    S) 식욕부진, 구토    O) ...</td>\n",
       "      <td>지방간, 췌장염</td>\n",
       "      <td>21,1</td>\n",
       "      <td>당뇨병</td>\n",
       "      <td>내분비 질환</td>\n",
       "      <td>식욕부진, 식욕저하,구토(급성/만성)</td>\n",
       "      <td>식욕부진, 식욕저하</td>\n",
       "    </tr>\n",
       "    <tr>\n",
       "      <th>6</th>\n",
       "      <td>Shih Tzu(시추)</td>\n",
       "      <td>MN</td>\n",
       "      <td>2231</td>\n",
       "      <td>D_VIP</td>\n",
       "      <td>S) 체중감소, 건강검진    O)  - 혈액검사 : 빈혈 진행중(33%)  - 염...</td>\n",
       "      <td>방광결석, 간비대</td>\n",
       "      <td>27</td>\n",
       "      <td>빈혈 (원인 미정)</td>\n",
       "      <td>혈액 및 조혈기의 질환</td>\n",
       "      <td>체중 변화, 체중 증가, 체중 감소</td>\n",
       "      <td>체중 변화, 체중 증가, 체중 감소</td>\n",
       "    </tr>\n",
       "    <tr>\n",
       "      <th>7</th>\n",
       "      <td>Pomeranian(포메라이안)</td>\n",
       "      <td>MN</td>\n",
       "      <td>2177</td>\n",
       "      <td>D_VIP</td>\n",
       "      <td>667,060 미수금 발생 - 휘린     [한방진료]  -후지 근육 강화를 위한 ...</td>\n",
       "      <td>갑기저, 고혈압, 방광염, 쿠싱</td>\n",
       "      <td>27,222</td>\n",
       "      <td>침샘 질환 (침샘 염 / 점액 낭종 / 두꺼비 종 포함)</td>\n",
       "      <td>치아 및 구강 질환</td>\n",
       "      <td>체중 변화, 체중 증가, 체중 감소 ,부종, 홍반</td>\n",
       "      <td>체중 변화, 체중 증가, 체중 감소</td>\n",
       "    </tr>\n",
       "    <tr>\n",
       "      <th>8</th>\n",
       "      <td>A.Cocker Spaniel(아메리카 코커)</td>\n",
       "      <td>FS</td>\n",
       "      <td>2092</td>\n",
       "      <td>D_VIP</td>\n",
       "      <td>내추럴발란스캔 결제완료후 두고 가심  18.02.12일에 가져가실예정  효정    ...</td>\n",
       "      <td></td>\n",
       "      <td></td>\n",
       "      <td>방광 결석</td>\n",
       "      <td>비뇨기과 질환</td>\n",
       "      <td></td>\n",
       "      <td></td>\n",
       "    </tr>\n",
       "    <tr>\n",
       "      <th>9</th>\n",
       "      <td>Maltese(말티즈)</td>\n",
       "      <td>FS</td>\n",
       "      <td>2196</td>\n",
       "      <td>D_VIP</td>\n",
       "      <td>S)  - 특이사항 없음.   - 잘 지냄.     O)  - 청진 시 NRF  -...</td>\n",
       "      <td></td>\n",
       "      <td>5</td>\n",
       "      <td>골절 (상기 이외)</td>\n",
       "      <td>근육 골격 질환</td>\n",
       "      <td>기침</td>\n",
       "      <td>기침</td>\n",
       "    </tr>\n",
       "  </tbody>\n",
       "</table>\n",
       "</div>"
      ],
      "text/plain": [
       "                          품종 성별코드 주진단명코드     병원  \\\n",
       "0  A.Cocker Spaniel(아메리카 코커)   MN   2078  D_VIP   \n",
       "1                Poodles(푸들)   MN   2244  D_VIP   \n",
       "2                  Mixed(혼합)   FS   2082  D_VIP   \n",
       "3          Schnauzers( 슈나우져)   FS   2087  D_VIP   \n",
       "4               Maltese(말티즈)   MN   2081  D_VIP   \n",
       "5            K.C(Korean Cat)   FS   2244  D_VIP   \n",
       "6               Shih Tzu(시추)   MN   2231  D_VIP   \n",
       "7          Pomeranian(포메라이안)   MN   2177  D_VIP   \n",
       "8  A.Cocker Spaniel(아메리카 코커)   FS   2092  D_VIP   \n",
       "9               Maltese(말티즈)   FS   2196  D_VIP   \n",
       "\n",
       "                                                  SE             기타진단코드  \\\n",
       "0  S) 식욕부진, 기력저하, 눈    O)  - 2일동안 식욕이 거의 없어서 보호자분...   만성신질환, 신장결석, 방광염   \n",
       "1  S) 다음다뇨, 식욕부진    O)  - 최근들어 다음다뇨 증상과 2~3일전부터는 ...              담낭점액종   \n",
       "2  [오전 통화 by 관중]  - 일주일동안 밥안먹고, 활력저하됨  - 보호자님 복부촉...        만성신질환, 부비동염   \n",
       "3  1. 쿠싱약 안먹고 와서 쿠싱검사는 28일에 하기로 함  2. 흉방에서 CVC 허탈...        단백뇨, 쿠싱, 빈혈   \n",
       "4  S) 건강검진 진행함    O)  1. 혈액검사  - 간수치 상승(ALP, ALT ...               방광결석   \n",
       "5  538,300원 선결제 하셨습니다. - 송이    S) 식욕부진, 구토    O) ...           지방간, 췌장염   \n",
       "6  S) 체중감소, 건강검진    O)  - 혈액검사 : 빈혈 진행중(33%)  - 염...          방광결석, 간비대   \n",
       "7  667,060 미수금 발생 - 휘린     [한방진료]  -후지 근육 강화를 위한 ...  갑기저, 고혈압, 방광염, 쿠싱   \n",
       "8  내추럴발란스캔 결제완료후 두고 가심  18.02.12일에 가져가실예정  효정    ...                      \n",
       "9  S)  - 특이사항 없음.   - 잘 지냄.     O)  - 청진 시 NRF  -...                      \n",
       "\n",
       "    기타증상코드                              주진단명                질환  \\\n",
       "0       21                      담관염 / 담관 간염    간 · 담도계 및 췌장 질환   \n",
       "1    21,10                              당뇨병            내분비 질환    \n",
       "2  21,28,6                              췌장염    간 · 담도계 및 췌장 질환   \n",
       "3    28,59                만성 신장 질환 (신부전 포함)           비뇨기과 질환    \n",
       "4                           간 효소 상승 (원인 미정)    간 · 담도계 및 췌장 질환   \n",
       "5     21,1                              당뇨병            내분비 질환    \n",
       "6       27                       빈혈 (원인 미정)      혈액 및 조혈기의 질환    \n",
       "7   27,222   침샘 질환 (침샘 염 / 점액 낭종 / 두꺼비 종 포함)       치아 및 구강 질환    \n",
       "8                                     방광 결석           비뇨기과 질환    \n",
       "9        5                       골절 (상기 이외)          근육 골격 질환    \n",
       "\n",
       "                           증상명                  주증상명  \n",
       "0                   식욕부진, 식욕저하            식욕부진, 식욕저하  \n",
       "1         식욕부진, 식욕저하,다뇨/다발(다음)            식욕부진, 식욕저하  \n",
       "2  식욕부진, 식욕저하,기력저하,비강 분비 및 비출혈            식욕부진, 식욕저하  \n",
       "3                         기력저하                  기력저하  \n",
       "4                                                     \n",
       "5         식욕부진, 식욕저하,구토(급성/만성)            식욕부진, 식욕저하  \n",
       "6         체중 변화, 체중 증가, 체중 감소   체중 변화, 체중 증가, 체중 감소   \n",
       "7  체중 변화, 체중 증가, 체중 감소 ,부종, 홍반  체중 변화, 체중 증가, 체중 감소   \n",
       "8                                                     \n",
       "9                           기침                    기침  "
      ]
     },
     "execution_count": 353,
     "metadata": {},
     "output_type": "execute_result"
    }
   ],
   "source": [
    "df.head(10)"
   ]
  },
  {
   "cell_type": "code",
   "execution_count": 354,
   "metadata": {},
   "outputs": [],
   "source": [
    "# i = 0\n",
    "# temp_df = (diag_df[diag_df['질병코드'] == str(df.iloc[i]['주진단명코드'])])\n",
    "# df.loc[i, '질환분류'] = temp_df.iloc[0]['분류']\n",
    "# print(df.iloc[i]['질환분류'])\n",
    "# print(temp_df.iloc[0]['분류'])\n",
    "# df.iloc[i]['질환분류'] = '전신성의 질환'\n",
    "# print(df.iloc[i]['질환분류'])"
   ]
  },
  {
   "cell_type": "code",
   "execution_count": null,
   "metadata": {},
   "outputs": [],
   "source": []
  },
  {
   "cell_type": "code",
   "execution_count": 355,
   "metadata": {},
   "outputs": [],
   "source": [
    "df.SE = df.SE.apply(lambda x : preprocess(str(x)))\n",
    "df['주진단명코드'] = df['주진단명코드'].apply(lambda x : label_regex(x))"
   ]
  },
  {
   "cell_type": "code",
   "execution_count": 358,
   "metadata": {},
   "outputs": [
    {
     "data": {
      "text/plain": [
       "(17458, 11)"
      ]
     },
     "execution_count": 358,
     "metadata": {},
     "output_type": "execute_result"
    }
   ],
   "source": [
    "df.shape"
   ]
  },
  {
   "cell_type": "code",
   "execution_count": 359,
   "metadata": {},
   "outputs": [],
   "source": [
    "df.to_csv('files/df.csv', index=None)"
   ]
  },
  {
   "cell_type": "code",
   "execution_count": 364,
   "metadata": {},
   "outputs": [],
   "source": [
    "df = pd.read_csv('files/df.csv')"
   ]
  },
  {
   "cell_type": "code",
   "execution_count": 365,
   "metadata": {},
   "outputs": [
    {
     "name": "stdout",
     "output_type": "stream",
     "text": [
      "(17458, 11)\n",
      "(15974, 11)\n"
     ]
    }
   ],
   "source": [
    "print(df.shape)\n",
    "df.dropna(subset=['SE'], inplace=True)\n",
    "print(df.shape)"
   ]
  },
  {
   "cell_type": "code",
   "execution_count": 366,
   "metadata": {},
   "outputs": [
    {
     "name": "stdout",
     "output_type": "stream",
     "text": [
      "(15974, 11)\n",
      "(14942, 12)\n",
      "(14941, 12)\n",
      "(12699, 12)\n",
      "(2242, 12)\n"
     ]
    }
   ],
   "source": [
    "\n",
    "# print(df.shape)\n",
    "# df.dropna(subset=['SE'], inplace=True)\n",
    "print(df.shape)\n",
    "df['len'] = df.SE.apply(lambda x : len(x)) \n",
    "df = df[df['len'] > 50]\n",
    "print(df.shape)\n",
    "df = df[df['len'] < 5000]\n",
    "print(df.shape)\n",
    "df = df.reset_index(drop=True)\n",
    "train, test = train_test_split(df,test_size=0.15, random_state=100 )\n",
    "train.to_csv('files/train.csv', index=None)\n",
    "test.to_csv('files/test.csv', index=None)\n",
    "print(train.shape)\n",
    "print(test.shape)"
   ]
  },
  {
   "cell_type": "code",
   "execution_count": 306,
   "metadata": {},
   "outputs": [
    {
     "data": {
      "text/plain": [
       "5644           Persian Cat(페르시안 고양이)\n",
       "762       Yorkshire Terrier(요크셔 테리어)\n",
       "11221                 Jindo Dog(진도견)\n",
       "5357                    Maltese(말티즈)\n",
       "12278     Yorkshire Terrier(요크셔 테리어)\n",
       "                    ...             \n",
       "12119          Persian Cat(페르시안 고양이)\n",
       "8039      Yorkshire Terrier(요크셔 테리어)\n",
       "14147    Miniature Pinscher(미니어쳐 핀셔)\n",
       "6936                    Maltese(말티즈)\n",
       "5640                       Mixed(혼합)\n",
       "Name: 품종, Length: 12699, dtype: object"
      ]
     },
     "execution_count": 306,
     "metadata": {},
     "output_type": "execute_result"
    }
   ],
   "source": [
    "train['품종']"
   ]
  },
  {
   "cell_type": "code",
   "execution_count": 375,
   "metadata": {},
   "outputs": [
    {
     "name": "stdout",
     "output_type": "stream",
     "text": [
      "(12699, 12)\n",
      "(10742, 12)\n"
     ]
    }
   ],
   "source": [
    "train = pd.read_csv('files/train.csv')\n",
    "print(train.shape)\n",
    "train['품종'] = train['품종'].apply(lambda x : re.sub('\\(.*\\)', '', str(x)))\n",
    "train['품종'] = train['품종'].apply(lambda x : re.sub('[ ]+', '', str(x)))\n",
    "pet_list = train['품종'].value_counts()[0:20].to_dict().keys()\n",
    "train['품종'] = train['품종'].apply(lambda x :  x if x in pet_list else np.nan)\n",
    "train = train[train['품종'] != '']\n",
    "train.dropna(subset=['품종'], inplace=True)\n",
    "print(train.shape)\n",
    "\n",
    "from sklearn.preprocessing import LabelEncoder\n",
    "encoder = LabelEncoder()\n",
    "encoder.fit(train['품종'])\n",
    "train['label_id'] = encoder.transform(train['품종'])\n",
    "train.to_csv('files/pet_id.csv', index=None)"
   ]
  },
  {
   "cell_type": "code",
   "execution_count": 381,
   "metadata": {},
   "outputs": [],
   "source": [
    "train = pd.read_csv('files/train.csv')\n",
    "train['성별코드'] = train['성별코드'].apply(lambda x : re.sub('[ ]+', '', str(x)))\n",
    "train['품종'] = train['품종'].apply(lambda x : re.sub('\\(.*\\)', '', str(x)))\n",
    "train['품종'] = train['품종'].apply(lambda x : re.sub('[ ]+', '', str(x)))"
   ]
  },
  {
   "cell_type": "code",
   "execution_count": 382,
   "metadata": {},
   "outputs": [
    {
     "data": {
      "text/plain": [
       "Maltese               2005\n",
       "Mixed                 1300\n",
       "K.C                   1285\n",
       "Poodles               1032\n",
       "ShihTzu                982\n",
       "YorkshireTerrier       763\n",
       "Pomeranian             720\n",
       "Chihuahua              338\n",
       "Schnauzers             246\n",
       "PersianCat             238\n",
       "토이푸들                   207\n",
       "nan                    200\n",
       "A.CockerSpaniel        197\n",
       "Dachshunds             189\n",
       "spitz                  188\n",
       "BichonFrish            182\n",
       "RussianBlueCat         180\n",
       "ScottichFoldCat        173\n",
       "Pekingese              161\n",
       "MiniaturePinscher      156\n",
       "Turkishangora          137\n",
       "SiameseCat             132\n",
       "JindoDog               107\n",
       "Domesticshorthair       91\n",
       "GoldenRetriever         68\n",
       "MiniatureSchnauzer      67\n",
       "몬그레이                    61\n",
       "친칠라                     60\n",
       "BengalCat               55\n",
       "AbyssinianCat           54\n",
       "Name: 품종, dtype: int64"
      ]
     },
     "execution_count": 382,
     "metadata": {},
     "output_type": "execute_result"
    }
   ],
   "source": [
    "train['품종'].value_counts()[0:30]"
   ]
  },
  {
   "cell_type": "code",
   "execution_count": 380,
   "metadata": {},
   "outputs": [
    {
     "name": "stdout",
     "output_type": "stream",
     "text": [
      "(12699, 12)\n",
      "(12595, 12)\n"
     ]
    }
   ],
   "source": [
    "train = pd.read_csv('files/train.csv')\n",
    "print(train.shape)\n",
    "train['성별코드'] = train['성별코드'].apply(lambda x : re.sub('[ ]+', '', str(x)))\n",
    "pet_list = train['성별코드'].value_counts()[0:4].to_dict().keys()\n",
    "train['성별코드'] = train['성별코드'].apply(lambda x :  x if x in pet_list else np.nan)\n",
    "train = train[train['성별코드'] != '']\n",
    "train.dropna(subset=['성별코드'], inplace=True)\n",
    "# train['성별코드'] = train['성별코드'].apply(lambda x : re.sub('\\(.*\\)', '', str(x)))\n",
    "print(train.shape)\n",
    "\n",
    "from sklearn.preprocessing import LabelEncoder\n",
    "encoder = LabelEncoder()\n",
    "encoder.fit(train['성별코드'])\n",
    "train['label_id'] = encoder.transform(train['성별코드'])\n",
    "train.to_csv('files/sex_id.csv', index=None)"
   ]
  },
  {
   "cell_type": "code",
   "execution_count": 309,
   "metadata": {},
   "outputs": [
    {
     "name": "stdout",
     "output_type": "stream",
     "text": [
      "(12699, 12)\n",
      "(4780, 12)\n"
     ]
    }
   ],
   "source": [
    "train = pd.read_csv('files/train.csv')\n",
    "print(train.shape)\n",
    "pet_list = train['질환'].value_counts()[0:5].to_dict().keys()\n",
    "train['질환'] = train['질환'].apply(lambda x :  x if x in pet_list else np.nan)\n",
    "train = train[train['질환'] != '']\n",
    "train.dropna(subset=['질환'], inplace=True)\n",
    "# train['성별코드'] = train['성별코드'].apply(lambda x : re.sub('\\(.*\\)', '', str(x)))\n",
    "print(train.shape)\n",
    "\n",
    "from sklearn.preprocessing import LabelEncoder\n",
    "encoder = LabelEncoder()\n",
    "encoder.fit(train['질환'])\n",
    "train['label_id'] = encoder.transform(train['질환'])\n",
    "train.to_csv('files/disease_id_1st.csv', index=None)"
   ]
  },
  {
   "cell_type": "code",
   "execution_count": 310,
   "metadata": {},
   "outputs": [
    {
     "name": "stdout",
     "output_type": "stream",
     "text": [
      "(12699, 12)\n",
      "(3383, 12)\n"
     ]
    }
   ],
   "source": [
    "train = pd.read_csv('files/train.csv')\n",
    "print(train.shape)\n",
    "pet_list = train['질환'].value_counts()[5:15].to_dict().keys()\n",
    "train['질환'] = train['질환'].apply(lambda x :  x if x in pet_list else np.nan)\n",
    "train = train[train['질환'] != '']\n",
    "train.dropna(subset=['질환'], inplace=True)\n",
    "# train['성별코드'] = train['성별코드'].apply(lambda x : re.sub('\\(.*\\)', '', str(x)))\n",
    "print(train.shape)\n",
    "\n",
    "from sklearn.preprocessing import LabelEncoder\n",
    "encoder = LabelEncoder()\n",
    "encoder.fit(train['질환'])\n",
    "train['label_id'] = encoder.transform(train['질환'])\n",
    "train.to_csv('files/disease_id_2nd.csv', index=None)"
   ]
  },
  {
   "cell_type": "code",
   "execution_count": 311,
   "metadata": {},
   "outputs": [],
   "source": [
    "# train = pd.read_csv('files/train.csv')\n",
    "# print(train['질환'].value_counts())\n",
    "# train['질환'].value_counts().sum()"
   ]
  },
  {
   "cell_type": "code",
   "execution_count": 312,
   "metadata": {},
   "outputs": [
    {
     "name": "stdout",
     "output_type": "stream",
     "text": [
      "(12699, 12)\n",
      "(4206, 12)\n"
     ]
    }
   ],
   "source": [
    "train = pd.read_csv('files/train.csv')\n",
    "print(train.shape)\n",
    "pet_list = train['주증상명'].value_counts()[0:7].to_dict().keys()\n",
    "train['주증상명'] = train['주증상명'].apply(lambda x :  x if x in pet_list else np.nan)\n",
    "train = train[train['주증상명'] != '']\n",
    "train.dropna(subset=['주증상명'], inplace=True)\n",
    "# train['성별코드'] = train['성별코드'].apply(lambda x : re.sub('\\(.*\\)', '', str(x)))\n",
    "print(train.shape)\n",
    "\n",
    "from sklearn.preprocessing import LabelEncoder\n",
    "encoder = LabelEncoder()\n",
    "encoder.fit(train['주증상명'])\n",
    "train['label_id'] = encoder.transform(train['주증상명'])\n",
    "train.to_csv('files/symptoms_id_1st.csv', index=None)"
   ]
  },
  {
   "cell_type": "code",
   "execution_count": 313,
   "metadata": {},
   "outputs": [
    {
     "name": "stdout",
     "output_type": "stream",
     "text": [
      "(12699, 12)\n",
      "(2285, 12)\n"
     ]
    }
   ],
   "source": [
    "train = pd.read_csv('files/train.csv')\n",
    "print(train.shape)\n",
    "pet_list = train['주증상명'].value_counts()[7:19].to_dict().keys()\n",
    "train['주증상명'] = train['주증상명'].apply(lambda x :  x if x in pet_list else np.nan)\n",
    "train = train[train['주증상명'] != '']\n",
    "train.dropna(subset=['주증상명'], inplace=True)\n",
    "# train['성별코드'] = train['성별코드'].apply(lambda x : re.sub('\\(.*\\)', '', str(x)))\n",
    "print(train.shape)\n",
    "\n",
    "from sklearn.preprocessing import LabelEncoder\n",
    "encoder = LabelEncoder()\n",
    "encoder.fit(train['주증상명'])\n",
    "train['label_id'] = encoder.transform(train['주증상명'])\n",
    "train.to_csv('files/symptoms_id_2nd.csv', index=None)"
   ]
  },
  {
   "cell_type": "code",
   "execution_count": 314,
   "metadata": {},
   "outputs": [
    {
     "name": "stdout",
     "output_type": "stream",
     "text": [
      "(12699, 12)\n",
      "(1190, 12)\n"
     ]
    }
   ],
   "source": [
    "train = pd.read_csv('files/train.csv')\n",
    "print(train.shape)\n",
    "pet_list = train['주증상명'].value_counts()[19:40].to_dict().keys()\n",
    "train['주증상명'] = train['주증상명'].apply(lambda x :  x if x in pet_list else np.nan)\n",
    "train = train[train['주증상명'] != '']\n",
    "train.dropna(subset=['주증상명'], inplace=True)\n",
    "# train['성별코드'] = train['성별코드'].apply(lambda x : re.sub('\\(.*\\)', '', str(x)))\n",
    "print(train.shape)\n",
    "\n",
    "from sklearn.preprocessing import LabelEncoder\n",
    "encoder = LabelEncoder()\n",
    "encoder.fit(train['주증상명'])\n",
    "train['label_id'] = encoder.transform(train['주증상명'])\n",
    "train.to_csv('files/symptoms_id_3rd.csv', index=None)"
   ]
  },
  {
   "cell_type": "code",
   "execution_count": 315,
   "metadata": {},
   "outputs": [
    {
     "data": {
      "text/html": [
       "<div>\n",
       "<style scoped>\n",
       "    .dataframe tbody tr th:only-of-type {\n",
       "        vertical-align: middle;\n",
       "    }\n",
       "\n",
       "    .dataframe tbody tr th {\n",
       "        vertical-align: top;\n",
       "    }\n",
       "\n",
       "    .dataframe thead th {\n",
       "        text-align: right;\n",
       "    }\n",
       "</style>\n",
       "<table border=\"1\" class=\"dataframe\">\n",
       "  <thead>\n",
       "    <tr style=\"text-align: right;\">\n",
       "      <th></th>\n",
       "      <th>품종</th>\n",
       "      <th>성별코드</th>\n",
       "      <th>주진단명코드</th>\n",
       "      <th>병원</th>\n",
       "      <th>SE</th>\n",
       "      <th>기타진단코드</th>\n",
       "      <th>기타증상코드</th>\n",
       "      <th>주진단명</th>\n",
       "      <th>질환</th>\n",
       "      <th>증상명</th>\n",
       "      <th>주증상명</th>\n",
       "      <th>len</th>\n",
       "      <th>label_id</th>\n",
       "    </tr>\n",
       "  </thead>\n",
       "  <tbody>\n",
       "    <tr>\n",
       "      <th>2</th>\n",
       "      <td>Jindo Dog(진도견)</td>\n",
       "      <td>M</td>\n",
       "      <td>normal</td>\n",
       "      <td>F_센트럴</td>\n",
       "      <td>hx 어제 저녁 time 경 멧돼지에게 공격당하여 왼쪽 뒷발 골절 평상시 건강상태 ...</td>\n",
       "      <td>X</td>\n",
       "      <td>77</td>\n",
       "      <td>NaN</td>\n",
       "      <td>NaN</td>\n",
       "      <td>골절</td>\n",
       "      <td>골절</td>\n",
       "      <td>155</td>\n",
       "      <td>2</td>\n",
       "    </tr>\n",
       "    <tr>\n",
       "      <th>14</th>\n",
       "      <td>Pekingese(페키니즈)</td>\n",
       "      <td>FS</td>\n",
       "      <td>2001</td>\n",
       "      <td>D_VIP</td>\n",
       "      <td>money 선결제 송이 통화 이후 턱 부위의 부종 및 후지 부종 등 보임 건대 재...</td>\n",
       "      <td>만성신부전</td>\n",
       "      <td>6</td>\n",
       "      <td>판막증 (의심 포함한 심장 잡음 + 심부전 증후 자)</td>\n",
       "      <td>순환기 질환</td>\n",
       "      <td>비강 분비 및 비출혈</td>\n",
       "      <td>비강 분비 및 비출혈</td>\n",
       "      <td>1342</td>\n",
       "      <td>9</td>\n",
       "    </tr>\n",
       "    <tr>\n",
       "      <th>46</th>\n",
       "      <td>Poodles(푸들)</td>\n",
       "      <td>FS</td>\n",
       "      <td>2082</td>\n",
       "      <td>D_VIP</td>\n",
       "      <td>time 전에 외출후 보호자님이 피 섞인 구토물 발견하심 갈색성 사료소화추정 및 ...</td>\n",
       "      <td>위장염</td>\n",
       "      <td>101,28,21</td>\n",
       "      <td>췌장염</td>\n",
       "      <td>간 · 담도계 및 췌장 질환</td>\n",
       "      <td>혈토,기력저하,식욕부진, 식욕저하</td>\n",
       "      <td>혈토</td>\n",
       "      <td>863</td>\n",
       "      <td>20</td>\n",
       "    </tr>\n",
       "    <tr>\n",
       "      <th>76</th>\n",
       "      <td>Shih Tzu(시추)</td>\n",
       "      <td>FS</td>\n",
       "      <td>2001</td>\n",
       "      <td>E_24시아이</td>\n",
       "      <td>부토파놀 amp hw kit mf ecg 호흡성부정맥 bg 패혈증 bp us 쿠싱 ...</td>\n",
       "      <td>2001/2245/2087</td>\n",
       "      <td>75,0</td>\n",
       "      <td>판막증 (의심 포함한 심장 잡음 + 심부전 증후 자)</td>\n",
       "      <td>순환기 질환</td>\n",
       "      <td>심잡음,기타 증상</td>\n",
       "      <td>심잡음</td>\n",
       "      <td>366</td>\n",
       "      <td>14</td>\n",
       "    </tr>\n",
       "    <tr>\n",
       "      <th>90</th>\n",
       "      <td>친칠라</td>\n",
       "      <td>MN</td>\n",
       "      <td>2095</td>\n",
       "      <td>C_잠실ON</td>\n",
       "      <td>cc month 전 부터 urinary incontinance. dribbling....</td>\n",
       "      <td>NaN</td>\n",
       "      <td>9</td>\n",
       "      <td>고양이 하부 요로 질환 FUS · FLUTD</td>\n",
       "      <td>비뇨기과 질환</td>\n",
       "      <td>배뇨실금</td>\n",
       "      <td>배뇨실금</td>\n",
       "      <td>59</td>\n",
       "      <td>7</td>\n",
       "    </tr>\n",
       "  </tbody>\n",
       "</table>\n",
       "</div>"
      ],
      "text/plain": [
       "                 품종              성별코드  주진단명코드       병원  \\\n",
       "2    Jindo Dog(진도견)  M                 normal    F_센트럴   \n",
       "14  Pekingese(페키니즈)                FS    2001    D_VIP   \n",
       "46      Poodles(푸들)                FS    2082    D_VIP   \n",
       "76     Shih Tzu(시추)  FS                  2001  E_24시아이   \n",
       "90              친칠라                MN    2095   C_잠실ON   \n",
       "\n",
       "                                                   SE          기타진단코드  \\\n",
       "2   hx 어제 저녁 time 경 멧돼지에게 공격당하여 왼쪽 뒷발 골절 평상시 건강상태 ...               X   \n",
       "14   money 선결제 송이 통화 이후 턱 부위의 부종 및 후지 부종 등 보임 건대 재...           만성신부전   \n",
       "46   time 전에 외출후 보호자님이 피 섞인 구토물 발견하심 갈색성 사료소화추정 및 ...             위장염   \n",
       "76  부토파놀 amp hw kit mf ecg 호흡성부정맥 bg 패혈증 bp us 쿠싱 ...  2001/2245/2087   \n",
       "90  cc month 전 부터 urinary incontinance. dribbling....             NaN   \n",
       "\n",
       "       기타증상코드                            주진단명                질환  \\\n",
       "2          77                             NaN               NaN   \n",
       "14          6   판막증 (의심 포함한 심장 잡음 + 심부전 증후 자)           순환기 질환    \n",
       "46  101,28,21                            췌장염    간 · 담도계 및 췌장 질환   \n",
       "76       75,0   판막증 (의심 포함한 심장 잡음 + 심부전 증후 자)           순환기 질환    \n",
       "90          9       고양이 하부 요로 질환 FUS · FLUTD           비뇨기과 질환    \n",
       "\n",
       "                   증상명         주증상명   len  label_id  \n",
       "2                   골절           골절   155         2  \n",
       "14         비강 분비 및 비출혈  비강 분비 및 비출혈  1342         9  \n",
       "46  혈토,기력저하,식욕부진, 식욕저하           혈토   863        20  \n",
       "76           심잡음,기타 증상          심잡음   366        14  \n",
       "90                배뇨실금         배뇨실금    59         7  "
      ]
     },
     "execution_count": 315,
     "metadata": {},
     "output_type": "execute_result"
    }
   ],
   "source": [
    "train.head()"
   ]
  },
  {
   "cell_type": "code",
   "execution_count": 316,
   "metadata": {},
   "outputs": [],
   "source": [
    "# train = pd.read_csv('files/train.csv')\n",
    "# print(train['주진단명'].value_counts()[50:90])\n",
    "# train['주진단명'].value_counts()[50:90].sum()"
   ]
  },
  {
   "cell_type": "code",
   "execution_count": 317,
   "metadata": {},
   "outputs": [
    {
     "name": "stdout",
     "output_type": "stream",
     "text": [
      "(12699, 12)\n",
      "(2930, 12)\n"
     ]
    }
   ],
   "source": [
    "train = pd.read_csv('files/train.csv')\n",
    "print(train.shape)\n",
    "pet_list = train['주진단명'].value_counts()[0:9].to_dict().keys()\n",
    "train['주진단명'] = train['주진단명'].apply(lambda x :  x if x in pet_list else np.nan)\n",
    "train = train[train['주진단명'] != '']\n",
    "train.dropna(subset=['주진단명'], inplace=True)\n",
    "# train['성별코드'] = train['성별코드'].apply(lambda x : re.sub('\\(.*\\)', '', str(x)))\n",
    "print(train.shape)\n",
    "\n",
    "from sklearn.preprocessing import LabelEncoder\n",
    "encoder = LabelEncoder()\n",
    "encoder.fit(train['주진단명'])\n",
    "train['label_id'] = encoder.transform(train['주진단명'])\n",
    "train.to_csv('files/diags_id_1st.csv', index=None)"
   ]
  },
  {
   "cell_type": "code",
   "execution_count": 318,
   "metadata": {},
   "outputs": [
    {
     "name": "stdout",
     "output_type": "stream",
     "text": [
      "(12699, 12)\n",
      "(1260, 12)\n"
     ]
    }
   ],
   "source": [
    "train = pd.read_csv('files/train.csv')\n",
    "print(train.shape)\n",
    "pet_list = train['주진단명'].value_counts()[9:20].to_dict().keys()\n",
    "train['주진단명'] = train['주진단명'].apply(lambda x :  x if x in pet_list else np.nan)\n",
    "train = train[train['주진단명'] != '']\n",
    "train.dropna(subset=['주진단명'], inplace=True)\n",
    "# train['성별코드'] = train['성별코드'].apply(lambda x : re.sub('\\(.*\\)', '', str(x)))\n",
    "print(train.shape)\n",
    "\n",
    "from sklearn.preprocessing import LabelEncoder\n",
    "encoder = LabelEncoder()\n",
    "encoder.fit(train['주진단명'])\n",
    "train['label_id'] = encoder.transform(train['주진단명'])\n",
    "train.to_csv('files/diags_id_2nd.csv', index=None)"
   ]
  },
  {
   "cell_type": "code",
   "execution_count": 319,
   "metadata": {},
   "outputs": [
    {
     "name": "stdout",
     "output_type": "stream",
     "text": [
      "(12699, 12)\n",
      "(1836, 12)\n"
     ]
    }
   ],
   "source": [
    "train = pd.read_csv('files/train.csv')\n",
    "print(train.shape)\n",
    "pet_list = train['주진단명'].value_counts()[20:50].to_dict().keys()\n",
    "train['주진단명'] = train['주진단명'].apply(lambda x :  x if x in pet_list else np.nan)\n",
    "train = train[train['주진단명'] != '']\n",
    "train.dropna(subset=['주진단명'], inplace=True)\n",
    "# train['성별코드'] = train['성별코드'].apply(lambda x : re.sub('\\(.*\\)', '', str(x)))\n",
    "print(train.shape)\n",
    "\n",
    "from sklearn.preprocessing import LabelEncoder\n",
    "encoder = LabelEncoder()\n",
    "encoder.fit(train['주진단명'])\n",
    "train['label_id'] = encoder.transform(train['주진단명'])\n",
    "train.to_csv('files/diags_id_3rd.csv', index=None)"
   ]
  },
  {
   "cell_type": "code",
   "execution_count": 320,
   "metadata": {},
   "outputs": [
    {
     "name": "stdout",
     "output_type": "stream",
     "text": [
      "(12699, 12)\n",
      "(1052, 12)\n"
     ]
    }
   ],
   "source": [
    "train = pd.read_csv('files/train.csv')\n",
    "print(train.shape)\n",
    "pet_list = train['주진단명'].value_counts()[50:90].to_dict().keys()\n",
    "train['주진단명'] = train['주진단명'].apply(lambda x :  x if x in pet_list else np.nan)\n",
    "train = train[train['주진단명'] != '']\n",
    "train.dropna(subset=['주진단명'], inplace=True)\n",
    "# train['성별코드'] = train['성별코드'].apply(lambda x : re.sub('\\(.*\\)', '', str(x)))\n",
    "print(train.shape)\n",
    "\n",
    "from sklearn.preprocessing import LabelEncoder\n",
    "encoder = LabelEncoder()\n",
    "encoder.fit(train['주진단명'])\n",
    "train['label_id'] = encoder.transform(train['주진단명'])\n",
    "train.to_csv('files/diags_id_4th.csv', index=None)"
   ]
  },
  {
   "cell_type": "code",
   "execution_count": 392,
   "metadata": {},
   "outputs": [],
   "source": [
    "# df = pd.read_csv('files/train.csv')\n",
    "# df.head()"
   ]
  },
  {
   "cell_type": "code",
   "execution_count": 29,
   "metadata": {},
   "outputs": [],
   "source": [
    "def label_group(df) :\n",
    "    for i in range(len(df)) :\n",
    "    #     print(str(df.loc[i, '주진단코드']).strip())\n",
    "        if str(df.loc[i, '주진단명코드']).strip() == '2092' or str(df.loc[i, '주진단명코드']).strip() == '2091':\n",
    "            df.loc[i, '주진단명T'] = '방광질환'\n",
    "        if str(df.loc[i, '주진단명코드']).strip() == '2031' or str(df.loc[i, '주진단명코드']).strip() == '2022':\n",
    "            df.loc[i, '주진단명T'] = '폐질환'\n",
    "        if str(df.loc[i, '주진단명코드']).strip() == '2001' or str(df.loc[i, '주진단명코드']).strip() == '2002':\n",
    "            df.loc[i, '주진단명T'] = '심장질환'\n",
    "        if str(df.loc[i, '주진단명코드']).strip() == '2048' or str(df.loc[i, '주진단명코드']).strip() == '2043':\n",
    "            df.loc[i, '주진단명T'] = '위장염'\n",
    "        if str(df.loc[i, '주진단명코드']).strip() == '2084' or str(df.loc[i, '주진단명코드']).strip() == '2081':\n",
    "            df.loc[i, '주진단명T'] = '간질환'\n",
    "        if str(df.loc[i, '주진단명']).strip() == '중성화':\n",
    "            df.loc[i, '주진단명T'] = '중성화'\n",
    "        if str(df.loc[i, '주진단명']).strip() == '건강검진':\n",
    "            df.loc[i, '주진단명T'] = '건강검진'\n",
    "        if str(df.loc[i, '주진단명코드']).strip() == '2046':\n",
    "            df.loc[i, '주진단명T'] = '소화관 이물'\n",
    "        if str(df.loc[i, '주진단명코드']).strip() == '2082':\n",
    "            df.loc[i, '주진단명T'] = '췌장염'\n",
    "        if str(df.loc[i, '주진단명코드']).strip() == '2087':\n",
    "            df.loc[i, '주진단명T'] = '신장질환'\n",
    "        if str(df.loc[i, '주진단명코드']).strip() == '2101':\n",
    "            df.loc[i, '주진단명T'] = '자궁 축농증'\n",
    "        if str(df.loc[i, '주진단명코드']).strip() == '2071':\n",
    "            df.loc[i, '주진단명T'] = '구토설사혈변'\n",
    "        if str(df.loc[i, '주진단명코드']).strip() == '2170':\n",
    "            df.loc[i, '주진단명T'] = '치주염'\n",
    "        if str(df.loc[i, '주진단명코드']).strip() == '2116':\n",
    "            df.loc[i, '주진단명T'] = '유선종양'\n",
    "        if str(df.loc[i, '주진단명코드']).strip() == '2095':\n",
    "            df.loc[i, '주진단명T'] = '고양이하부요로질환'\n",
    "        if str(df.loc[i, '주진단명코드']).strip() == '2126':\n",
    "            df.loc[i, '주진단명T'] = '경련 발작'\n",
    "        if str(df.loc[i, '주진단명코드']).strip() == '2185':\n",
    "            df.loc[i, '주진단명T'] = '슬개골탈구'\n",
    "        if str(df.loc[i, '주진단명코드']).strip() == '2274':\n",
    "            df.loc[i, '주진단명T'] = '교상'\n",
    "        if str(df.loc[i, '주진단명코드']).strip() == '2244':\n",
    "            df.loc[i, '주진단명T'] = '당뇨병'\n",
    "        if str(df.loc[i, '주진단명코드']).strip() == '슬개골탈구':\n",
    "            df.loc[i, '주진단명T'] = '슬개골탈구'\n",
    "        if str(df.loc[i, '주진단명코드']).strip() == '2257':\n",
    "            df.loc[i, '주진단명T'] = '인체 약물에 의한 중독'\n",
    "        if str(df.loc[i, '주진단명코드']).strip() == '2283':\n",
    "            df.loc[i, '주진단명T'] = '쇼크 증상'\n",
    "        if str(df.loc[i, '주진단명코드']).strip() == '2263':\n",
    "            df.loc[i, '주진단명T'] = '개 디스템퍼'\n",
    "        if str(df.loc[i, '주진단명코드']).strip() == '2049':\n",
    "            df.loc[i, '주진단명T'] = '개 파보 바이러스'\n",
    "        if str(df.loc[i, '주진단명코드']).strip() == '2273':\n",
    "            df.loc[i, '주진단명T'] = '외상 (타박상 / 찰과상 / 타박상)'\n",
    "\n",
    "            df.loc[i, '주진단명T'] = '외상 (타박상 / 찰과상 / 타박상)'\n",
    "        if str(df.loc[i, '주진단명코드']).strip() == '2255':\n",
    "            df.loc[i, '주진단명T'] = '초콜릿 중독'\n",
    "        if str(df.loc[i, '주진단명코드']).strip() == '2119':\n",
    "            df.loc[i, '주진단명T'] = '간질'\n",
    "        if str(df.loc[i, '주진단명코드']).strip() == '2267':\n",
    "            df.loc[i, '주진단명T'] = '고양이 복막염'\n",
    "        if str(df.loc[i, '주진단명코드']).strip() == '2259':\n",
    "            df.loc[i, '주진단명T'] = '다른 중독 질환'\n",
    "        if str(df.loc[i, '주진단명코드']).strip() == '2193':\n",
    "            df.loc[i, '주진단명T'] = '골절'\n",
    "\n",
    "        if str(df.loc[i, '주진단명코드']).strip() == '스케일링':\n",
    "            df.loc[i, '주진단명T'] = '스케일링'\n",
    "        if str(df.loc[i, '주진단명코드']).strip() == '2120' or str(df.loc[i, '주진단명코드']).strip() == '2121':\n",
    "            df.loc[i, '주진단명T'] = '수막염 뇌수종'\n",
    "        if str(df.loc[i, '주진단명코드']).strip() == '2021':\n",
    "            df.loc[i, '주진단명T'] = '기관 허탈'\n",
    "        if str(df.loc[i, '주진단명코드']).strip() == '2058':\n",
    "            df.loc[i, '주진단명T'] = '장질환'\n",
    "\n",
    "        if str(df.loc[i, '주진단명코드']).strip() == '2232':\n",
    "            df.loc[i, '주진단명T'] = '혈소판 감소증'\n",
    "        if str(df.loc[i, '주진단명코드']).strip() == '2233':\n",
    "            df.loc[i, '주진단명T'] = '비장 이상'\n",
    "        if str(df.loc[i, '주진단명코드']).strip() == '2090':\n",
    "            df.loc[i, '주진단명T'] = '급성신부전'\n",
    "        if str(df.loc[i, '주진단명코드']).strip() == '2014':\n",
    "            df.loc[i, '주진단명T'] = '심장사상충'\n",
    "        if str(df.loc[i, '주진단명코드']).strip() == '2230':\n",
    "            df.loc[i, '주진단명T'] = '빈혈'\n",
    "\n",
    "        if str(df.loc[i, '주진단명코드']).strip() == '2171':\n",
    "            df.loc[i, '주진단명T'] = '치근 농양'\n",
    "        if str(df.loc[i, '주진단명코드']).strip() == '2178':\n",
    "            df.loc[i, '주진단명T'] = '구내염'\n",
    "        if str(df.loc[i, '주진단명코드']).strip() == '2181':\n",
    "            df.loc[i, '주진단명T'] = '추간판탈출증'\n",
    "        if str(df.loc[i, '주진단명코드']).strip() == '2245':\n",
    "            df.loc[i, '주진단명T'] = '신피질 커싱'\n",
    "        if str(df.loc[i, '주진단명코드']).strip() == '골절':\n",
    "            df.loc[i, '주진단명T'] = '골절'\n",
    "\n",
    "        if str(df.loc[i, '주진단명코드']).strip() == '2075':\n",
    "            df.loc[i, '주진단명T'] = '지방간'\n",
    "        if str(df.loc[i, '주진단명코드']).strip() == '2122':\n",
    "            df.loc[i, '주진단명T'] = '뇌질환'\n",
    "        if str(df.loc[i, '주진단명코드']).strip() == '2094':\n",
    "            df.loc[i, '주진단명T'] = '결석증'\n",
    "        if str(df.loc[i, '주진단명코드']).strip() == '2061':\n",
    "            df.loc[i, '주진단명T'] = '항문낭'\n",
    "        if str(df.loc[i, '주진단명코드']).strip() == '2236':\n",
    "            df.loc[i, '주진단명T'] = '고양이 백혈구 감소증'\n",
    "\n",
    "        if str(df.loc[i, '주진단명코드']).strip() == '2032':\n",
    "            df.loc[i, '주진단명T'] = '흉수'\n",
    "        if str(df.loc[i, '주진단명코드']).strip() == '2240':\n",
    "            df.loc[i, '주진단명T'] = '림프종'\n",
    "        if str(df.loc[i, '주진단명코드']).strip() == '2004':\n",
    "            df.loc[i, '주진단명T'] = '심근증'\n",
    "        if str(df.loc[i, '주진단명코드']).strip() == '2093':\n",
    "            df.loc[i, '주진단명T'] = '요도폐색'\n",
    "        if str(df.loc[i, '주진단명코드']).strip() == '2179':\n",
    "            df.loc[i, '주진단명T'] = '구강내 종양'\n",
    "\n",
    "        if str(df.loc[i, '주진단명코드']).strip() == '2231':\n",
    "            df.loc[i, '주진단명T'] = '빈혈'\n",
    "        if str(df.loc[i, '주진단명코드']).strip() == '2077':\n",
    "            df.loc[i, '주진단명T'] = '문맥션트'   \n",
    "    df['주진단명T'] = df['주진단명T'].apply(lambda x : np.nan if str(x) == '' else x)\n",
    "    print(df.shape)\n",
    "    df.dropna(subset=['주진단명T'], inplace=True)\n",
    "    print(df.shape) \n",
    "    main_diag_dict = df['주진단명T'].value_counts()[0:18].to_dict()\n",
    "    df['주진단명T'] = df['주진단명T'].apply(lambda x : x if str(x) in main_diag_dict.keys() else np.nan)\n",
    "    df.dropna(subset=['주진단명T'], inplace=True)\n",
    "    print(df.shape)         \n",
    "        \n",
    "    return df"
   ]
  },
  {
   "cell_type": "code",
   "execution_count": 19,
   "metadata": {},
   "outputs": [
    {
     "name": "stdout",
     "output_type": "stream",
     "text": [
      "(12699, 13)\n",
      "(6424, 13)\n",
      "(4674, 13)\n"
     ]
    }
   ],
   "source": [
    "train = pd.read_csv('files/train.csv')\n",
    "train['주진단명T'] = ''\n",
    "train = label_group(train)  \n",
    "\n",
    "from sklearn.preprocessing import LabelEncoder\n",
    "encoder = LabelEncoder()\n",
    "encoder.fit(train['주진단명T'])\n",
    "train['label_id'] = encoder.transform(train['주진단명T'])\n",
    "train.to_csv('files/train3.csv', index=None)"
   ]
  },
  {
   "cell_type": "code",
   "execution_count": 20,
   "metadata": {},
   "outputs": [],
   "source": [
    "train = pd.read_csv('files/train3.csv')\n",
    "label_dict = {}  \n",
    "for i in range(len(train)) :\n",
    "    label_dict[train.loc[i, '주진단명T']] = int(train.loc[i, 'label_id'])"
   ]
  },
  {
   "cell_type": "code",
   "execution_count": 34,
   "metadata": {},
   "outputs": [
    {
     "data": {
      "text/plain": [
       "{'치주염': 16,\n",
       " '위장염': 12,\n",
       " '췌장염': 15,\n",
       " '유선종양': 13,\n",
       " '자궁 축농증': 14,\n",
       " '심장질환': 11,\n",
       " '소화관 이물': 7,\n",
       " '신장질환': 10,\n",
       " '구토설사혈변': 3,\n",
       " '방광질환': 5,\n",
       " '슬개골탈구': 9,\n",
       " '경련 발작': 1,\n",
       " '고양이하부요로질환': 2,\n",
       " '폐질환': 17,\n",
       " '간질환': 0,\n",
       " '당뇨병': 4,\n",
       " '수막염 뇌수종': 8,\n",
       " '빈혈': 6}"
      ]
     },
     "execution_count": 34,
     "metadata": {},
     "output_type": "execute_result"
    }
   ],
   "source": [
    "label_dict"
   ]
  },
  {
   "cell_type": "code",
   "execution_count": 35,
   "metadata": {},
   "outputs": [
    {
     "name": "stdout",
     "output_type": "stream",
     "text": [
      "(2242, 12)\n",
      "(2242, 13)\n",
      "(1144, 13)\n",
      "(868, 13)\n"
     ]
    }
   ],
   "source": [
    "import numpy as np\n",
    "test = pd.read_csv('files/test.csv')\n",
    "print(test.shape)\n",
    "test = label_group(test)\n",
    "test = test.reset_index(drop=False)\n",
    "\n",
    "test['label_id'] = 99\n",
    "for i in range(len(test)) :\n",
    "    if test.loc[i, '주진단명T'] in label_dict.keys() :\n",
    "        test.loc[i, 'label_id'] = int(label_dict[test.loc[i, '주진단명T']])\n",
    "    else :\n",
    "        test.loc[i, 'label_id'] = np.nan"
   ]
  },
  {
   "cell_type": "code",
   "execution_count": 41,
   "metadata": {},
   "outputs": [
    {
     "name": "stdout",
     "output_type": "stream",
     "text": [
      "(813, 15)\n",
      "(813, 15)\n"
     ]
    }
   ],
   "source": [
    "print(test.shape)\n",
    "test.dropna(subset=['SE'], inplace=True)\n",
    "test.dropna(subset=['label_id'], inplace=True)\n",
    "print(test.shape)\n",
    "test.label_id = test.label_id.apply(lambda x : int(x))\n",
    "test.to_csv('files/test3.csv', index=None)"
   ]
  },
  {
   "cell_type": "code",
   "execution_count": null,
   "metadata": {},
   "outputs": [],
   "source": []
  },
  {
   "cell_type": "code",
   "execution_count": 322,
   "metadata": {},
   "outputs": [
    {
     "name": "stdout",
     "output_type": "stream",
     "text": [
      "(12699, 12)\n",
      "(4190, 12)\n"
     ]
    }
   ],
   "source": [
    "# train = pd.read_csv('files/train.csv')\n",
    "# print(train.shape)\n",
    "# pet_list = train['주진단명'].value_counts()[0:20].to_dict().keys()\n",
    "# train['주진단명'] = train['주진단명'].apply(lambda x :  x if x in pet_list else np.nan)\n",
    "# train = train[train['주진단명'] != '']\n",
    "# train.dropna(subset=['주진단명'], inplace=True)\n",
    "# # train['성별코드'] = train['성별코드'].apply(lambda x : re.sub('\\(.*\\)', '', str(x)))\n",
    "# print(train.shape)\n",
    "\n",
    "# from sklearn.preprocessing import LabelEncoder\n",
    "# encoder = LabelEncoder()\n",
    "# encoder.fit(train['주진단명'])\n",
    "# train['label_id'] = encoder.transform(train['주진단명'])\n",
    "# train.to_csv('files/train1.csv', index=None)"
   ]
  },
  {
   "cell_type": "code",
   "execution_count": 333,
   "metadata": {},
   "outputs": [],
   "source": [
    "# import pandas as pd\n",
    "# train = pd.read_csv('files/train1.csv')\n",
    "# label_dict = {}  \n",
    "# for i in range(len(train)) :\n",
    "#     label_dict[train.loc[i, '주진단명']] = int(train.loc[i, 'label_id'])\n",
    "    "
   ]
  },
  {
   "cell_type": "code",
   "execution_count": null,
   "metadata": {},
   "outputs": [],
   "source": []
  },
  {
   "cell_type": "code",
   "execution_count": 39,
   "metadata": {},
   "outputs": [],
   "source": [
    "# import numpy as np\n",
    "# test = pd.read_csv('files/test.csv')\n",
    "# print(test.shape)\n",
    "# test['label_id'] = 0\n",
    "# for i in range(len(test)) :\n",
    "#     if test.loc[i, '주진단명'] in label_dict.keys() :\n",
    "#         test.loc[i, 'label_id'] = int(label_dict[test.loc[i, '주진단명']])\n",
    "#     else :\n",
    "#         test.loc[i, 'label_id'] = np.nan\n"
   ]
  },
  {
   "cell_type": "code",
   "execution_count": 337,
   "metadata": {},
   "outputs": [
    {
     "name": "stdout",
     "output_type": "stream",
     "text": [
      "(2242, 13)\n",
      "(794, 13)\n"
     ]
    }
   ],
   "source": [
    "# print(test.shape)\n",
    "# test.dropna(subset=['SE'], inplace=True)\n",
    "# test.dropna(subset=['label_id'], inplace=True)\n",
    "# print(test.shape)\n",
    "# test.label_id = test.label_id.apply(lambda x : int(x))"
   ]
  },
  {
   "cell_type": "code",
   "execution_count": null,
   "metadata": {},
   "outputs": [],
   "source": []
  },
  {
   "cell_type": "code",
   "execution_count": 339,
   "metadata": {},
   "outputs": [],
   "source": [
    "# test.to_csv('files/test1.csv', index=None)"
   ]
  },
  {
   "cell_type": "code",
   "execution_count": 329,
   "metadata": {},
   "outputs": [],
   "source": [
    "# test.head()"
   ]
  },
  {
   "cell_type": "code",
   "execution_count": 52,
   "metadata": {},
   "outputs": [
    {
     "data": {
      "text/html": [
       "<div>\n",
       "<style scoped>\n",
       "    .dataframe tbody tr th:only-of-type {\n",
       "        vertical-align: middle;\n",
       "    }\n",
       "\n",
       "    .dataframe tbody tr th {\n",
       "        vertical-align: top;\n",
       "    }\n",
       "\n",
       "    .dataframe thead th {\n",
       "        text-align: right;\n",
       "    }\n",
       "</style>\n",
       "<table border=\"1\" class=\"dataframe\">\n",
       "  <thead>\n",
       "    <tr style=\"text-align: right;\">\n",
       "      <th></th>\n",
       "      <th>index</th>\n",
       "      <th>품종</th>\n",
       "      <th>성별코드</th>\n",
       "      <th>주진단명코드</th>\n",
       "      <th>병원</th>\n",
       "      <th>SE</th>\n",
       "      <th>기타진단코드</th>\n",
       "      <th>기타증상코드</th>\n",
       "      <th>주진단명</th>\n",
       "      <th>질환</th>\n",
       "      <th>증상명</th>\n",
       "      <th>주증상명</th>\n",
       "      <th>len</th>\n",
       "      <th>주진단명T</th>\n",
       "      <th>label_id</th>\n",
       "    </tr>\n",
       "  </thead>\n",
       "  <tbody>\n",
       "    <tr>\n",
       "      <th>0</th>\n",
       "      <td>0</td>\n",
       "      <td>Pomeranian(포메라이안)</td>\n",
       "      <td>MN</td>\n",
       "      <td>2126</td>\n",
       "      <td>D_VIP</td>\n",
       "      <td>s 발작 차발작 tc 심비대 진단 받으심. 요즘 밤에 기침을 많이함. 음수량이 전보...</td>\n",
       "      <td>MVI,</td>\n",
       "      <td>16,5</td>\n",
       "      <td>경련 발작 (원인 미정)</td>\n",
       "      <td>신경 질환</td>\n",
       "      <td>발작,기침</td>\n",
       "      <td>발작</td>\n",
       "      <td>705</td>\n",
       "      <td>경련 발작</td>\n",
       "      <td>1</td>\n",
       "    </tr>\n",
       "    <tr>\n",
       "      <th>1</th>\n",
       "      <td>2</td>\n",
       "      <td>Maltese(말티즈)</td>\n",
       "      <td>MN</td>\n",
       "      <td>2048</td>\n",
       "      <td>B_W</td>\n",
       "      <td>버섯파니니를 month 전 훔쳐먹고 어제는 이상없었으나 오늘 구토 오후에 회 내원시...</td>\n",
       "      <td>NaN</td>\n",
       "      <td>1,2</td>\n",
       "      <td>세균성 장염</td>\n",
       "      <td>소화기 질환</td>\n",
       "      <td>구토(급성/만성),설사(급성 소장성/급성 대장성/만성 소장성/만성 대장성)</td>\n",
       "      <td>구토(급성/만성)</td>\n",
       "      <td>505</td>\n",
       "      <td>위장염</td>\n",
       "      <td>12</td>\n",
       "    </tr>\n",
       "    <tr>\n",
       "      <th>2</th>\n",
       "      <td>10</td>\n",
       "      <td>Shih Tzu(시추)</td>\n",
       "      <td>MN</td>\n",
       "      <td>2001</td>\n",
       "      <td>H</td>\n",
       "      <td>부토판 앰플 cc dyspnea hx 새벽에 쎄 쎄 쎄 하는 소리가 들림 기침을 종...</td>\n",
       "      <td>NaN</td>\n",
       "      <td>NaN</td>\n",
       "      <td>판막증 (의심 포함한 심장 잡음 + 심부전 증후 자)</td>\n",
       "      <td>순환기 질환</td>\n",
       "      <td>NaN</td>\n",
       "      <td>NaN</td>\n",
       "      <td>431</td>\n",
       "      <td>심장질환</td>\n",
       "      <td>11</td>\n",
       "    </tr>\n",
       "    <tr>\n",
       "      <th>3</th>\n",
       "      <td>12</td>\n",
       "      <td>Shih Tzu(시추)</td>\n",
       "      <td>FS</td>\n",
       "      <td>2043</td>\n",
       "      <td>E_24시아이</td>\n",
       "      <td>구토 설사 혈변 식욕 활기 없음 구토 회 거품구토 설사 혈변 저체온. 먹고 체한 ...</td>\n",
       "      <td>NaN</td>\n",
       "      <td>1,2,42,21,28,78</td>\n",
       "      <td>위염 / 위장염 / 장염</td>\n",
       "      <td>소화기 질환</td>\n",
       "      <td>구토(급성/만성),설사(급성 소장성/급성 대장성/만성 소장성/만성 대장성),혈변,식...</td>\n",
       "      <td>구토(급성/만성)</td>\n",
       "      <td>119</td>\n",
       "      <td>위장염</td>\n",
       "      <td>12</td>\n",
       "    </tr>\n",
       "    <tr>\n",
       "      <th>4</th>\n",
       "      <td>14</td>\n",
       "      <td>NaN</td>\n",
       "      <td>F</td>\n",
       "      <td>2046</td>\n",
       "      <td>B_W</td>\n",
       "      <td>파양이 되어 데려왔음 month 전 건강검진을 하고 데려 왔는데 다른문제는 없었음 ...</td>\n",
       "      <td>NaN</td>\n",
       "      <td>NaN</td>\n",
       "      <td>소화관 이물 / 섭취</td>\n",
       "      <td>소화기 질환</td>\n",
       "      <td>NaN</td>\n",
       "      <td>NaN</td>\n",
       "      <td>117</td>\n",
       "      <td>소화관 이물</td>\n",
       "      <td>7</td>\n",
       "    </tr>\n",
       "  </tbody>\n",
       "</table>\n",
       "</div>"
      ],
      "text/plain": [
       "   index                 품종              성별코드 주진단명코드       병원  \\\n",
       "0      0  Pomeranian(포메라이안)                MN   2126    D_VIP   \n",
       "1      2       Maltese(말티즈)                MN   2048      B_W   \n",
       "2     10       Shih Tzu(시추)  MN                 2001        H   \n",
       "3     12       Shih Tzu(시추)  FS                 2043  E_24시아이   \n",
       "4     14                NaN                 F   2046      B_W   \n",
       "\n",
       "                                                  SE 기타진단코드           기타증상코드  \\\n",
       "0  s 발작 차발작 tc 심비대 진단 받으심. 요즘 밤에 기침을 많이함. 음수량이 전보...  MVI,              16,5   \n",
       "1  버섯파니니를 month 전 훔쳐먹고 어제는 이상없었으나 오늘 구토 오후에 회 내원시...    NaN              1,2   \n",
       "2  부토판 앰플 cc dyspnea hx 새벽에 쎄 쎄 쎄 하는 소리가 들림 기침을 종...    NaN              NaN   \n",
       "3   구토 설사 혈변 식욕 활기 없음 구토 회 거품구토 설사 혈변 저체온. 먹고 체한 ...    NaN  1,2,42,21,28,78   \n",
       "4  파양이 되어 데려왔음 month 전 건강검진을 하고 데려 왔는데 다른문제는 없었음 ...    NaN              NaN   \n",
       "\n",
       "                             주진단명        질환  \\\n",
       "0                  경련 발작 (원인 미정)     신경 질환    \n",
       "1                         세균성 장염    소화기 질환    \n",
       "2   판막증 (의심 포함한 심장 잡음 + 심부전 증후 자)   순환기 질환    \n",
       "3                  위염 / 위장염 / 장염    소화기 질환    \n",
       "4                    소화관 이물 / 섭취    소화기 질환    \n",
       "\n",
       "                                                 증상명       주증상명  len   주진단명T  \\\n",
       "0                                              발작,기침         발작  705   경련 발작   \n",
       "1          구토(급성/만성),설사(급성 소장성/급성 대장성/만성 소장성/만성 대장성)  구토(급성/만성)  505     위장염   \n",
       "2                                                NaN        NaN  431    심장질환   \n",
       "3  구토(급성/만성),설사(급성 소장성/급성 대장성/만성 소장성/만성 대장성),혈변,식...  구토(급성/만성)  119     위장염   \n",
       "4                                                NaN        NaN  117  소화관 이물   \n",
       "\n",
       "   label_id  \n",
       "0         1  \n",
       "1        12  \n",
       "2        11  \n",
       "3        12  \n",
       "4         7  "
      ]
     },
     "execution_count": 52,
     "metadata": {},
     "output_type": "execute_result"
    }
   ],
   "source": [
    "temp = pd.read_csv('files/test1.csv')\n",
    "temp.head()"
   ]
  },
  {
   "cell_type": "code",
   "execution_count": 53,
   "metadata": {},
   "outputs": [],
   "source": [
    "temp = temp[0:10]"
   ]
  },
  {
   "cell_type": "code",
   "execution_count": 54,
   "metadata": {},
   "outputs": [],
   "source": [
    "t1, t2 = train_test_split(temp,test_size=0.15, random_state=100 )"
   ]
  },
  {
   "cell_type": "code",
   "execution_count": null,
   "metadata": {},
   "outputs": [],
   "source": []
  },
  {
   "cell_type": "code",
   "execution_count": null,
   "metadata": {},
   "outputs": [],
   "source": []
  }
 ],
 "metadata": {
  "kernelspec": {
   "display_name": "Python 3",
   "language": "python",
   "name": "python3"
  },
  "language_info": {
   "codemirror_mode": {
    "name": "ipython",
    "version": 3
   },
   "file_extension": ".py",
   "mimetype": "text/x-python",
   "name": "python",
   "nbconvert_exporter": "python",
   "pygments_lexer": "ipython3",
   "version": "3.6.9"
  }
 },
 "nbformat": 4,
 "nbformat_minor": 4
}
