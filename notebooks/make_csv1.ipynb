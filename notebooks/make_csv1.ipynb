{
 "cells": [
  {
   "cell_type": "code",
   "execution_count": 1,
   "metadata": {},
   "outputs": [],
   "source": [
    "import pandas as pd\n",
    "import numpy as np\n",
    "import sys\n",
    "sys.path.append('../')\n",
    "from preprop import *"
   ]
  },
  {
   "cell_type": "code",
   "execution_count": 5,
   "metadata": {},
   "outputs": [
    {
     "data": {
      "text/plain": [
       "(17458, 10)"
      ]
     },
     "execution_count": 5,
     "metadata": {},
     "output_type": "execute_result"
    }
   ],
   "source": [
    "df = pd.read_csv('samples/pet.label.csv')\n",
    "df.shape"
   ]
  },
  {
   "cell_type": "code",
   "execution_count": 6,
   "metadata": {},
   "outputs": [
    {
     "data": {
      "text/html": [
       "<div>\n",
       "<style scoped>\n",
       "    .dataframe tbody tr th:only-of-type {\n",
       "        vertical-align: middle;\n",
       "    }\n",
       "\n",
       "    .dataframe tbody tr th {\n",
       "        vertical-align: top;\n",
       "    }\n",
       "\n",
       "    .dataframe thead th {\n",
       "        text-align: right;\n",
       "    }\n",
       "</style>\n",
       "<table border=\"1\" class=\"dataframe\">\n",
       "  <thead>\n",
       "    <tr style=\"text-align: right;\">\n",
       "      <th></th>\n",
       "      <th>보호자명</th>\n",
       "      <th>환자명</th>\n",
       "      <th>품종코드</th>\n",
       "      <th>생일</th>\n",
       "      <th>성별코드</th>\n",
       "      <th>검사일</th>\n",
       "      <th>병원</th>\n",
       "      <th>주진단코드</th>\n",
       "      <th>진단코드</th>\n",
       "      <th>SE</th>\n",
       "    </tr>\n",
       "  </thead>\n",
       "  <tbody>\n",
       "    <tr>\n",
       "      <th>0</th>\n",
       "      <td>김소야*7</td>\n",
       "      <td>코코</td>\n",
       "      <td>91.0</td>\n",
       "      <td>2001-05-03 00:00:00</td>\n",
       "      <td>MN</td>\n",
       "      <td>2018-07-04 10:51:01.657</td>\n",
       "      <td>D</td>\n",
       "      <td>2078</td>\n",
       "      <td>2078,만성신질환, 신장결석, 방광염</td>\n",
       "      <td>S) 식욕부진, 기력저하, 눈    O)  - 2일동안 식욕이 거의 없어서 보호자분...</td>\n",
       "    </tr>\n",
       "    <tr>\n",
       "      <th>1</th>\n",
       "      <td>이지은*6</td>\n",
       "      <td>힘찬이</td>\n",
       "      <td>119.0</td>\n",
       "      <td>2007-06-04 00:00:00</td>\n",
       "      <td>MN</td>\n",
       "      <td>2018-04-26 11:33:10.467</td>\n",
       "      <td>D</td>\n",
       "      <td>2244</td>\n",
       "      <td>2244,담낭점액종</td>\n",
       "      <td>S) 다음다뇨, 식욕부진    O)  - 최근들어 다음다뇨 증상과 2~3일전부터는 ...</td>\n",
       "    </tr>\n",
       "    <tr>\n",
       "      <th>2</th>\n",
       "      <td>홍성미</td>\n",
       "      <td>비쥬</td>\n",
       "      <td>499.0</td>\n",
       "      <td>2004-01-01 00:00:00</td>\n",
       "      <td>FS</td>\n",
       "      <td>2018-07-20 14:48:07.967</td>\n",
       "      <td>D</td>\n",
       "      <td>2082</td>\n",
       "      <td>2082,만성신질환, 부비동염</td>\n",
       "      <td>[오전 통화 by 관중]  - 일주일동안 밥안먹고, 활력저하됨  - 보호자님 복부촉...</td>\n",
       "    </tr>\n",
       "    <tr>\n",
       "      <th>3</th>\n",
       "      <td>김래경</td>\n",
       "      <td>세순이</td>\n",
       "      <td>107.0</td>\n",
       "      <td>2001-08-01 00:00:00</td>\n",
       "      <td>FS</td>\n",
       "      <td>2017-06-16 14:56:11.267</td>\n",
       "      <td>D</td>\n",
       "      <td>2087</td>\n",
       "      <td>2087,단백뇨, 쿠싱, 빈혈</td>\n",
       "      <td>1. 쿠싱약 안먹고 와서 쿠싱검사는 28일에 하기로 함  2. 흉방에서 CVC 허탈...</td>\n",
       "    </tr>\n",
       "    <tr>\n",
       "      <th>4</th>\n",
       "      <td>김지현*6</td>\n",
       "      <td>효</td>\n",
       "      <td>125.0</td>\n",
       "      <td>2009-11-05 00:00:00</td>\n",
       "      <td>MN</td>\n",
       "      <td>2018-02-28 10:26:20.280</td>\n",
       "      <td>D</td>\n",
       "      <td>2081</td>\n",
       "      <td>2081,방광결석</td>\n",
       "      <td>S) 건강검진 진행함    O)  1. 혈액검사  - 간수치 상승(ALP, ALT ...</td>\n",
       "    </tr>\n",
       "  </tbody>\n",
       "</table>\n",
       "</div>"
      ],
      "text/plain": [
       "                                    보호자명  \\\n",
       "0  김소야*7                                   \n",
       "1  이지은*6                                   \n",
       "2  홍성미                                     \n",
       "3  김래경                                     \n",
       "4  김지현*6                                   \n",
       "\n",
       "                                       환자명   품종코드                   생일 성별코드  \\\n",
       "0   코코                                       91.0  2001-05-03 00:00:00   MN   \n",
       "1    힘찬이                                    119.0  2007-06-04 00:00:00   MN   \n",
       "2   비쥬                                      499.0  2004-01-01 00:00:00   FS   \n",
       "3    세순이                                    107.0  2001-08-01 00:00:00   FS   \n",
       "4  효                                        125.0  2009-11-05 00:00:00   MN   \n",
       "\n",
       "                       검사일 병원 주진단코드                   진단코드  \\\n",
       "0  2018-07-04 10:51:01.657  D  2078  2078,만성신질환, 신장결석, 방광염   \n",
       "1  2018-04-26 11:33:10.467  D  2244             2244,담낭점액종   \n",
       "2  2018-07-20 14:48:07.967  D  2082       2082,만성신질환, 부비동염   \n",
       "3  2017-06-16 14:56:11.267  D  2087       2087,단백뇨, 쿠싱, 빈혈   \n",
       "4  2018-02-28 10:26:20.280  D  2081              2081,방광결석   \n",
       "\n",
       "                                                  SE  \n",
       "0  S) 식욕부진, 기력저하, 눈    O)  - 2일동안 식욕이 거의 없어서 보호자분...  \n",
       "1  S) 다음다뇨, 식욕부진    O)  - 최근들어 다음다뇨 증상과 2~3일전부터는 ...  \n",
       "2  [오전 통화 by 관중]  - 일주일동안 밥안먹고, 활력저하됨  - 보호자님 복부촉...  \n",
       "3  1. 쿠싱약 안먹고 와서 쿠싱검사는 28일에 하기로 함  2. 흉방에서 CVC 허탈...  \n",
       "4  S) 건강검진 진행함    O)  1. 혈액검사  - 간수치 상승(ALP, ALT ...  "
      ]
     },
     "execution_count": 6,
     "metadata": {},
     "output_type": "execute_result"
    }
   ],
   "source": [
    "df.head()"
   ]
  },
  {
   "cell_type": "code",
   "execution_count": 7,
   "metadata": {},
   "outputs": [
    {
     "name": "stdout",
     "output_type": "stream",
     "text": [
      "(17458, 10)\n",
      "(15974, 10)\n"
     ]
    }
   ],
   "source": [
    "print(df.shape)\n",
    "df.dropna(subset=['SE'], inplace=True)\n",
    "print(df.shape)\n",
    "# df.dropna(subset=['주진단코드'], inplace=True)\n",
    "# print(df.shape)"
   ]
  },
  {
   "cell_type": "code",
   "execution_count": 8,
   "metadata": {},
   "outputs": [
    {
     "name": "stdout",
     "output_type": "stream",
     "text": [
      "(15974, 11)\n",
      "(15267, 11)\n"
     ]
    }
   ],
   "source": [
    "df['len'] = df.SE.apply(lambda x : len(str(x)))\n",
    "print(df.shape)\n",
    "df = df[df['len'] > 50]\n",
    "df = df[df['len'] < 5000]\n",
    "print(df.shape)"
   ]
  },
  {
   "cell_type": "code",
   "execution_count": 9,
   "metadata": {},
   "outputs": [],
   "source": [
    "df.SE = df.SE.apply(lambda x : preprocess(str(x)))"
   ]
  },
  {
   "cell_type": "code",
   "execution_count": 10,
   "metadata": {},
   "outputs": [],
   "source": [
    "df['주진단코드'] = df['주진단코드'].apply(lambda x : label_regex(x))"
   ]
  },
  {
   "cell_type": "code",
   "execution_count": 60,
   "metadata": {},
   "outputs": [],
   "source": [
    "# df['주진단코드'].value_counts()[0:60]"
   ]
  },
  {
   "cell_type": "code",
   "execution_count": 61,
   "metadata": {},
   "outputs": [
    {
     "name": "stdout",
     "output_type": "stream",
     "text": [
      "(13577, 11)\n",
      "(12224, 11)\n"
     ]
    }
   ],
   "source": [
    "print(df.shape)\n",
    "df = df[df['주진단코드']!='normal']\n",
    "print(df.shape)"
   ]
  },
  {
   "cell_type": "code",
   "execution_count": 70,
   "metadata": {},
   "outputs": [
    {
     "data": {
      "text/plain": [
       "3713"
      ]
     },
     "execution_count": 70,
     "metadata": {},
     "output_type": "execute_result"
    }
   ],
   "source": [
    "df['주진단코드'].value_counts()[20:80].sum()"
   ]
  },
  {
   "cell_type": "code",
   "execution_count": 71,
   "metadata": {},
   "outputs": [],
   "source": [
    "label_dict = df['주진단코드'].value_counts()[20:80].to_dict()\n",
    "def make_label_id(label) :\n",
    "    if not label in label_dict.keys() :\n",
    "        label = np.nan\n",
    "    return label"
   ]
  },
  {
   "cell_type": "code",
   "execution_count": 72,
   "metadata": {},
   "outputs": [
    {
     "name": "stdout",
     "output_type": "stream",
     "text": [
      "(12224, 12)\n",
      "(3713, 12)\n"
     ]
    }
   ],
   "source": [
    "df['label_id'] = ''\n",
    "df['label_id'] = df['주진단코드'].apply(lambda x : make_label_id(x))\n",
    "print(df.shape)\n",
    "df.dropna(subset=['label_id'], inplace=True)\n",
    "print(df.shape)"
   ]
  },
  {
   "cell_type": "code",
   "execution_count": 11,
   "metadata": {},
   "outputs": [],
   "source": [
    "df = df.reset_index()"
   ]
  },
  {
   "cell_type": "code",
   "execution_count": null,
   "metadata": {},
   "outputs": [],
   "source": [
    "diag = pd.read_csv('samples/diag.csv')\n",
    "diag['질병코드'] = diag['질병코드'].apply(lambda x : str(x).split('.')[0])\n",
    "diag.head()"
   ]
  },
  {
   "cell_type": "code",
   "execution_count": 15,
   "metadata": {},
   "outputs": [],
   "source": [
    "# diag['질병코드'].to_list()"
   ]
  },
  {
   "cell_type": "code",
   "execution_count": 75,
   "metadata": {},
   "outputs": [],
   "source": [
    "df['질병명'] = ''\n",
    "for i in range(len(df)) :\n",
    "#     print(i)\n",
    "#     diag = df_diag[df.loc[i, '진단코드'] == df_diag['질병코드']]['질병명(한글)']\n",
    "#     print(df.loc[i, '질병명'])\n",
    "#     print(df.loc[i, '주진단코드'])\n",
    "    if str(df.loc[i, '주진단코드']).strip() in diag['질병코드'].to_list() :\n",
    "#         print(df.loc[i, '주진단코드'])\n",
    "#         print(diag[df.loc[i, '주진단코드'] == diag['질병코드']]['질병명(한글)'].values[0])\n",
    "        df.loc[i, '질병명'] = diag[df.loc[i, '주진단코드'] == diag['질병코드']]['질병명(한글)'].values[0]\n",
    "    if (str(df.loc[i, '주진단코드']).strip() == '건강검진') :\n",
    "        df.loc[i, '질병명'] = '건강검진'\n",
    "    if (str(df.loc[i, '주진단코드']).strip() == '중성화') :\n",
    "        df.loc[i, '질병명'] = '중성화'        \n",
    "#         df.loc[i, '분류'] = df_diag[df.loc[i, '진단코드'] == df_diag['질병코드']]['분류'].values[0]"
   ]
  },
  {
   "cell_type": "code",
   "execution_count": 28,
   "metadata": {},
   "outputs": [],
   "source": [
    "# df.to_csv('test.csv', index=None)"
   ]
  },
  {
   "cell_type": "code",
   "execution_count": 76,
   "metadata": {},
   "outputs": [],
   "source": [
    "df = df[['질병명', '주진단코드', 'SE']]"
   ]
  },
  {
   "cell_type": "code",
   "execution_count": 77,
   "metadata": {},
   "outputs": [
    {
     "data": {
      "text/plain": [
       "3713"
      ]
     },
     "execution_count": 77,
     "metadata": {},
     "output_type": "execute_result"
    }
   ],
   "source": [
    "df['질병명'].value_counts().sum()"
   ]
  },
  {
   "cell_type": "code",
   "execution_count": 78,
   "metadata": {},
   "outputs": [],
   "source": [
    "diag_dict ={}\n",
    "for i in range(len(df)) :\n",
    "    diag_dict[df.loc[i, '주진단코드']] = df.loc[i, '질병명']"
   ]
  },
  {
   "cell_type": "code",
   "execution_count": 80,
   "metadata": {},
   "outputs": [],
   "source": [
    "# diag_dict"
   ]
  },
  {
   "cell_type": "code",
   "execution_count": 82,
   "metadata": {},
   "outputs": [],
   "source": [
    "df['진단코드'] = ''\n",
    "for i in range(len(df)) :\n",
    "#     print(str(df.loc[i, '주진단코드']).strip())\n",
    "    if str(df.loc[i, '주진단코드']).strip() == '2092' or str(df.loc[i, '주진단코드']).strip() == '2091':\n",
    "        df.loc[i, '진단코드'] = '방광질환'\n",
    "    if str(df.loc[i, '주진단코드']).strip() == '2031' or str(df.loc[i, '주진단코드']).strip() == '2022':\n",
    "        df.loc[i, '진단코드'] = '폐질환'      \n",
    "    if str(df.loc[i, '주진단코드']).strip() == '2001' or str(df.loc[i, '주진단코드']).strip() == '2002':\n",
    "        df.loc[i, '진단코드'] = '심장질환'    \n",
    "    if str(df.loc[i, '주진단코드']).strip() == '2048' or str(df.loc[i, '주진단코드']).strip() == '2043':\n",
    "        df.loc[i, '진단코드'] = '위장염'   \n",
    "    if str(df.loc[i, '주진단코드']).strip() == '2084' or str(df.loc[i, '주진단코드']).strip() == '2081':\n",
    "        df.loc[i, '진단코드'] = '간질환'           \n",
    "    if str(df.loc[i, '질병명']).strip() == '중성화':\n",
    "        df.loc[i, '진단코드'] = '중성화'       \n",
    "    if str(df.loc[i, '질병명']).strip() == '건강검진': \n",
    "        df.loc[i, '진단코드'] = '건강검진'      \n",
    "    if str(df.loc[i, '주진단코드']).strip() == '2046': \n",
    "        df.loc[i, '진단코드'] = '소화관 이물' \n",
    "    if str(df.loc[i, '주진단코드']).strip() == '2082': \n",
    "        df.loc[i, '진단코드'] = '췌장염'  \n",
    "    if str(df.loc[i, '주진단코드']).strip() == '2087': \n",
    "        df.loc[i, '진단코드'] = '신장질환'  \n",
    "    if str(df.loc[i, '주진단코드']).strip() == '2101': \n",
    "        df.loc[i, '진단코드'] = '자궁 축농증'    \n",
    "    if str(df.loc[i, '주진단코드']).strip() == '2071': \n",
    "        df.loc[i, '진단코드'] = '구토설사혈변'    \n",
    "    if str(df.loc[i, '주진단코드']).strip() == '2170': \n",
    "        df.loc[i, '진단코드'] = '치주염'    \n",
    "    if str(df.loc[i, '주진단코드']).strip() == '2116': \n",
    "        df.loc[i, '진단코드'] = '유선종양'    \n",
    "    if str(df.loc[i, '주진단코드']).strip() == '2095': \n",
    "        df.loc[i, '진단코드'] = '고양이하부요로질환'      \n",
    "    if str(df.loc[i, '주진단코드']).strip() == '2126': \n",
    "        df.loc[i, '진단코드'] = '경련 발작'    \n",
    "    if str(df.loc[i, '주진단코드']).strip() == '2185': \n",
    "        df.loc[i, '진단코드'] = '슬개골탈구'        \n",
    "    if str(df.loc[i, '주진단코드']).strip() == '2274': \n",
    "        df.loc[i, '진단코드'] = '교상'      \n",
    "    if str(df.loc[i, '주진단코드']).strip() == '2244': \n",
    "        df.loc[i, '진단코드'] = '당뇨병'   \n",
    "    if str(df.loc[i, '주진단코드']).strip() == '슬개골탈구': \n",
    "        df.loc[i, '진단코드'] = '슬개골탈구' \n",
    "    if str(df.loc[i, '주진단코드']).strip() == '2257': \n",
    "        df.loc[i, '진단코드'] = '인체 약물에 의한 중독'  \n",
    "    if str(df.loc[i, '주진단코드']).strip() == '2283': \n",
    "        df.loc[i, '진단코드'] = '쇼크 증상'   \n",
    "    if str(df.loc[i, '주진단코드']).strip() == '2263': \n",
    "        df.loc[i, '진단코드'] = '개 디스템퍼'  \n",
    "    if str(df.loc[i, '주진단코드']).strip() == '2049': \n",
    "        df.loc[i, '진단코드'] = '개 파보 바이러스'  \n",
    "    if str(df.loc[i, '주진단코드']).strip() == '2273': \n",
    "        df.loc[i, '진단코드'] = '외상 (타박상 / 찰과상 / 타박상)'  \n",
    "    if str(df.loc[i, '주진단코드']).strip() == '2255': \n",
    "        df.loc[i, '진단코드'] = '초콜릿 중독'  \n",
    "    if str(df.loc[i, '주진단코드']).strip() == '2119': \n",
    "        df.loc[i, '진단코드'] = '간질'   \n",
    "    if str(df.loc[i, '주진단코드']).strip() == '2267': \n",
    "        df.loc[i, '진단코드'] = '고양이 복막염'  \n",
    "    if str(df.loc[i, '주진단코드']).strip() == '2259': \n",
    "        df.loc[i, '진단코드'] = '다른 중독 질환'  \n",
    "    if str(df.loc[i, '주진단코드']).strip() == '2193': \n",
    "        df.loc[i, '진단코드'] = '골절'       \n",
    "        \n",
    "    if str(df.loc[i, '주진단코드']).strip() == '스케일링': \n",
    "        df.loc[i, '진단코드'] = '스케일링'   \n",
    "    if str(df.loc[i, '주진단코드']).strip() == '2120' or str(df.loc[i, '주진단코드']).strip() == '2121': \n",
    "        df.loc[i, '진단코드'] = '수막염 뇌수종'  \n",
    "    if str(df.loc[i, '주진단코드']).strip() == '2021': \n",
    "        df.loc[i, '진단코드'] = '기관 허탈'  \n",
    "    if str(df.loc[i, '주진단코드']).strip() == '2058': \n",
    "        df.loc[i, '진단코드'] = '장질환'     \n",
    "        \n",
    "    if str(df.loc[i, '주진단코드']).strip() == '2232': \n",
    "        df.loc[i, '진단코드'] = '혈소판 감소증'  \n",
    "    if str(df.loc[i, '주진단코드']).strip() == '2233': \n",
    "        df.loc[i, '진단코드'] = '비장 이상' \n",
    "    if str(df.loc[i, '주진단코드']).strip() == '2090': \n",
    "        df.loc[i, '진단코드'] = '급성신부전'\n",
    "    if str(df.loc[i, '주진단코드']).strip() == '2014': \n",
    "        df.loc[i, '진단코드'] = '심장사상충'\n",
    "    if str(df.loc[i, '주진단코드']).strip() == '2230': \n",
    "        df.loc[i, '진단코드'] = '빈혈'       \n",
    "        \n",
    "    if str(df.loc[i, '주진단코드']).strip() == '2171': \n",
    "        df.loc[i, '진단코드'] = '치근 농양'\n",
    "    if str(df.loc[i, '주진단코드']).strip() == '2178': \n",
    "        df.loc[i, '진단코드'] = '구내염'\n",
    "    if str(df.loc[i, '주진단코드']).strip() == '2181': \n",
    "        df.loc[i, '진단코드'] = '추간판탈출증'\n",
    "    if str(df.loc[i, '주진단코드']).strip() == '2245': \n",
    "        df.loc[i, '진단코드'] = '신피질 커싱'\n",
    "    if str(df.loc[i, '주진단코드']).strip() == '골절': \n",
    "        df.loc[i, '진단코드'] = '골절'   \n",
    "        \n",
    "    if str(df.loc[i, '주진단코드']).strip() == '2075': \n",
    "        df.loc[i, '진단코드'] = '지방간'\n",
    "    if str(df.loc[i, '주진단코드']).strip() == '2122': \n",
    "        df.loc[i, '진단코드'] = '뇌질환'\n",
    "    if str(df.loc[i, '주진단코드']).strip() == '2094': \n",
    "        df.loc[i, '진단코드'] = '결석증'\n",
    "    if str(df.loc[i, '주진단코드']).strip() == '2061': \n",
    "        df.loc[i, '진단코드'] = '항문낭'\n",
    "    if str(df.loc[i, '주진단코드']).strip() == '2236':  \n",
    "        df.loc[i, '진단코드'] = '고양이 백혈구 감소증'   \n",
    "        \n",
    "    if str(df.loc[i, '주진단코드']).strip() == '2032': \n",
    "        df.loc[i, '진단코드'] = '흉수'\n",
    "    if str(df.loc[i, '주진단코드']).strip() == '2240': \n",
    "        df.loc[i, '진단코드'] = '림프종'\n",
    "    if str(df.loc[i, '주진단코드']).strip() == '2004': \n",
    "        df.loc[i, '진단코드'] = '심근증'\n",
    "    if str(df.loc[i, '주진단코드']).strip() == '2093': \n",
    "        df.loc[i, '진단코드'] = '요도폐색'\n",
    "    if str(df.loc[i, '주진단코드']).strip() == '2179':  \n",
    "        df.loc[i, '진단코드'] = '구강내 종양'     \n",
    "        \n",
    "    if str(df.loc[i, '주진단코드']).strip() == '2231': \n",
    "        df.loc[i, '진단코드'] = '빈혈'\n",
    "    if str(df.loc[i, '주진단코드']).strip() == '2077':  \n",
    "        df.loc[i, '진단코드'] = '문맥션트'             "
   ]
  },
  {
   "cell_type": "code",
   "execution_count": 83,
   "metadata": {},
   "outputs": [],
   "source": [
    "df['진단코드'] = df['진단코드'].apply(lambda x : np.nan if str(x) == '' else x)"
   ]
  },
  {
   "cell_type": "code",
   "execution_count": 84,
   "metadata": {},
   "outputs": [
    {
     "name": "stdout",
     "output_type": "stream",
     "text": [
      "(3713, 4)\n",
      "(2834, 4)\n"
     ]
    }
   ],
   "source": [
    "print(df.shape)\n",
    "df.dropna(subset=['진단코드'], inplace=True)\n",
    "print(df.shape)"
   ]
  },
  {
   "cell_type": "code",
   "execution_count": 94,
   "metadata": {},
   "outputs": [
    {
     "name": "stdout",
     "output_type": "stream",
     "text": [
      "39\n",
      "2834\n",
      "폐질환                     221\n",
      "간질환                     144\n",
      "교상                      120\n",
      "빈혈                      118\n",
      "수막염 뇌수종                 115\n",
      "당뇨병                     112\n",
      "추간판탈출증                  104\n",
      "다른 중독 질환                103\n",
      "외상 (타박상 / 찰과상 / 타박상)    100\n",
      "골절                       97\n",
      "초콜릿 중독                   93\n",
      "고양이 백혈구 감소증              92\n",
      "신피질 커싱                   86\n",
      "고양이 복막염                  82\n",
      "쇼크 증상                    79\n",
      "개 파보 바이러스                75\n",
      "기관 허탈                    68\n",
      "치근 농양                    67\n",
      "구내염                      65\n",
      "스케일링                     60\n",
      "슬개골탈구                    59\n",
      "인체 약물에 의한 중독             59\n",
      "심장사상충                    57\n",
      "혈소판 감소증                  53\n",
      "비장 이상                    52\n",
      "개 디스템퍼                   50\n",
      "급성신부전                    50\n",
      "간질                       50\n",
      "항문낭                      47\n",
      "장질환                      47\n",
      "심근증                      46\n",
      "문맥션트                     36\n",
      "요도폐색                     36\n",
      "뇌질환                      33\n",
      "림프종                      33\n",
      "지방간                      32\n",
      "흉수                       31\n",
      "구강내 종양                   31\n",
      "결석증                      31\n",
      "Name: 진단코드, dtype: int64\n"
     ]
    }
   ],
   "source": [
    "print(len(df['진단코드'].value_counts()))\n",
    "print(df['진단코드'].value_counts().sum())\n",
    "print(df['진단코드'].value_counts())"
   ]
  },
  {
   "cell_type": "code",
   "execution_count": 89,
   "metadata": {},
   "outputs": [],
   "source": [
    "import pandas as pd\n",
    "import numpy as np\n",
    "import os\n",
    "import re\n",
    "import sys\n",
    "from sklearn.preprocessing import LabelEncoder\n",
    "from sklearn.model_selection import train_test_split"
   ]
  },
  {
   "cell_type": "code",
   "execution_count": 90,
   "metadata": {},
   "outputs": [],
   "source": [
    "encoder = LabelEncoder()\n",
    "encoder.fit(df['진단코드'])\n",
    "df['label_id'] = encoder.transform(df['진단코드'])"
   ]
  },
  {
   "cell_type": "code",
   "execution_count": 92,
   "metadata": {},
   "outputs": [],
   "source": [
    "# df.head()"
   ]
  },
  {
   "cell_type": "code",
   "execution_count": 93,
   "metadata": {},
   "outputs": [],
   "source": [
    "df.to_csv('files/pre-fine.csv', index=None)"
   ]
  },
  {
   "cell_type": "code",
   "execution_count": 93,
   "metadata": {},
   "outputs": [
    {
     "name": "stdout",
     "output_type": "stream",
     "text": [
      "(5540, 5)\n",
      "(616, 5)\n"
     ]
    }
   ],
   "source": [
    "train, test = train_test_split(df,test_size=0.1, random_state=100 )\n",
    "train.to_csv('files/train1.csv', index=None)\n",
    "test.to_csv('files/test1.csv', index=None)\n",
    "print(train.shape)\n",
    "print(test.shape)"
   ]
  },
  {
   "cell_type": "code",
   "execution_count": 106,
   "metadata": {},
   "outputs": [
    {
     "data": {
      "text/plain": [
       "(6156, 5)"
      ]
     },
     "execution_count": 106,
     "metadata": {},
     "output_type": "execute_result"
    }
   ],
   "source": [
    "train = pd.read_csv('files/train1.csv')\n",
    "test = pd.read_csv('files/test1.csv')\n",
    "df = pd.concat([train, test])\n",
    "df.shape"
   ]
  },
  {
   "cell_type": "code",
   "execution_count": 107,
   "metadata": {},
   "outputs": [],
   "source": [
    "label_dict1 = df['진단코드'].value_counts()[0:10].to_dict()\n",
    "def make_label_id1(label) :\n",
    "    if not label in label_dict1.keys() :\n",
    "        label = np.nan\n",
    "    return label"
   ]
  },
  {
   "cell_type": "code",
   "execution_count": 108,
   "metadata": {},
   "outputs": [
    {
     "data": {
      "text/plain": [
       "{'위장염': 661,\n",
       " '심장질환': 607,\n",
       " '중성화': 580,\n",
       " '소화관 이물': 564,\n",
       " '췌장염': 479,\n",
       " '신장질환': 479,\n",
       " '자궁 축농증': 377,\n",
       " '방광질환': 372,\n",
       " '구토설사혈변': 324,\n",
       " '치주염': 313}"
      ]
     },
     "execution_count": 108,
     "metadata": {},
     "output_type": "execute_result"
    }
   ],
   "source": [
    "label_dict1"
   ]
  },
  {
   "cell_type": "code",
   "execution_count": 109,
   "metadata": {},
   "outputs": [
    {
     "name": "stdout",
     "output_type": "stream",
     "text": [
      "(6156, 5)\n",
      "(4756, 5)\n"
     ]
    }
   ],
   "source": [
    "# df['label_id'] = ''\n",
    "df['진단코드'] = df['진단코드'].apply(lambda x : make_label_id1(x))\n",
    "print(df.shape)\n",
    "df.dropna(subset=['진단코드'], inplace=True)\n",
    "print(df.shape)"
   ]
  },
  {
   "cell_type": "code",
   "execution_count": 110,
   "metadata": {},
   "outputs": [
    {
     "data": {
      "text/html": [
       "<div>\n",
       "<style scoped>\n",
       "    .dataframe tbody tr th:only-of-type {\n",
       "        vertical-align: middle;\n",
       "    }\n",
       "\n",
       "    .dataframe tbody tr th {\n",
       "        vertical-align: top;\n",
       "    }\n",
       "\n",
       "    .dataframe thead th {\n",
       "        text-align: right;\n",
       "    }\n",
       "</style>\n",
       "<table border=\"1\" class=\"dataframe\">\n",
       "  <thead>\n",
       "    <tr style=\"text-align: right;\">\n",
       "      <th></th>\n",
       "      <th>질병명</th>\n",
       "      <th>주진단코드</th>\n",
       "      <th>SE</th>\n",
       "      <th>진단코드</th>\n",
       "      <th>label_id</th>\n",
       "    </tr>\n",
       "  </thead>\n",
       "  <tbody>\n",
       "    <tr>\n",
       "      <th>0</th>\n",
       "      <td>판막증 (의심 포함한 심장 잡음 + 심부전 증후 자)</td>\n",
       "      <td>2001</td>\n",
       "      <td>금일 오전 구토 물설사. 스카이에서 폐수종처치를 받음 식욕 활기 백신 사상충 a ...</td>\n",
       "      <td>심장질환</td>\n",
       "      <td>11</td>\n",
       "    </tr>\n",
       "    <tr>\n",
       "      <th>1</th>\n",
       "      <td>중성화</td>\n",
       "      <td>중성화</td>\n",
       "      <td>v 식욕 활기 백신 사상충 스켈링 중성화 약갑스 발사 까지 두마리 카드 현금 졸레...</td>\n",
       "      <td>중성화</td>\n",
       "      <td>15</td>\n",
       "    </tr>\n",
       "    <tr>\n",
       "      <th>2</th>\n",
       "      <td>만성 신장 질환 (신부전 포함)</td>\n",
       "      <td>2087</td>\n",
       "      <td>history 임상증상은 양호합니다. objective 차회 c lymphocyt...</td>\n",
       "      <td>신장질환</td>\n",
       "      <td>10</td>\n",
       "    </tr>\n",
       "    <tr>\n",
       "      <th>4</th>\n",
       "      <td>췌장염</td>\n",
       "      <td>2082</td>\n",
       "      <td>모니터링 구토로 내원 내원 시 빈호흡 및 멘탈 상태 좋지 않음 내원 직후 time ...</td>\n",
       "      <td>췌장염</td>\n",
       "      <td>16</td>\n",
       "    </tr>\n",
       "    <tr>\n",
       "      <th>5</th>\n",
       "      <td>췌장염</td>\n",
       "      <td>2082</td>\n",
       "      <td>s. 금일 약간 묽은변 아침에 식욕 없었음 o. 이전에 history 있었던 꼬리쪽...</td>\n",
       "      <td>췌장염</td>\n",
       "      <td>16</td>\n",
       "    </tr>\n",
       "  </tbody>\n",
       "</table>\n",
       "</div>"
      ],
      "text/plain": [
       "                              질병명 주진단코드  \\\n",
       "0   판막증 (의심 포함한 심장 잡음 + 심부전 증후 자)  2001   \n",
       "1                             중성화   중성화   \n",
       "2              만성 신장 질환 (신부전 포함)   2087   \n",
       "4                            췌장염   2082   \n",
       "5                            췌장염   2082   \n",
       "\n",
       "                                                  SE  진단코드  label_id  \n",
       "0   금일 오전 구토 물설사. 스카이에서 폐수종처치를 받음 식욕 활기 백신 사상충 a ...  심장질환        11  \n",
       "1   v 식욕 활기 백신 사상충 스켈링 중성화 약갑스 발사 까지 두마리 카드 현금 졸레...   중성화        15  \n",
       "2   history 임상증상은 양호합니다. objective 차회 c lymphocyt...  신장질환        10  \n",
       "4  모니터링 구토로 내원 내원 시 빈호흡 및 멘탈 상태 좋지 않음 내원 직후 time ...   췌장염        16  \n",
       "5  s. 금일 약간 묽은변 아침에 식욕 없었음 o. 이전에 history 있었던 꼬리쪽...   췌장염        16  "
      ]
     },
     "execution_count": 110,
     "metadata": {},
     "output_type": "execute_result"
    }
   ],
   "source": [
    "df.head()"
   ]
  },
  {
   "cell_type": "code",
   "execution_count": 111,
   "metadata": {},
   "outputs": [],
   "source": [
    "encoder = LabelEncoder()\n",
    "encoder.fit(df['진단코드'])\n",
    "df['label_id'] = encoder.transform(df['진단코드'])"
   ]
  },
  {
   "cell_type": "code",
   "execution_count": 112,
   "metadata": {},
   "outputs": [
    {
     "data": {
      "text/html": [
       "<div>\n",
       "<style scoped>\n",
       "    .dataframe tbody tr th:only-of-type {\n",
       "        vertical-align: middle;\n",
       "    }\n",
       "\n",
       "    .dataframe tbody tr th {\n",
       "        vertical-align: top;\n",
       "    }\n",
       "\n",
       "    .dataframe thead th {\n",
       "        text-align: right;\n",
       "    }\n",
       "</style>\n",
       "<table border=\"1\" class=\"dataframe\">\n",
       "  <thead>\n",
       "    <tr style=\"text-align: right;\">\n",
       "      <th></th>\n",
       "      <th>질병명</th>\n",
       "      <th>주진단코드</th>\n",
       "      <th>SE</th>\n",
       "      <th>진단코드</th>\n",
       "      <th>label_id</th>\n",
       "    </tr>\n",
       "  </thead>\n",
       "  <tbody>\n",
       "    <tr>\n",
       "      <th>0</th>\n",
       "      <td>판막증 (의심 포함한 심장 잡음 + 심부전 증후 자)</td>\n",
       "      <td>2001</td>\n",
       "      <td>금일 오전 구토 물설사. 스카이에서 폐수종처치를 받음 식욕 활기 백신 사상충 a ...</td>\n",
       "      <td>심장질환</td>\n",
       "      <td>4</td>\n",
       "    </tr>\n",
       "    <tr>\n",
       "      <th>1</th>\n",
       "      <td>중성화</td>\n",
       "      <td>중성화</td>\n",
       "      <td>v 식욕 활기 백신 사상충 스켈링 중성화 약갑스 발사 까지 두마리 카드 현금 졸레...</td>\n",
       "      <td>중성화</td>\n",
       "      <td>7</td>\n",
       "    </tr>\n",
       "    <tr>\n",
       "      <th>2</th>\n",
       "      <td>만성 신장 질환 (신부전 포함)</td>\n",
       "      <td>2087</td>\n",
       "      <td>history 임상증상은 양호합니다. objective 차회 c lymphocyt...</td>\n",
       "      <td>신장질환</td>\n",
       "      <td>3</td>\n",
       "    </tr>\n",
       "    <tr>\n",
       "      <th>4</th>\n",
       "      <td>췌장염</td>\n",
       "      <td>2082</td>\n",
       "      <td>모니터링 구토로 내원 내원 시 빈호흡 및 멘탈 상태 좋지 않음 내원 직후 time ...</td>\n",
       "      <td>췌장염</td>\n",
       "      <td>8</td>\n",
       "    </tr>\n",
       "    <tr>\n",
       "      <th>5</th>\n",
       "      <td>췌장염</td>\n",
       "      <td>2082</td>\n",
       "      <td>s. 금일 약간 묽은변 아침에 식욕 없었음 o. 이전에 history 있었던 꼬리쪽...</td>\n",
       "      <td>췌장염</td>\n",
       "      <td>8</td>\n",
       "    </tr>\n",
       "    <tr>\n",
       "      <th>6</th>\n",
       "      <td>만성 신장 질환 (신부전 포함)</td>\n",
       "      <td>2087</td>\n",
       "      <td>구토 없으나 점액성 설사를 자주 보임. 스멕타 추가했음. 기저귀를 채웠음. 물은 스...</td>\n",
       "      <td>신장질환</td>\n",
       "      <td>3</td>\n",
       "    </tr>\n",
       "    <tr>\n",
       "      <th>7</th>\n",
       "      <td>판막증 (의심 포함한 심장 잡음 + 심부전 증후 자)</td>\n",
       "      <td>2001</td>\n",
       "      <td>s 몇일 전부터 심한 건성기침 증상 보임 방사선 전반적인 심비대 후엽 폐패턴 증가 ...</td>\n",
       "      <td>심장질환</td>\n",
       "      <td>4</td>\n",
       "    </tr>\n",
       "    <tr>\n",
       "      <th>10</th>\n",
       "      <td>판막증 (의심 포함한 심장 잡음 + 심부전 증후 자)</td>\n",
       "      <td>2001</td>\n",
       "      <td>bun 상승 신장보조약제 잘 못먹였다고 함. 잘 먹이고 month 후후 리첵하기로 ...</td>\n",
       "      <td>심장질환</td>\n",
       "      <td>4</td>\n",
       "    </tr>\n",
       "    <tr>\n",
       "      <th>11</th>\n",
       "      <td>중성화</td>\n",
       "      <td>중성화</td>\n",
       "      <td>주호소 현증경과 내과 아팠던 적은 없어요. 잘못 먹으면 뱉는 정도 고무줄 먹었을때만...</td>\n",
       "      <td>중성화</td>\n",
       "      <td>7</td>\n",
       "    </tr>\n",
       "    <tr>\n",
       "      <th>12</th>\n",
       "      <td>만성 신장 질환 (신부전 포함)</td>\n",
       "      <td>2087</td>\n",
       "      <td>refer. 서울종합동물병원 주호소 신장수치 상승 현증경과 이빨이 좋지않아 스켈링...</td>\n",
       "      <td>신장질환</td>\n",
       "      <td>3</td>\n",
       "    </tr>\n",
       "  </tbody>\n",
       "</table>\n",
       "</div>"
      ],
      "text/plain": [
       "                               질병명 주진단코드  \\\n",
       "0    판막증 (의심 포함한 심장 잡음 + 심부전 증후 자)  2001   \n",
       "1                              중성화   중성화   \n",
       "2               만성 신장 질환 (신부전 포함)   2087   \n",
       "4                             췌장염   2082   \n",
       "5                             췌장염   2082   \n",
       "6               만성 신장 질환 (신부전 포함)   2087   \n",
       "7    판막증 (의심 포함한 심장 잡음 + 심부전 증후 자)  2001   \n",
       "10   판막증 (의심 포함한 심장 잡음 + 심부전 증후 자)  2001   \n",
       "11                             중성화   중성화   \n",
       "12              만성 신장 질환 (신부전 포함)   2087   \n",
       "\n",
       "                                                   SE  진단코드  label_id  \n",
       "0    금일 오전 구토 물설사. 스카이에서 폐수종처치를 받음 식욕 활기 백신 사상충 a ...  심장질환         4  \n",
       "1    v 식욕 활기 백신 사상충 스켈링 중성화 약갑스 발사 까지 두마리 카드 현금 졸레...   중성화         7  \n",
       "2    history 임상증상은 양호합니다. objective 차회 c lymphocyt...  신장질환         3  \n",
       "4   모니터링 구토로 내원 내원 시 빈호흡 및 멘탈 상태 좋지 않음 내원 직후 time ...   췌장염         8  \n",
       "5   s. 금일 약간 묽은변 아침에 식욕 없었음 o. 이전에 history 있었던 꼬리쪽...   췌장염         8  \n",
       "6   구토 없으나 점액성 설사를 자주 보임. 스멕타 추가했음. 기저귀를 채웠음. 물은 스...  신장질환         3  \n",
       "7   s 몇일 전부터 심한 건성기침 증상 보임 방사선 전반적인 심비대 후엽 폐패턴 증가 ...  심장질환         4  \n",
       "10  bun 상승 신장보조약제 잘 못먹였다고 함. 잘 먹이고 month 후후 리첵하기로 ...  심장질환         4  \n",
       "11  주호소 현증경과 내과 아팠던 적은 없어요. 잘못 먹으면 뱉는 정도 고무줄 먹었을때만...   중성화         7  \n",
       "12   refer. 서울종합동물병원 주호소 신장수치 상승 현증경과 이빨이 좋지않아 스켈링...  신장질환         3  "
      ]
     },
     "execution_count": 112,
     "metadata": {},
     "output_type": "execute_result"
    }
   ],
   "source": [
    "df.head(10)"
   ]
  },
  {
   "cell_type": "code",
   "execution_count": 113,
   "metadata": {},
   "outputs": [
    {
     "name": "stdout",
     "output_type": "stream",
     "text": [
      "(4280, 5)\n",
      "(476, 5)\n"
     ]
    }
   ],
   "source": [
    "train, test = train_test_split(df,test_size=0.1, random_state=100 )\n",
    "train.to_csv('files/train2.csv', index=None)\n",
    "test.to_csv('files/test2.csv', index=None)\n",
    "print(train.shape)\n",
    "print(test.shape)"
   ]
  },
  {
   "cell_type": "code",
   "execution_count": null,
   "metadata": {},
   "outputs": [],
   "source": []
  },
  {
   "cell_type": "code",
   "execution_count": null,
   "metadata": {},
   "outputs": [],
   "source": [
    "pretrained_path = './pretrained'\n",
    "model = RobertaForSequenceClassification.from_pretrained(pretrained_path, num_labels=19)\n",
    "\n",
    "# training is done and save\n",
    "model.save_pretrained(\"./finetune3\")\n",
    "\n",
    "pretrained_path = './finetune3'\n",
    "model = RobertaForSequenceClassification.from_pretrained(pretrained_path, num_labels=10)"
   ]
  },
  {
   "cell_type": "raw",
   "metadata": {},
   "source": [
    "---------------------------------------------------------------------------\n",
    "RuntimeError                              Traceback (most recent call last)\n",
    "<ipython-input-18-567f0b8d7704> in <module>\n",
    "      4 # pretrained_path = './pretrained'\n",
    "      5 tokenizer = RobertaTokenizer.from_pretrained(pretrained_path, do_lower_case=False)\n",
    "----> 6 model = RobertaForSequenceClassification.from_pretrained(pretrained_path, num_labels=10)\n",
    "      7 model.to(device)\n",
    "~/vtdeep/petcharts/pet-env/lib/python3.6/site-packages/transformers/modeling_utils.py in from_pretrained(cls, pretrained_model_name_or_path, *model_args, **kwargs)\n",
    "    779                 raise RuntimeError(\n",
    "    780                     \"Error(s) in loading state_dict for {}:\\n\\t{}\".format(\n",
    "--> 781                         model.__class__.__name__, \"\\n\\t\".join(error_msgs)\n",
    "    782                     )\n",
    "    783                 )\n",
    "RuntimeError: Error(s) in loading state_dict for RobertaForSequenceClassification:\n",
    "\tsize mismatch for classifier.out_proj.weight: copying a param with shape torch.Size([19, 768]) from checkpoint, the shape in current model is torch.Size([10, 768]).\n",
    "\tsize mismatch for classifier.out_proj.bias: copying a param with shape torch.Size([19]) from checkpoint, the shape in current model is torch.Size([10])."
   ]
  }
 ],
 "metadata": {
  "kernelspec": {
   "display_name": "Python 3",
   "language": "python",
   "name": "python3"
  },
  "language_info": {
   "codemirror_mode": {
    "name": "ipython",
    "version": 3
   },
   "file_extension": ".py",
   "mimetype": "text/x-python",
   "name": "python",
   "nbconvert_exporter": "python",
   "pygments_lexer": "ipython3",
   "version": "3.6.9"
  }
 },
 "nbformat": 4,
 "nbformat_minor": 4
}
