{
 "cells": [
  {
   "cell_type": "code",
   "execution_count": 1,
   "metadata": {},
   "outputs": [],
   "source": [
    "import pandas as pd\n",
    "import numpy as np\n",
    "import sys\n",
    "sys.path.append('../')\n",
    "from preprop import *"
   ]
  },
  {
   "cell_type": "code",
   "execution_count": 2,
   "metadata": {},
   "outputs": [
    {
     "data": {
      "text/plain": [
       "(17458, 10)"
      ]
     },
     "execution_count": 2,
     "metadata": {},
     "output_type": "execute_result"
    }
   ],
   "source": [
    "df = pd.read_csv('samples/pet.label.csv')\n",
    "df.shape"
   ]
  },
  {
   "cell_type": "code",
   "execution_count": 3,
   "metadata": {},
   "outputs": [
    {
     "data": {
      "text/html": [
       "<div>\n",
       "<style scoped>\n",
       "    .dataframe tbody tr th:only-of-type {\n",
       "        vertical-align: middle;\n",
       "    }\n",
       "\n",
       "    .dataframe tbody tr th {\n",
       "        vertical-align: top;\n",
       "    }\n",
       "\n",
       "    .dataframe thead th {\n",
       "        text-align: right;\n",
       "    }\n",
       "</style>\n",
       "<table border=\"1\" class=\"dataframe\">\n",
       "  <thead>\n",
       "    <tr style=\"text-align: right;\">\n",
       "      <th></th>\n",
       "      <th>보호자명</th>\n",
       "      <th>환자명</th>\n",
       "      <th>품종코드</th>\n",
       "      <th>생일</th>\n",
       "      <th>성별코드</th>\n",
       "      <th>검사일</th>\n",
       "      <th>병원</th>\n",
       "      <th>주진단코드</th>\n",
       "      <th>진단코드</th>\n",
       "      <th>SE</th>\n",
       "    </tr>\n",
       "  </thead>\n",
       "  <tbody>\n",
       "    <tr>\n",
       "      <th>0</th>\n",
       "      <td>김소야*7</td>\n",
       "      <td>코코</td>\n",
       "      <td>91.0</td>\n",
       "      <td>2001-05-03 00:00:00</td>\n",
       "      <td>MN</td>\n",
       "      <td>2018-07-04 10:51:01.657</td>\n",
       "      <td>D</td>\n",
       "      <td>2078</td>\n",
       "      <td>2078,만성신질환, 신장결석, 방광염</td>\n",
       "      <td>S) 식욕부진, 기력저하, 눈    O)  - 2일동안 식욕이 거의 없어서 보호자분...</td>\n",
       "    </tr>\n",
       "    <tr>\n",
       "      <th>1</th>\n",
       "      <td>이지은*6</td>\n",
       "      <td>힘찬이</td>\n",
       "      <td>119.0</td>\n",
       "      <td>2007-06-04 00:00:00</td>\n",
       "      <td>MN</td>\n",
       "      <td>2018-04-26 11:33:10.467</td>\n",
       "      <td>D</td>\n",
       "      <td>2244</td>\n",
       "      <td>2244,담낭점액종</td>\n",
       "      <td>S) 다음다뇨, 식욕부진    O)  - 최근들어 다음다뇨 증상과 2~3일전부터는 ...</td>\n",
       "    </tr>\n",
       "    <tr>\n",
       "      <th>2</th>\n",
       "      <td>홍성미</td>\n",
       "      <td>비쥬</td>\n",
       "      <td>499.0</td>\n",
       "      <td>2004-01-01 00:00:00</td>\n",
       "      <td>FS</td>\n",
       "      <td>2018-07-20 14:48:07.967</td>\n",
       "      <td>D</td>\n",
       "      <td>2082</td>\n",
       "      <td>2082,만성신질환, 부비동염</td>\n",
       "      <td>[오전 통화 by 관중]  - 일주일동안 밥안먹고, 활력저하됨  - 보호자님 복부촉...</td>\n",
       "    </tr>\n",
       "    <tr>\n",
       "      <th>3</th>\n",
       "      <td>김래경</td>\n",
       "      <td>세순이</td>\n",
       "      <td>107.0</td>\n",
       "      <td>2001-08-01 00:00:00</td>\n",
       "      <td>FS</td>\n",
       "      <td>2017-06-16 14:56:11.267</td>\n",
       "      <td>D</td>\n",
       "      <td>2087</td>\n",
       "      <td>2087,단백뇨, 쿠싱, 빈혈</td>\n",
       "      <td>1. 쿠싱약 안먹고 와서 쿠싱검사는 28일에 하기로 함  2. 흉방에서 CVC 허탈...</td>\n",
       "    </tr>\n",
       "    <tr>\n",
       "      <th>4</th>\n",
       "      <td>김지현*6</td>\n",
       "      <td>효</td>\n",
       "      <td>125.0</td>\n",
       "      <td>2009-11-05 00:00:00</td>\n",
       "      <td>MN</td>\n",
       "      <td>2018-02-28 10:26:20.280</td>\n",
       "      <td>D</td>\n",
       "      <td>2081</td>\n",
       "      <td>2081,방광결석</td>\n",
       "      <td>S) 건강검진 진행함    O)  1. 혈액검사  - 간수치 상승(ALP, ALT ...</td>\n",
       "    </tr>\n",
       "  </tbody>\n",
       "</table>\n",
       "</div>"
      ],
      "text/plain": [
       "                                    보호자명  \\\n",
       "0  김소야*7                                   \n",
       "1  이지은*6                                   \n",
       "2  홍성미                                     \n",
       "3  김래경                                     \n",
       "4  김지현*6                                   \n",
       "\n",
       "                                       환자명   품종코드                   생일 성별코드  \\\n",
       "0   코코                                       91.0  2001-05-03 00:00:00   MN   \n",
       "1    힘찬이                                    119.0  2007-06-04 00:00:00   MN   \n",
       "2   비쥬                                      499.0  2004-01-01 00:00:00   FS   \n",
       "3    세순이                                    107.0  2001-08-01 00:00:00   FS   \n",
       "4  효                                        125.0  2009-11-05 00:00:00   MN   \n",
       "\n",
       "                       검사일 병원 주진단코드                   진단코드  \\\n",
       "0  2018-07-04 10:51:01.657  D  2078  2078,만성신질환, 신장결석, 방광염   \n",
       "1  2018-04-26 11:33:10.467  D  2244             2244,담낭점액종   \n",
       "2  2018-07-20 14:48:07.967  D  2082       2082,만성신질환, 부비동염   \n",
       "3  2017-06-16 14:56:11.267  D  2087       2087,단백뇨, 쿠싱, 빈혈   \n",
       "4  2018-02-28 10:26:20.280  D  2081              2081,방광결석   \n",
       "\n",
       "                                                  SE  \n",
       "0  S) 식욕부진, 기력저하, 눈    O)  - 2일동안 식욕이 거의 없어서 보호자분...  \n",
       "1  S) 다음다뇨, 식욕부진    O)  - 최근들어 다음다뇨 증상과 2~3일전부터는 ...  \n",
       "2  [오전 통화 by 관중]  - 일주일동안 밥안먹고, 활력저하됨  - 보호자님 복부촉...  \n",
       "3  1. 쿠싱약 안먹고 와서 쿠싱검사는 28일에 하기로 함  2. 흉방에서 CVC 허탈...  \n",
       "4  S) 건강검진 진행함    O)  1. 혈액검사  - 간수치 상승(ALP, ALT ...  "
      ]
     },
     "execution_count": 3,
     "metadata": {},
     "output_type": "execute_result"
    }
   ],
   "source": [
    "df.head()"
   ]
  },
  {
   "cell_type": "code",
   "execution_count": 4,
   "metadata": {},
   "outputs": [
    {
     "name": "stdout",
     "output_type": "stream",
     "text": [
      "(17458, 10)\n",
      "(15974, 10)\n",
      "(14204, 10)\n"
     ]
    }
   ],
   "source": [
    "print(df.shape)\n",
    "df.dropna(subset=['SE'], inplace=True)\n",
    "print(df.shape)\n",
    "df.dropna(subset=['주진단코드'], inplace=True)\n",
    "print(df.shape)"
   ]
  },
  {
   "cell_type": "code",
   "execution_count": 5,
   "metadata": {},
   "outputs": [
    {
     "name": "stdout",
     "output_type": "stream",
     "text": [
      "(14204, 11)\n",
      "(13577, 11)\n"
     ]
    }
   ],
   "source": [
    "df['len'] = df.SE.apply(lambda x : len(str(x)))\n",
    "print(df.shape)\n",
    "df = df[df['len'] > 50]\n",
    "df = df[df['len'] < 5000]\n",
    "print(df.shape)"
   ]
  },
  {
   "cell_type": "code",
   "execution_count": 7,
   "metadata": {},
   "outputs": [],
   "source": [
    "df.SE = df.SE.apply(lambda x : preprocess(str(x)))"
   ]
  },
  {
   "cell_type": "code",
   "execution_count": 9,
   "metadata": {},
   "outputs": [],
   "source": [
    "df['주진단코드'] = df['주진단코드'].apply(lambda x : label_regex(x))"
   ]
  },
  {
   "cell_type": "code",
   "execution_count": 10,
   "metadata": {},
   "outputs": [
    {
     "name": "stdout",
     "output_type": "stream",
     "text": [
      "(13577, 11)\n",
      "(12224, 11)\n"
     ]
    }
   ],
   "source": [
    "print(df.shape)\n",
    "df = df[df['주진단코드']!='normal']\n",
    "print(df.shape)"
   ]
  },
  {
   "cell_type": "code",
   "execution_count": 11,
   "metadata": {},
   "outputs": [
    {
     "data": {
      "text/plain": [
       "중성화     580\n",
       "2046    564\n",
       "2043    534\n",
       "2001    487\n",
       "2087    479\n",
       "2082    479\n",
       "2101    377\n",
       "2071    324\n",
       "2170    313\n",
       "2092    251\n",
       "2133    208\n",
       "2116    200\n",
       "2275    199\n",
       "2095    174\n",
       "건강검진    156\n",
       "2126    137\n",
       "2185    136\n",
       "2048    127\n",
       "2091    121\n",
       "2274    120\n",
       "2002    120\n",
       "2031    114\n",
       "2244    112\n",
       "2022    107\n",
       "2181    104\n",
       "2259    103\n",
       "2273    100\n",
       "2255     93\n",
       "2236     92\n",
       "2245     86\n",
       "2120     83\n",
       "2267     82\n",
       "2020     80\n",
       "2283     79\n",
       "2228     79\n",
       "2289     76\n",
       "2230     76\n",
       "2049     75\n",
       "2081     73\n",
       "2084     71\n",
       "Name: 주진단코드, dtype: int64"
      ]
     },
     "execution_count": 11,
     "metadata": {},
     "output_type": "execute_result"
    }
   ],
   "source": [
    "df['주진단코드'].value_counts()[0:40]"
   ]
  },
  {
   "cell_type": "code",
   "execution_count": 12,
   "metadata": {},
   "outputs": [],
   "source": [
    "label_dict = df['주진단코드'].value_counts()[0:40].to_dict()\n",
    "def make_label_id(label) :\n",
    "    if not label in label_dict.keys() :\n",
    "        label = np.nan\n",
    "    return label"
   ]
  },
  {
   "cell_type": "code",
   "execution_count": 13,
   "metadata": {},
   "outputs": [],
   "source": [
    "df = df.reset_index()"
   ]
  },
  {
   "cell_type": "code",
   "execution_count": 14,
   "metadata": {},
   "outputs": [
    {
     "data": {
      "text/html": [
       "<div>\n",
       "<style scoped>\n",
       "    .dataframe tbody tr th:only-of-type {\n",
       "        vertical-align: middle;\n",
       "    }\n",
       "\n",
       "    .dataframe tbody tr th {\n",
       "        vertical-align: top;\n",
       "    }\n",
       "\n",
       "    .dataframe thead th {\n",
       "        text-align: right;\n",
       "    }\n",
       "</style>\n",
       "<table border=\"1\" class=\"dataframe\">\n",
       "  <thead>\n",
       "    <tr style=\"text-align: right;\">\n",
       "      <th></th>\n",
       "      <th>Unnamed: 0</th>\n",
       "      <th>분류</th>\n",
       "      <th>질병코드</th>\n",
       "      <th>질병명(한글)</th>\n",
       "    </tr>\n",
       "  </thead>\n",
       "  <tbody>\n",
       "    <tr>\n",
       "      <th>0</th>\n",
       "      <td>0</td>\n",
       "      <td>순환기 질환</td>\n",
       "      <td>2001</td>\n",
       "      <td>판막증 (의심 포함한 심장 잡음 + 심부전 증후 자)</td>\n",
       "    </tr>\n",
       "    <tr>\n",
       "      <th>1</th>\n",
       "      <td>1</td>\n",
       "      <td>순환기 질환</td>\n",
       "      <td>2002</td>\n",
       "      <td>판막증 (심장 마비 증후 +)</td>\n",
       "    </tr>\n",
       "    <tr>\n",
       "      <th>2</th>\n",
       "      <td>2</td>\n",
       "      <td>순환기 질환</td>\n",
       "      <td>2003</td>\n",
       "      <td>병태 불명의 심비대 / 마음 확대</td>\n",
       "    </tr>\n",
       "    <tr>\n",
       "      <th>3</th>\n",
       "      <td>3</td>\n",
       "      <td>순환기 질환</td>\n",
       "      <td>2004</td>\n",
       "      <td>심근증</td>\n",
       "    </tr>\n",
       "    <tr>\n",
       "      <th>4</th>\n",
       "      <td>4</td>\n",
       "      <td>순환기 질환</td>\n",
       "      <td>2005</td>\n",
       "      <td>부정맥</td>\n",
       "    </tr>\n",
       "  </tbody>\n",
       "</table>\n",
       "</div>"
      ],
      "text/plain": [
       "   Unnamed: 0        분류  질병코드                         질병명(한글)\n",
       "0           0   순환기 질환   2001   판막증 (의심 포함한 심장 잡음 + 심부전 증후 자)\n",
       "1           1   순환기 질환   2002               판막증 (심장 마비 증후 +) \n",
       "2           2   순환기 질환   2003             병태 불명의 심비대 / 마음 확대 \n",
       "3           3   순환기 질환   2004                            심근증 \n",
       "4           4   순환기 질환   2005                            부정맥 "
      ]
     },
     "execution_count": 14,
     "metadata": {},
     "output_type": "execute_result"
    }
   ],
   "source": [
    "diag = pd.read_csv('samples/diag.csv')\n",
    "diag['질병코드'] = diag['질병코드'].apply(lambda x : str(x).split('.')[0])\n",
    "diag.head()"
   ]
  },
  {
   "cell_type": "code",
   "execution_count": 15,
   "metadata": {},
   "outputs": [],
   "source": [
    "df['질병명'] = ''\n",
    "for i in range(len(df)) :\n",
    "#     print(i)\n",
    "#     diag = df_diag[df.loc[i, '진단코드'] == df_diag['질병코드']]['질병명(한글)']\n",
    "#     print(df.loc[i, '질병명'])\n",
    "#     print(df.loc[i, '주진단코드'])\n",
    "    if str(df.loc[i, '주진단코드']).strip() in diag['질병코드'].to_list() :\n",
    "#         print(df.loc[i, '주진단코드'])\n",
    "#         print(diag[df.loc[i, '주진단코드'] == diag['질병코드']]['질병명(한글)'].values[0])\n",
    "        df.loc[i, '질병명'] = diag[df.loc[i, '주진단코드'] == diag['질병코드']]['질병명(한글)'].values[0]\n",
    "    if (str(df.loc[i, '주진단코드']).strip() == '건강검진') :\n",
    "        df.loc[i, '질병명'] = '건강검진'\n",
    "    if (str(df.loc[i, '주진단코드']).strip() == '중성화') :\n",
    "        df.loc[i, '질병명'] = '중성화'        \n",
    "#         df.loc[i, '분류'] = df_diag[df.loc[i, '진단코드'] == df_diag['질병코드']]['분류'].values[0]"
   ]
  },
  {
   "cell_type": "code",
   "execution_count": 16,
   "metadata": {},
   "outputs": [],
   "source": [
    "df = df[['질병명', '주진단코드', 'SE']]"
   ]
  },
  {
   "cell_type": "code",
   "execution_count": 17,
   "metadata": {},
   "outputs": [
    {
     "data": {
      "text/plain": [
       "                                  852\n",
       "중성화                               580\n",
       " 소화관 이물 / 섭취                      564\n",
       " 위염 / 위장염 / 장염                    534\n",
       " 판막증 (의심 포함한 심장 잡음 + 심부전 증후 자)    487\n",
       "                                 ... \n",
       " 流涙症(눈물 화상 / 누관 폐쇄 포함)              1\n",
       " 노콧 증                               1\n",
       " 반대로 재채기 증후군 · RSS                  1\n",
       " 귀의 질환                              1\n",
       " 대동맥 협착증 · AS                       1\n",
       "Name: 질병명, Length: 270, dtype: int64"
      ]
     },
     "execution_count": 17,
     "metadata": {},
     "output_type": "execute_result"
    }
   ],
   "source": [
    "df['질병명'].value_counts()"
   ]
  },
  {
   "cell_type": "code",
   "execution_count": 18,
   "metadata": {},
   "outputs": [],
   "source": [
    "diag_dict ={}\n",
    "for i in range(len(df)) :\n",
    "    diag_dict[df.loc[i, '주진단코드']] = df.loc[i, '질병명']"
   ]
  },
  {
   "cell_type": "code",
   "execution_count": 19,
   "metadata": {},
   "outputs": [],
   "source": [
    "df['진단코드'] = ''\n",
    "for i in range(len(df)) :\n",
    "#     print(str(df.loc[i, '주진단코드']).strip())\n",
    "    if str(df.loc[i, '주진단코드']).strip() == '2092' or str(df.loc[i, '주진단코드']).strip() == '2091':\n",
    "        df.loc[i, '진단코드'] = '방광질환'\n",
    "    if str(df.loc[i, '주진단코드']).strip() == '2031' or str(df.loc[i, '주진단코드']).strip() == '2022':\n",
    "        df.loc[i, '진단코드'] = '폐질환'      \n",
    "    if str(df.loc[i, '주진단코드']).strip() == '2001' or str(df.loc[i, '주진단코드']).strip() == '2002':\n",
    "        df.loc[i, '진단코드'] = '심장질환'    \n",
    "    if str(df.loc[i, '주진단코드']).strip() == '2048' or str(df.loc[i, '주진단코드']).strip() == '2043':\n",
    "        df.loc[i, '진단코드'] = '위장염'   \n",
    "    if str(df.loc[i, '주진단코드']).strip() == '2084' or str(df.loc[i, '주진단코드']).strip() == '2081':\n",
    "        df.loc[i, '진단코드'] = '간질환'           \n",
    "    if str(df.loc[i, '질병명']).strip() == '중성화':\n",
    "        df.loc[i, '진단코드'] = '중성화'       \n",
    "    if str(df.loc[i, '질병명']).strip() == '건강검진': \n",
    "        df.loc[i, '진단코드'] = '건강검진'      \n",
    "    if str(df.loc[i, '주진단코드']).strip() == '2046': \n",
    "        df.loc[i, '진단코드'] = '소화관 이물' \n",
    "    if str(df.loc[i, '주진단코드']).strip() == '2082': \n",
    "        df.loc[i, '진단코드'] = '췌장염'  \n",
    "    if str(df.loc[i, '주진단코드']).strip() == '2087': \n",
    "        df.loc[i, '진단코드'] = '신장질환'  \n",
    "    if str(df.loc[i, '주진단코드']).strip() == '2101': \n",
    "        df.loc[i, '진단코드'] = '자궁 축농증'    \n",
    "    if str(df.loc[i, '주진단코드']).strip() == '2071': \n",
    "        df.loc[i, '진단코드'] = '구토설사혈변'    \n",
    "    if str(df.loc[i, '주진단코드']).strip() == '2170': \n",
    "        df.loc[i, '진단코드'] = '치주염'    \n",
    "    if str(df.loc[i, '주진단코드']).strip() == '2116': \n",
    "        df.loc[i, '진단코드'] = '유선종양'    \n",
    "    if str(df.loc[i, '주진단코드']).strip() == '2095': \n",
    "        df.loc[i, '진단코드'] = '고양이하부요로질환'      \n",
    "    if str(df.loc[i, '주진단코드']).strip() == '2126': \n",
    "        df.loc[i, '진단코드'] = '경련 발작'    \n",
    "    if str(df.loc[i, '주진단코드']).strip() == '2185': \n",
    "        df.loc[i, '진단코드'] = '슬개골탈구'        \n",
    "    if str(df.loc[i, '주진단코드']).strip() == '2274': \n",
    "        df.loc[i, '진단코드'] = '교상'      \n",
    "    if str(df.loc[i, '주진단코드']).strip() == '2244': \n",
    "        df.loc[i, '진단코드'] = '당뇨병'              "
   ]
  },
  {
   "cell_type": "code",
   "execution_count": 20,
   "metadata": {},
   "outputs": [],
   "source": [
    "df['진단코드'] = df['진단코드'].apply(lambda x : np.nan if str(x) == '' else x)"
   ]
  },
  {
   "cell_type": "code",
   "execution_count": 21,
   "metadata": {},
   "outputs": [
    {
     "name": "stdout",
     "output_type": "stream",
     "text": [
      "(12224, 4)\n",
      "(6156, 4)\n"
     ]
    }
   ],
   "source": [
    "print(df.shape)\n",
    "df.dropna(subset=['진단코드'], inplace=True)\n",
    "print(df.shape)"
   ]
  },
  {
   "cell_type": "code",
   "execution_count": 22,
   "metadata": {},
   "outputs": [
    {
     "data": {
      "text/plain": [
       "위장염          661\n",
       "심장질환         607\n",
       "중성화          580\n",
       "소화관 이물       564\n",
       "신장질환         479\n",
       "췌장염          479\n",
       "자궁 축농증       377\n",
       "방광질환         372\n",
       "구토설사혈변       324\n",
       "치주염          313\n",
       "폐질환          221\n",
       "유선종양         200\n",
       "고양이하부요로질환    174\n",
       "건강검진         156\n",
       "간질환          144\n",
       "경련 발작        137\n",
       "슬개골탈구        136\n",
       "교상           120\n",
       "당뇨병          112\n",
       "Name: 진단코드, dtype: int64"
      ]
     },
     "execution_count": 22,
     "metadata": {},
     "output_type": "execute_result"
    }
   ],
   "source": [
    "df['진단코드'].value_counts()"
   ]
  },
  {
   "cell_type": "code",
   "execution_count": 23,
   "metadata": {},
   "outputs": [],
   "source": [
    "import pandas as pd\n",
    "import numpy as np\n",
    "import os\n",
    "import re\n",
    "import sys\n",
    "from sklearn.preprocessing import LabelEncoder\n",
    "from sklearn.model_selection import train_test_split"
   ]
  },
  {
   "cell_type": "code",
   "execution_count": 24,
   "metadata": {},
   "outputs": [],
   "source": [
    "encoder = LabelEncoder()\n",
    "encoder.fit(df['진단코드'])\n",
    "df['label_id'] = encoder.transform(df['진단코드'])"
   ]
  },
  {
   "cell_type": "code",
   "execution_count": 25,
   "metadata": {},
   "outputs": [
    {
     "data": {
      "text/html": [
       "<div>\n",
       "<style scoped>\n",
       "    .dataframe tbody tr th:only-of-type {\n",
       "        vertical-align: middle;\n",
       "    }\n",
       "\n",
       "    .dataframe tbody tr th {\n",
       "        vertical-align: top;\n",
       "    }\n",
       "\n",
       "    .dataframe thead th {\n",
       "        text-align: right;\n",
       "    }\n",
       "</style>\n",
       "<table border=\"1\" class=\"dataframe\">\n",
       "  <thead>\n",
       "    <tr style=\"text-align: right;\">\n",
       "      <th></th>\n",
       "      <th>질병명</th>\n",
       "      <th>주진단코드</th>\n",
       "      <th>SE</th>\n",
       "      <th>진단코드</th>\n",
       "      <th>label_id</th>\n",
       "    </tr>\n",
       "  </thead>\n",
       "  <tbody>\n",
       "    <tr>\n",
       "      <th>1</th>\n",
       "      <td>당뇨병</td>\n",
       "      <td>2244</td>\n",
       "      <td>s 다음다뇨 식욕부진 최근들어 다음다뇨 증상과 month 전부터는 식욕도 약간 떨어...</td>\n",
       "      <td>당뇨병</td>\n",
       "      <td>6</td>\n",
       "    </tr>\n",
       "    <tr>\n",
       "      <th>2</th>\n",
       "      <td>췌장염</td>\n",
       "      <td>2082</td>\n",
       "      <td>오전 통화 by 관중 일주일동안 밥안먹고 활력저하됨 보호자님 복부촉진식 통증은 확...</td>\n",
       "      <td>췌장염</td>\n",
       "      <td>16</td>\n",
       "    </tr>\n",
       "    <tr>\n",
       "      <th>3</th>\n",
       "      <td>만성 신장 질환 (신부전 포함)</td>\n",
       "      <td>2087</td>\n",
       "      <td>쿠싱약 안먹고 와서 쿠싱검사는 time 에 하기로 함 흉방에서 cvc 허탈 심해서...</td>\n",
       "      <td>신장질환</td>\n",
       "      <td>10</td>\n",
       "    </tr>\n",
       "    <tr>\n",
       "      <th>4</th>\n",
       "      <td>간 효소 상승 (원인 미정)</td>\n",
       "      <td>2081</td>\n",
       "      <td>s 건강검진 진행함 혈액검사 간수치 상승 alp alt 모두 상승함 영상검사 신장의...</td>\n",
       "      <td>간질환</td>\n",
       "      <td>0</td>\n",
       "    </tr>\n",
       "    <tr>\n",
       "      <th>5</th>\n",
       "      <td>당뇨병</td>\n",
       "      <td>2244</td>\n",
       "      <td>money 선결제 하셨습니다. 송이 식욕부진 구토 month 전부터 식욕부진 구토...</td>\n",
       "      <td>당뇨병</td>\n",
       "      <td>6</td>\n",
       "    </tr>\n",
       "  </tbody>\n",
       "</table>\n",
       "</div>"
      ],
      "text/plain": [
       "                   질병명 주진단코드  \\\n",
       "1                 당뇨병   2244   \n",
       "2                 췌장염   2082   \n",
       "3   만성 신장 질환 (신부전 포함)   2087   \n",
       "4     간 효소 상승 (원인 미정)   2081   \n",
       "5                 당뇨병   2244   \n",
       "\n",
       "                                                  SE  진단코드  label_id  \n",
       "1  s 다음다뇨 식욕부진 최근들어 다음다뇨 증상과 month 전부터는 식욕도 약간 떨어...   당뇨병         6  \n",
       "2   오전 통화 by 관중 일주일동안 밥안먹고 활력저하됨 보호자님 복부촉진식 통증은 확...   췌장염        16  \n",
       "3   쿠싱약 안먹고 와서 쿠싱검사는 time 에 하기로 함 흉방에서 cvc 허탈 심해서...  신장질환        10  \n",
       "4  s 건강검진 진행함 혈액검사 간수치 상승 alp alt 모두 상승함 영상검사 신장의...   간질환         0  \n",
       "5   money 선결제 하셨습니다. 송이 식욕부진 구토 month 전부터 식욕부진 구토...   당뇨병         6  "
      ]
     },
     "execution_count": 25,
     "metadata": {},
     "output_type": "execute_result"
    }
   ],
   "source": [
    "df.head()"
   ]
  },
  {
   "cell_type": "code",
   "execution_count": null,
   "metadata": {},
   "outputs": [],
   "source": [
    "train, test = train_test_split(df,test_size=0.1, random_state=100 )\n",
    "train.to_csv('files/train1.csv', index=None)\n",
    "test.to_csv('files/test1.csv', index=None)\n",
    "print(train.shape)\n",
    "print(test.shape)"
   ]
  },
  {
   "cell_type": "code",
   "execution_count": null,
   "metadata": {},
   "outputs": [],
   "source": [
    "train = pd.read_csv('files/train1.csv')\n",
    "test = pd.read_csv('files/test1.csv')\n",
    "df = pd.concat([train, test])\n",
    "df.shape"
   ]
  },
  {
   "cell_type": "code",
   "execution_count": 26,
   "metadata": {},
   "outputs": [],
   "source": [
    "label_dict1 = df['진단코드'].value_counts()[0:10].to_dict()\n",
    "def make_label_id1(label) :\n",
    "    if not label in label_dict1.keys() :\n",
    "        label = np.nan\n",
    "    return label"
   ]
  },
  {
   "cell_type": "code",
   "execution_count": 27,
   "metadata": {},
   "outputs": [
    {
     "name": "stdout",
     "output_type": "stream",
     "text": [
      "(6156, 5)\n",
      "(4756, 5)\n"
     ]
    }
   ],
   "source": [
    "# df['label_id'] = ''\n",
    "df['진단코드'] = df['진단코드'].apply(lambda x : make_label_id1(x))\n",
    "print(df.shape)\n",
    "df.dropna(subset=['진단코드'], inplace=True)\n",
    "print(df.shape)"
   ]
  },
  {
   "cell_type": "code",
   "execution_count": null,
   "metadata": {},
   "outputs": [],
   "source": [
    "encoder = LabelEncoder()\n",
    "encoder.fit(df['진단코드'])\n",
    "df['label_id'] = encoder.transform(df['진단코드'])"
   ]
  },
  {
   "cell_type": "code",
   "execution_count": null,
   "metadata": {},
   "outputs": [],
   "source": [
    "train, test = train_test_split(df,test_size=0.1, random_state=100 )\n",
    "train.to_csv('files/train2.csv', index=None)\n",
    "test.to_csv('files/test2.csv', index=None)\n",
    "print(train.shape)\n",
    "print(test.shape)"
   ]
  },
  {
   "cell_type": "code",
   "execution_count": null,
   "metadata": {},
   "outputs": [],
   "source": [
    "#########"
   ]
  },
  {
   "cell_type": "code",
   "execution_count": null,
   "metadata": {},
   "outputs": [],
   "source": []
  }
 ],
 "metadata": {
  "kernelspec": {
   "display_name": "Python 3",
   "language": "python",
   "name": "python3"
  },
  "language_info": {
   "codemirror_mode": {
    "name": "ipython",
    "version": 3
   },
   "file_extension": ".py",
   "mimetype": "text/x-python",
   "name": "python",
   "nbconvert_exporter": "python",
   "pygments_lexer": "ipython3",
   "version": "3.6.9"
  }
 },
 "nbformat": 4,
 "nbformat_minor": 4
}
