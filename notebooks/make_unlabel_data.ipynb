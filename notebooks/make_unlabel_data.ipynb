{
 "cells": [
  {
   "cell_type": "code",
   "execution_count": 1,
   "metadata": {},
   "outputs": [],
   "source": [
    "import pandas as pd\n",
    "import numpy as np\n",
    "import sys\n",
    "sys.path.append('../')\n",
    "from preprop import *\n",
    "import os\n",
    "import re\n",
    "\n",
    "import emoji\n",
    "from soynlp.normalizer import repeat_normalize"
   ]
  },
  {
   "cell_type": "code",
   "execution_count": 222,
   "metadata": {},
   "outputs": [],
   "source": [
    "# https://github.com/Beomi/KcBERT\n",
    "# !pip install soynlp emoji"
   ]
  },
  {
   "cell_type": "code",
   "execution_count": 223,
   "metadata": {},
   "outputs": [
    {
     "name": "stdout",
     "output_type": "stream",
     "text": [
      "Index(['환자ID', '보호자명', '환자명', '품종코드', '품종', '생일', '성별코드', '성별', '진단일', '진단분류',\n",
      "       '진단명', 'SE기록일', 'SE'],\n",
      "      dtype='object')\n",
      "(38557, 13)\n",
      "Index(['환자ID', '보호자명', '환자명', '품종코드', '품종', '생일', '성별코드', '성별', '진단일', '진단분류',\n",
      "       '진단명', 'SE기록일', 'SE'],\n",
      "      dtype='object')\n",
      "(56346, 13)\n",
      "Index(['환자ID', '보호자명', '환자명', '품종코드', '품종', '생일', '성별코드', '성별', '진단일', '진단분류',\n",
      "       '진단명', 'SE기록일', 'SE'],\n",
      "      dtype='object')\n",
      "(35266, 13)\n",
      "Index(['환자ID', '보호자명', '환자명', '품종코드', '품종', '생일', '성별코드', '성별', '진단일', '진단분류',\n",
      "       '진단명', 'SE기록일', 'SE'],\n",
      "      dtype='object')\n",
      "(11965, 13)\n",
      "Index(['환자ID', '보호자명', '환자명', '품종코드', '품종', '생일', '성별코드', '성별', '진단일', '진단분류',\n",
      "       '진단명', 'SE기록일', 'SE'],\n",
      "      dtype='object')\n",
      "(62317, 13)\n",
      "Index(['환자ID', '보호자명', '환자명', '품종코드', '품종', '생일', '성별코드', '성별', '진단일', '진단분류',\n",
      "       '진단명', 'SE기록일', 'SE'],\n",
      "      dtype='object')\n",
      "(64478, 13)\n",
      "Index(['환자ID', '보호자명', '환자명', '품종코드', '품종', '생일', '성별코드', '성별', '진단일', '진단분류',\n",
      "       '진단명', 'SE기록일', 'SE'],\n",
      "      dtype='object')\n",
      "(39577, 13)\n",
      "Index(['환자ID', '보호자명', '환자명', '품종코드', '품종', '생일', '성별코드', '성별', '진단일', '진단분류',\n",
      "       '진단명', 'SE기록일', 'SE'],\n",
      "      dtype='object')\n",
      "(33293, 13)\n",
      "Index(['환자ID', '보호자명', '환자명', '품종코드', '품종', '생일', '성별코드', '성별', '진단일', '진단분류',\n",
      "       '진단명', 'SE기록일', 'SE'],\n",
      "      dtype='object')\n",
      "(21597, 13)\n",
      "Index(['환자ID', '보호자명', '환자명', '품종코드', '품종', '생일', '성별코드', '성별', '진단일', '진단분류',\n",
      "       '진단명', 'SE기록일', 'SE'],\n",
      "      dtype='object')\n",
      "(37351, 13)\n",
      "Index(['환자ID', '보호자명', '환자명', '품종코드', '품종', '생일', '성별코드', '성별', '진단일', '진단분류',\n",
      "       '진단명', 'SE기록일', 'SE'],\n",
      "      dtype='object')\n",
      "(28657, 13)\n",
      "Index(['환자ID', '보호자명', '환자명', '품종코드', '품종', '생일', '성별코드', '성별', '진단일', '진단분류',\n",
      "       '진단명', 'SE기록일', 'SE'],\n",
      "      dtype='object')\n",
      "(6997, 13)\n",
      "Index(['환자ID', '보호자명', '환자명', '품종코드', '품종', '생일', '성별코드', '성별', '진단일', '진단분류',\n",
      "       '진단명', 'SE기록일', 'SE'],\n",
      "      dtype='object')\n",
      "(35102, 13)\n",
      "Index(['환자ID', '보호자명', '환자명', '품종코드', '품종', '생일', '성별코드', '성별', '진단일', '진단분류',\n",
      "       '진단명', 'SE기록일', 'SE'],\n",
      "      dtype='object')\n",
      "(15400, 13)\n",
      "Index(['환자ID', '보호자명', '환자명', '품종코드', '품종', '생일', '성별코드', '성별', '진단일', '진단분류',\n",
      "       '진단명', 'SE기록일', 'SE'],\n",
      "      dtype='object')\n",
      "(32127, 13)\n",
      "Index(['환자ID', '보호자명', '환자명', '품종코드', '품종', '생일', '성별코드', '성별', '진단일', '진단분류',\n",
      "       '진단명', 'SE기록일', 'SE'],\n",
      "      dtype='object')\n",
      "(16326, 13)\n",
      "Index(['환자ID', '보호자명', '환자명', '품종코드', '품종', '생일', '성별코드', '성별', '진단일', '진단분류',\n",
      "       '진단명', 'SE기록일', 'SE'],\n",
      "      dtype='object')\n",
      "(25772, 13)\n",
      "Index(['환자ID', '보호자명', '환자명', '품종코드', '품종', '생일', '성별코드', '성별', '진단일', '진단분류',\n",
      "       '진단명', 'SE기록일', 'SE'],\n",
      "      dtype='object')\n",
      "(27029, 13)\n",
      "Index(['환자ID', '보호자명', '환자명', '품종코드', '품종', '생일', '성별코드', '성별', '진단일', '진단분류',\n",
      "       '진단명', 'SE기록일', 'SE'],\n",
      "      dtype='object')\n",
      "(34486, 13)\n",
      "Index(['환자ID', '보호자명', '환자명', '품종코드', '품종', '생일', '성별코드', '성별', '진단일', '진단분류',\n",
      "       '진단명', 'SE기록일', 'SE'],\n",
      "      dtype='object')\n",
      "(16336, 13)\n",
      "Index(['환자ID', '보호자명', '환자명', '품종코드', '품종', '생일', '성별코드', '성별', '진단일', '진단분류',\n",
      "       '진단명', 'SE기록일', 'SE'],\n",
      "      dtype='object')\n",
      "(25213, 13)\n",
      "Index(['환자ID', '보호자명', '환자명', '품종코드', '품종', '생일', '성별코드', '성별', '진단일', '진단분류',\n",
      "       '진단명', 'SE기록일', 'SE'],\n",
      "      dtype='object')\n",
      "(38660, 13)\n",
      "Index(['환자ID', '보호자명', '환자명', '품종코드', '품종', '생일', '성별코드', '성별', '진단일', '진단분류',\n",
      "       '진단명', 'SE기록일', 'SE'],\n",
      "      dtype='object')\n",
      "(15072, 13)\n",
      "Index(['환자ID', '보호자명', '환자명', '품종코드', '품종', '생일', '성별코드', '성별', '진단일', '진단분류',\n",
      "       '진단명', 'SE기록일', 'SE'],\n",
      "      dtype='object')\n",
      "(14830, 13)\n",
      "Index(['환자ID', '보호자명', '환자명', '품종코드', '품종', '생일', '성별코드', '성별', '진단일', '진단분류',\n",
      "       '진단명', 'SE기록일', 'SE'],\n",
      "      dtype='object')\n",
      "(37501, 13)\n",
      "Index(['환자ID', '보호자명', '환자명', '품종코드', '품종', '생일', '성별코드', '성별', '진단일', '진단분류',\n",
      "       '진단명', 'SE기록일', 'SE'],\n",
      "      dtype='object')\n",
      "(14012, 13)\n",
      "Index(['환자ID', '보호자명', '환자명', '품종코드', '품종', '생일', '성별코드', '성별', '진단일', '진단분류',\n",
      "       '진단명', 'SE기록일', 'SE'],\n",
      "      dtype='object')\n",
      "(37551, 13)\n",
      "Index(['환자ID', '보호자명', '환자명', '품종코드', '품종', '생일', '성별코드', '성별', '진단일', '진단분류',\n",
      "       '진단명', 'SE기록일', 'SE'],\n",
      "      dtype='object')\n",
      "(24617, 13)\n",
      "Index(['환자ID', '보호자명', '환자명', '품종코드', '품종', '생일', '성별코드', '성별', '진단일', '진단분류',\n",
      "       '진단명', 'SE기록일', 'SE'],\n",
      "      dtype='object')\n",
      "(25030, 13)\n",
      "Index(['환자ID', '보호자명', '환자명', '품종코드', '품종', '생일', '성별코드', '성별', '진단일', '진단분류',\n",
      "       '진단명', 'SE기록일', 'SE'],\n",
      "      dtype='object')\n",
      "(2359, 13)\n",
      "Index(['환자ID', '보호자명', '환자명', '품종코드', '품종', '생일', '성별코드', '성별', '진단일', '진단분류',\n",
      "       '진단명', 'SE기록일', 'SE'],\n",
      "      dtype='object')\n",
      "(19192, 13)\n",
      "Index(['환자ID', '보호자명', '환자명', '품종코드', '품종', '생일', '성별코드', '성별', '진단일', '진단분류',\n",
      "       '진단명', 'SE기록일', 'SE'],\n",
      "      dtype='object')\n",
      "(11483, 13)\n",
      "Index(['환자ID', '보호자명', '환자명', '품종코드', '품종', '생일', '성별코드', '성별', '진단일', '진단분류',\n",
      "       '진단명', 'SE기록일', 'SE'],\n",
      "      dtype='object')\n",
      "(57074, 13)\n",
      "Index(['환자ID', '보호자명', '환자명', '품종코드', '품종', '생일', '성별코드', '성별', '진단일', '진단분류',\n",
      "       '진단명', 'SE기록일', 'SE'],\n",
      "      dtype='object')\n",
      "(19766, 13)\n",
      "(981339, 13)\n"
     ]
    }
   ],
   "source": [
    "data_dir = ['Unlabeled_data1', 'Unlabeled_data2', 'Unlabeled_data3']\n",
    "dfall = []\n",
    "for d in data_dir :\n",
    "    d = 'unlabel_data/' + d\n",
    "    files = [f for f in os.listdir(d) if f.endswith('xls') or f.endswith('xlsx')]\n",
    "    for f in files :\n",
    "        x1 = pd.ExcelFile( d + '/' + f)\n",
    "#         print(x1.sheet_names)\n",
    "        for sheet in x1.sheet_names :\n",
    "            df = x1.parse(sheet)\n",
    "            print(df.columns)\n",
    "            print(df.shape)\n",
    "            dfall.append(df)\n",
    "            \n",
    "df = pd.concat(dfall)      \n",
    "print(df.shape)\n",
    "df.reset_index(drop=True, inplace=True)\n",
    "df.to_csv('files/unlabel.csv', index=None)\n"
   ]
  },
  {
   "cell_type": "code",
   "execution_count": 2,
   "metadata": {},
   "outputs": [
    {
     "data": {
      "text/plain": [
       "(981339, 2)"
      ]
     },
     "execution_count": 2,
     "metadata": {},
     "output_type": "execute_result"
    }
   ],
   "source": [
    "# df.to_csv('files/unlabel.csv', index=None)\n",
    "df = pd.read_csv('files/unlabel.csv')\n",
    "df = df[['진단명', 'SE']]\n",
    "df.shape"
   ]
  },
  {
   "cell_type": "code",
   "execution_count": 3,
   "metadata": {},
   "outputs": [],
   "source": [
    "# data_dir = ['PMS_unlabel_2차분']\n",
    "# dfall = []\n",
    "# for d in data_dir :\n",
    "#     d = 'unlabel_data/' + d\n",
    "#     files = [f for f in os.listdir(d) if f.endswith('xls') or f.endswith('xlsx')]\n",
    "#     for f in files :\n",
    "#         x1 = pd.ExcelFile( d + '/' + f)\n",
    "# #         print(x1.sheet_names)\n",
    "#         for sheet in x1.sheet_names :\n",
    "#             df = x1.parse(sheet)\n",
    "#             print(df.columns)\n",
    "#             print(df.shape)\n",
    "#             dfall.append(df)\n",
    "            \n",
    "# df = pd.concat(dfall)      \n",
    "# print(df.shape)\n",
    "# df.reset_index(drop=True, inplace=True)\n",
    "# # df.to_csv('files/unlabel.csv', index=None)"
   ]
  },
  {
   "cell_type": "code",
   "execution_count": 4,
   "metadata": {},
   "outputs": [
    {
     "name": "stdout",
     "output_type": "stream",
     "text": [
      "Sheet2\n",
      "Index(['Sheet 1', 'ASSESSMENT_NAME', 'CHART_ID', 'CHART_MEMO', 'CHART_DATE',\n",
      "       'COMPANY_NAME'],\n",
      "      dtype='object')\n",
      "Sheet1\n",
      "Index([], dtype='object')\n"
     ]
    }
   ],
   "source": [
    "x2 = pd.ExcelFile('unlabel_data/PMS_unlabel_data.xlsx')\n",
    "for sheet in x2.sheet_names :\n",
    "    print(sheet)\n",
    "    df1 = x2.parse(sheet)\n",
    "    print(df1.columns)\n",
    "df1 = x2.parse('Sheet2')\n"
   ]
  },
  {
   "cell_type": "code",
   "execution_count": 5,
   "metadata": {},
   "outputs": [
    {
     "data": {
      "text/plain": [
       "(106750, 2)"
      ]
     },
     "execution_count": 5,
     "metadata": {},
     "output_type": "execute_result"
    }
   ],
   "source": [
    "df1 = df1[['ASSESSMENT_NAME', 'CHART_MEMO']]\n",
    "df1.columns = ['진단명', 'SE']\n",
    "df1.shape"
   ]
  },
  {
   "cell_type": "code",
   "execution_count": 6,
   "metadata": {},
   "outputs": [
    {
     "data": {
      "text/plain": [
       "(1088089, 2)"
      ]
     },
     "execution_count": 6,
     "metadata": {},
     "output_type": "execute_result"
    }
   ],
   "source": [
    "df = pd.concat([df, df1])\n",
    "df.reset_index(drop=True, inplace=True)\n",
    "df.shape"
   ]
  },
  {
   "cell_type": "code",
   "execution_count": 7,
   "metadata": {},
   "outputs": [
    {
     "data": {
      "text/plain": [
       "Pancreatitis                                   4464\n",
       "RESPIRATORY DISTRESS SYNDROME, ACUTE           3194\n",
       "Otitis Externa                                 3149\n",
       "Anti-inflamation                               2844\n",
       "Malassezia Dermatitis                          2374\n",
       "Vomiting, Acute                                2244\n",
       "Pulmonary Edema                                2104\n",
       "Dyspnea and Tachypnea                          2012\n",
       "Chronic Renal Disease (CKD) - IRIS stage       1947\n",
       "dermatits-bacterial                            1846\n",
       "Dermatophytosis                                1713\n",
       "Blood Typing: DEA 1.1 positive                 1655\n",
       "Vaccination                                    1431\n",
       "Cancer PS(Prevalence Survey)                   1391\n",
       "OTITIS EXTERNA - BACTERIAL INFECTION           1384\n",
       "Dressing                                       1377\n",
       "췌장염(Pancreatitis)                              1323\n",
       "Ear flushing                                   1253\n",
       "Mitral valve insufficiency (MVI)               1223\n",
       "Anorexia                                       1222\n",
       "G-I trouble                                    1185\n",
       "Anemia                                         1107\n",
       "Pyometra and Cystic Endometrial Hyperplasia    1095\n",
       "ENTERITIS                                      1090\n",
       "소염요법                                           1026\n",
       "Cystitis(방광염)                                  1017\n",
       "Hypothyroidism(갑상선 기능저하증)                       989\n",
       "Cough                                           970\n",
       "OTITIS EXTERNA -MALASSEZIA                      955\n",
       "정상                                              945\n",
       "중성화수술 - 남                                       942\n",
       "Patellar Luxation                               935\n",
       "Pulmonary Edema, Noncardiogenic                 925\n",
       "Tracheal Collapse - Dogs                        906\n",
       "스케일링                                            894\n",
       "Inflammatory Bowel Disease (IBD)                878\n",
       "pneumonia                                       860\n",
       "슬개골탈구(Patellar Luxation)                        854\n",
       "Otitis Externa - Bacterial Infection            850\n",
       "Azotemia                                        838\n",
       "슬개골 내측탈구 좌측(Lt) -G3                             836\n",
       "Diarrhea, Acute(급성 설사)                          821\n",
       "Peritonitis(복막염)                                811\n",
       "불임수술 - 여                                        792\n",
       "치석(Calculus)                                    782\n",
       "Seizure(Unknown origin)                         772\n",
       "Gall Bladder Mucocele(GBM)                      760\n",
       "Rt 슬개골 내측탈구 우측(Rt) - G3                         733\n",
       "만성 신부전(Renal Failure - Chronic)                 726\n",
       "방광결석                                            722\n",
       "Name: 진단명, dtype: int64"
      ]
     },
     "execution_count": 7,
     "metadata": {},
     "output_type": "execute_result"
    }
   ],
   "source": [
    "df['진단명'].value_counts()[0:50]"
   ]
  },
  {
   "cell_type": "code",
   "execution_count": 9,
   "metadata": {},
   "outputs": [
    {
     "data": {
      "text/plain": [
       "210885"
      ]
     },
     "execution_count": 9,
     "metadata": {},
     "output_type": "execute_result"
    }
   ],
   "source": [
    "df['진단명'].value_counts()[0:1000].sum()"
   ]
  },
  {
   "cell_type": "code",
   "execution_count": 10,
   "metadata": {},
   "outputs": [
    {
     "data": {
      "text/plain": [
       "(1065829, 2)"
      ]
     },
     "execution_count": 10,
     "metadata": {},
     "output_type": "execute_result"
    }
   ],
   "source": [
    "df.dropna(subset=['SE'], inplace=True)\n",
    "df.shape"
   ]
  },
  {
   "cell_type": "code",
   "execution_count": 11,
   "metadata": {},
   "outputs": [
    {
     "data": {
      "text/plain": [
       "(872491, 2)"
      ]
     },
     "execution_count": 11,
     "metadata": {},
     "output_type": "execute_result"
    }
   ],
   "source": [
    "df.drop_duplicates(subset=['SE'], inplace=True)\n",
    "df.shape"
   ]
  },
  {
   "cell_type": "code",
   "execution_count": 12,
   "metadata": {},
   "outputs": [
    {
     "data": {
      "text/plain": [
       "(693898, 3)"
      ]
     },
     "execution_count": 12,
     "metadata": {},
     "output_type": "execute_result"
    }
   ],
   "source": [
    "df['len'] = df['SE'].apply(lambda x : len(str(x)))\n",
    "df = df[df['len'] > 50]\n",
    "df.shape"
   ]
  },
  {
   "cell_type": "code",
   "execution_count": 13,
   "metadata": {},
   "outputs": [],
   "source": [
    "emojis = ''.join(emoji.UNICODE_EMOJI.keys())\n",
    "pattern = re.compile(f'[^ .,?!/@$%~％·∼()\\x00-\\x7Fㄱ-힣{emojis}]+')\n",
    "url_pattern = re.compile(\n",
    "    r'https?:\\/\\/(www\\.)?[-a-zA-Z0-9@:%._\\+~#=]{1,256}\\.[a-zA-Z0-9()]{1,6}\\b([-a-zA-Z0-9()@:%_\\+.~#?&//=]*)')"
   ]
  },
  {
   "cell_type": "code",
   "execution_count": 14,
   "metadata": {},
   "outputs": [],
   "source": [
    "def clean(x):\n",
    "    x = pattern.sub(' ', x)\n",
    "    x = url_pattern.sub('', x)\n",
    "    x = x.strip()\n",
    "    x = repeat_normalize(x, num_repeats=2)\n",
    "    return x"
   ]
  },
  {
   "cell_type": "code",
   "execution_count": 15,
   "metadata": {},
   "outputs": [],
   "source": [
    "df.SE = df.SE.apply(lambda x : clean(str(x)))"
   ]
  },
  {
   "cell_type": "code",
   "execution_count": 16,
   "metadata": {},
   "outputs": [
    {
     "data": {
      "text/plain": [
       "(674445, 3)"
      ]
     },
     "execution_count": 16,
     "metadata": {},
     "output_type": "execute_result"
    }
   ],
   "source": [
    "df['len'] = df['SE'].apply(lambda x : len(str(x)))\n",
    "df = df[df['len'] > 50]\n",
    "df.shape"
   ]
  },
  {
   "cell_type": "code",
   "execution_count": 18,
   "metadata": {},
   "outputs": [],
   "source": [
    "def clean1(text) :\n",
    "    text = phone_number_filter(text)\n",
    "    text = url_filter(text)\n",
    "    text = price_filter(text)\n",
    "    text = date_filter(text)\n",
    "    text = time_filter(text)\n",
    "    text = remove_name(text)\n",
    "    text = re.sub('[ ][0-9]+[ ]','', text )\n",
    "    text = re.sub('[\\s]+[a-z][\\s]+', ' ', text )\n",
    "    text = re.sub('[.]+', '.', text )\n",
    "    text = re.sub('[-]+', '-', text )\n",
    "    text = re.sub('[ ]+', ' ', text )    \n",
    "    return text"
   ]
  },
  {
   "cell_type": "code",
   "execution_count": 19,
   "metadata": {},
   "outputs": [],
   "source": [
    "# df.SE = df.SE.apply(lambda x : preprocess(str(x)))\n",
    "df_pre1 = df.copy()\n",
    "df.SE = df.SE.apply(lambda x : clean1(str(x)))\n",
    "df_pre1.SE = df_pre1.SE.apply(lambda x : preprocess(str(x)))\n",
    "df['len'] = df['SE'].apply(lambda x : len(str(x)))\n",
    "df_pre1['len'] = df_pre1['SE'].apply(lambda x : len(str(x)))"
   ]
  },
  {
   "cell_type": "code",
   "execution_count": 20,
   "metadata": {},
   "outputs": [
    {
     "data": {
      "text/plain": [
       "(672172, 3)"
      ]
     },
     "execution_count": 20,
     "metadata": {},
     "output_type": "execute_result"
    }
   ],
   "source": [
    "df = df[df['len'] > 50]\n",
    "df.shape"
   ]
  },
  {
   "cell_type": "code",
   "execution_count": 21,
   "metadata": {},
   "outputs": [
    {
     "data": {
      "text/plain": [
       "(659565, 3)"
      ]
     },
     "execution_count": 21,
     "metadata": {},
     "output_type": "execute_result"
    }
   ],
   "source": [
    "df_pre1 = df_pre1[df_pre1['len'] > 50]\n",
    "df_pre1.shape"
   ]
  },
  {
   "cell_type": "code",
   "execution_count": 22,
   "metadata": {},
   "outputs": [
    {
     "data": {
      "text/html": [
       "<div>\n",
       "<style scoped>\n",
       "    .dataframe tbody tr th:only-of-type {\n",
       "        vertical-align: middle;\n",
       "    }\n",
       "\n",
       "    .dataframe tbody tr th {\n",
       "        vertical-align: top;\n",
       "    }\n",
       "\n",
       "    .dataframe thead th {\n",
       "        text-align: right;\n",
       "    }\n",
       "</style>\n",
       "<table border=\"1\" class=\"dataframe\">\n",
       "  <thead>\n",
       "    <tr style=\"text-align: right;\">\n",
       "      <th></th>\n",
       "      <th>진단명</th>\n",
       "      <th>SE</th>\n",
       "      <th>len</th>\n",
       "    </tr>\n",
       "  </thead>\n",
       "  <tbody>\n",
       "    <tr>\n",
       "      <th>0</th>\n",
       "      <td>Anorexia</td>\n",
       "      <td>[ ] - 체온 37.5 - 호흡수 36-24-27, shivering 있음 - M...</td>\n",
       "      <td>463</td>\n",
       "    </tr>\n",
       "    <tr>\n",
       "      <th>1</th>\n",
       "      <td>Anorexia</td>\n",
       "      <td>1.CC : 식욕부진 2.HPI - 평소 식욕이 좋았으나 최근 열흘동안 식욕부진 계...</td>\n",
       "      <td>765</td>\n",
       "    </tr>\n",
       "    <tr>\n",
       "      <th>16</th>\n",
       "      <td>NaN</td>\n",
       "      <td>[퇴원기록 by 최새롬] - 식욕부진으로 내원, 내원 후 보호자분 비용부담으로 최소...</td>\n",
       "      <td>318</td>\n",
       "    </tr>\n",
       "    <tr>\n",
       "      <th>17</th>\n",
       "      <td>NaN</td>\n",
       "      <td>[S] - 설사 지속, 계속 끙끙거리면서 잠을 못 이룸 - 오늘 아침부터 호흡 및 ...</td>\n",
       "      <td>219</td>\n",
       "    </tr>\n",
       "    <tr>\n",
       "      <th>18</th>\n",
       "      <td>Splenic mass</td>\n",
       "      <td>1.CC : 복강 내 종양 및 담낭 파열 의심 (서울 예스ah) 2.HPI - mo...</td>\n",
       "      <td>1086</td>\n",
       "    </tr>\n",
       "  </tbody>\n",
       "</table>\n",
       "</div>"
      ],
      "text/plain": [
       "             진단명                                                 SE   len\n",
       "0       Anorexia  [ ] - 체온 37.5 - 호흡수 36-24-27, shivering 있음 - M...   463\n",
       "1       Anorexia  1.CC : 식욕부진 2.HPI - 평소 식욕이 좋았으나 최근 열흘동안 식욕부진 계...   765\n",
       "16           NaN  [퇴원기록 by 최새롬] - 식욕부진으로 내원, 내원 후 보호자분 비용부담으로 최소...   318\n",
       "17           NaN  [S] - 설사 지속, 계속 끙끙거리면서 잠을 못 이룸 - 오늘 아침부터 호흡 및 ...   219\n",
       "18  Splenic mass  1.CC : 복강 내 종양 및 담낭 파열 의심 (서울 예스ah) 2.HPI - mo...  1086"
      ]
     },
     "execution_count": 22,
     "metadata": {},
     "output_type": "execute_result"
    }
   ],
   "source": [
    "df.head()"
   ]
  },
  {
   "cell_type": "code",
   "execution_count": 23,
   "metadata": {},
   "outputs": [
    {
     "data": {
      "text/html": [
       "<div>\n",
       "<style scoped>\n",
       "    .dataframe tbody tr th:only-of-type {\n",
       "        vertical-align: middle;\n",
       "    }\n",
       "\n",
       "    .dataframe tbody tr th {\n",
       "        vertical-align: top;\n",
       "    }\n",
       "\n",
       "    .dataframe thead th {\n",
       "        text-align: right;\n",
       "    }\n",
       "</style>\n",
       "<table border=\"1\" class=\"dataframe\">\n",
       "  <thead>\n",
       "    <tr style=\"text-align: right;\">\n",
       "      <th></th>\n",
       "      <th>진단명</th>\n",
       "      <th>SE</th>\n",
       "      <th>len</th>\n",
       "    </tr>\n",
       "  </thead>\n",
       "  <tbody>\n",
       "    <tr>\n",
       "      <th>0</th>\n",
       "      <td>Anorexia</td>\n",
       "      <td>체온 호흡수 shivering 있음 mm p.pink skin turgor 약간 ...</td>\n",
       "      <td>337</td>\n",
       "    </tr>\n",
       "    <tr>\n",
       "      <th>1</th>\n",
       "      <td>Anorexia</td>\n",
       "      <td>cc 식욕부진 hpi 평소 식욕이 좋았으나 최근 열흘동안 식욕부진 계속 한달 전부터...</td>\n",
       "      <td>584</td>\n",
       "    </tr>\n",
       "    <tr>\n",
       "      <th>16</th>\n",
       "      <td>NaN</td>\n",
       "      <td>퇴원기록 by 최새롬 식욕부진으로 내원 내원 후 보호자분 비용부담으로 최소한의 스...</td>\n",
       "      <td>293</td>\n",
       "    </tr>\n",
       "    <tr>\n",
       "      <th>17</th>\n",
       "      <td>NaN</td>\n",
       "      <td>설사 지속 계속 끙끙거리면서 잠을 못 이룸 오늘 아침부터 호흡 및 기력 안 좋아짐...</td>\n",
       "      <td>193</td>\n",
       "    </tr>\n",
       "    <tr>\n",
       "      <th>18</th>\n",
       "      <td>Splenic mass</td>\n",
       "      <td>cc 복강 내 종양 및 담낭 파열 의심 서울 예스ah hpi month 전 부터 연...</td>\n",
       "      <td>873</td>\n",
       "    </tr>\n",
       "  </tbody>\n",
       "</table>\n",
       "</div>"
      ],
      "text/plain": [
       "             진단명                                                 SE  len\n",
       "0       Anorexia   체온 호흡수 shivering 있음 mm p.pink skin turgor 약간 ...  337\n",
       "1       Anorexia  cc 식욕부진 hpi 평소 식욕이 좋았으나 최근 열흘동안 식욕부진 계속 한달 전부터...  584\n",
       "16           NaN   퇴원기록 by 최새롬 식욕부진으로 내원 내원 후 보호자분 비용부담으로 최소한의 스...  293\n",
       "17           NaN   설사 지속 계속 끙끙거리면서 잠을 못 이룸 오늘 아침부터 호흡 및 기력 안 좋아짐...  193\n",
       "18  Splenic mass  cc 복강 내 종양 및 담낭 파열 의심 서울 예스ah hpi month 전 부터 연...  873"
      ]
     },
     "execution_count": 23,
     "metadata": {},
     "output_type": "execute_result"
    }
   ],
   "source": [
    "df_pre1.head()"
   ]
  },
  {
   "cell_type": "code",
   "execution_count": 253,
   "metadata": {},
   "outputs": [
    {
     "data": {
      "text/html": [
       "<div>\n",
       "<style scoped>\n",
       "    .dataframe tbody tr th:only-of-type {\n",
       "        vertical-align: middle;\n",
       "    }\n",
       "\n",
       "    .dataframe tbody tr th {\n",
       "        vertical-align: top;\n",
       "    }\n",
       "\n",
       "    .dataframe thead th {\n",
       "        text-align: right;\n",
       "    }\n",
       "</style>\n",
       "<table border=\"1\" class=\"dataframe\">\n",
       "  <thead>\n",
       "    <tr style=\"text-align: right;\">\n",
       "      <th></th>\n",
       "      <th>len</th>\n",
       "    </tr>\n",
       "  </thead>\n",
       "  <tbody>\n",
       "    <tr>\n",
       "      <th>count</th>\n",
       "      <td>698619.000000</td>\n",
       "    </tr>\n",
       "    <tr>\n",
       "      <th>mean</th>\n",
       "      <td>268.324764</td>\n",
       "    </tr>\n",
       "    <tr>\n",
       "      <th>std</th>\n",
       "      <td>296.026361</td>\n",
       "    </tr>\n",
       "    <tr>\n",
       "      <th>min</th>\n",
       "      <td>41.000000</td>\n",
       "    </tr>\n",
       "    <tr>\n",
       "      <th>25%</th>\n",
       "      <td>94.000000</td>\n",
       "    </tr>\n",
       "    <tr>\n",
       "      <th>50%</th>\n",
       "      <td>174.000000</td>\n",
       "    </tr>\n",
       "    <tr>\n",
       "      <th>75%</th>\n",
       "      <td>333.000000</td>\n",
       "    </tr>\n",
       "    <tr>\n",
       "      <th>max</th>\n",
       "      <td>25356.000000</td>\n",
       "    </tr>\n",
       "  </tbody>\n",
       "</table>\n",
       "</div>"
      ],
      "text/plain": [
       "                 len\n",
       "count  698619.000000\n",
       "mean      268.324764\n",
       "std       296.026361\n",
       "min        41.000000\n",
       "25%        94.000000\n",
       "50%       174.000000\n",
       "75%       333.000000\n",
       "max     25356.000000"
      ]
     },
     "execution_count": 253,
     "metadata": {},
     "output_type": "execute_result"
    }
   ],
   "source": [
    "df.describe()"
   ]
  },
  {
   "cell_type": "code",
   "execution_count": 199,
   "metadata": {},
   "outputs": [],
   "source": [
    "# dft = df['SE']\n",
    "# dft.to_csv('files/pet.txt', index=None, header=False) "
   ]
  },
  {
   "cell_type": "code",
   "execution_count": 156,
   "metadata": {},
   "outputs": [],
   "source": [
    "# from tokenizers import ByteLevelBPETokenizer\n",
    "\n",
    "# tokenizer = ByteLevelBPETokenizer()\n",
    "\n",
    "# tokenizer.train(files='files/pet.txt', vocab_size=32000, min_frequency=50, special_tokens=[\n",
    "#     \"<s>\",\n",
    "#     \"<pad>\",\n",
    "#     \"</s>\",\n",
    "#     \"<unk>\",\n",
    "#     \"<mask>\",\n",
    "# ])"
   ]
  },
  {
   "cell_type": "code",
   "execution_count": 178,
   "metadata": {},
   "outputs": [],
   "source": [
    "# tokenizer.encode('hi my name is ,, 안녕 나는 고양이 좋아해').tokens"
   ]
  },
  {
   "cell_type": "code",
   "execution_count": 162,
   "metadata": {},
   "outputs": [],
   "source": [
    "# df.len = df.SE.apply(lambda x : len(tokenizer.encode(str(x)).tokens))"
   ]
  },
  {
   "cell_type": "code",
   "execution_count": 254,
   "metadata": {},
   "outputs": [
    {
     "data": {
      "text/html": [
       "<div>\n",
       "<style scoped>\n",
       "    .dataframe tbody tr th:only-of-type {\n",
       "        vertical-align: middle;\n",
       "    }\n",
       "\n",
       "    .dataframe tbody tr th {\n",
       "        vertical-align: top;\n",
       "    }\n",
       "\n",
       "    .dataframe thead th {\n",
       "        text-align: right;\n",
       "    }\n",
       "</style>\n",
       "<table border=\"1\" class=\"dataframe\">\n",
       "  <thead>\n",
       "    <tr style=\"text-align: right;\">\n",
       "      <th></th>\n",
       "      <th>진단명</th>\n",
       "      <th>SE</th>\n",
       "      <th>len</th>\n",
       "    </tr>\n",
       "  </thead>\n",
       "  <tbody>\n",
       "    <tr>\n",
       "      <th>0</th>\n",
       "      <td>Anorexia</td>\n",
       "      <td>체온 호흡수 shivering 있음 mm p.pink skin turgor 약간 ...</td>\n",
       "      <td>337</td>\n",
       "    </tr>\n",
       "    <tr>\n",
       "      <th>1</th>\n",
       "      <td>Anorexia</td>\n",
       "      <td>cc 식욕부진 hpi 평소 식욕이 좋았으나 최근 열흘동안 식욕부진 계속 한달 전부터...</td>\n",
       "      <td>584</td>\n",
       "    </tr>\n",
       "    <tr>\n",
       "      <th>16</th>\n",
       "      <td>NaN</td>\n",
       "      <td>퇴원기록 by 최새롬 식욕부진으로 내원 내원 후 보호자분 비용부담으로 최소한의 스...</td>\n",
       "      <td>293</td>\n",
       "    </tr>\n",
       "    <tr>\n",
       "      <th>17</th>\n",
       "      <td>NaN</td>\n",
       "      <td>설사 지속 계속 끙끙거리면서 잠을 못 이룸 오늘 아침부터 호흡 및 기력 안 좋아짐...</td>\n",
       "      <td>193</td>\n",
       "    </tr>\n",
       "    <tr>\n",
       "      <th>18</th>\n",
       "      <td>Splenic mass</td>\n",
       "      <td>cc 복강 내 종양 및 담낭 파열 의심 서울 예스ah hpi month 전 부터 연...</td>\n",
       "      <td>873</td>\n",
       "    </tr>\n",
       "  </tbody>\n",
       "</table>\n",
       "</div>"
      ],
      "text/plain": [
       "             진단명                                                 SE  len\n",
       "0       Anorexia   체온 호흡수 shivering 있음 mm p.pink skin turgor 약간 ...  337\n",
       "1       Anorexia  cc 식욕부진 hpi 평소 식욕이 좋았으나 최근 열흘동안 식욕부진 계속 한달 전부터...  584\n",
       "16           NaN   퇴원기록 by 최새롬 식욕부진으로 내원 내원 후 보호자분 비용부담으로 최소한의 스...  293\n",
       "17           NaN   설사 지속 계속 끙끙거리면서 잠을 못 이룸 오늘 아침부터 호흡 및 기력 안 좋아짐...  193\n",
       "18  Splenic mass  cc 복강 내 종양 및 담낭 파열 의심 서울 예스ah hpi month 전 부터 연...  873"
      ]
     },
     "execution_count": 254,
     "metadata": {},
     "output_type": "execute_result"
    }
   ],
   "source": [
    "df.head()"
   ]
  },
  {
   "cell_type": "code",
   "execution_count": 24,
   "metadata": {},
   "outputs": [
    {
     "data": {
      "text/html": [
       "<div>\n",
       "<style scoped>\n",
       "    .dataframe tbody tr th:only-of-type {\n",
       "        vertical-align: middle;\n",
       "    }\n",
       "\n",
       "    .dataframe tbody tr th {\n",
       "        vertical-align: top;\n",
       "    }\n",
       "\n",
       "    .dataframe thead th {\n",
       "        text-align: right;\n",
       "    }\n",
       "</style>\n",
       "<table border=\"1\" class=\"dataframe\">\n",
       "  <thead>\n",
       "    <tr style=\"text-align: right;\">\n",
       "      <th></th>\n",
       "      <th>진단명</th>\n",
       "      <th>SE</th>\n",
       "    </tr>\n",
       "  </thead>\n",
       "  <tbody>\n",
       "    <tr>\n",
       "      <th>0</th>\n",
       "      <td>Anorexia</td>\n",
       "      <td>체온 호흡수 shivering 있음 mm p.pink skin turgor 약간 ...</td>\n",
       "    </tr>\n",
       "    <tr>\n",
       "      <th>1</th>\n",
       "      <td>Anorexia</td>\n",
       "      <td>cc 식욕부진 hpi 평소 식욕이 좋았으나 최근 열흘동안 식욕부진 계속 한달 전부터...</td>\n",
       "    </tr>\n",
       "    <tr>\n",
       "      <th>16</th>\n",
       "      <td>NaN</td>\n",
       "      <td>퇴원기록 by 최새롬 식욕부진으로 내원 내원 후 보호자분 비용부담으로 최소한의 스...</td>\n",
       "    </tr>\n",
       "    <tr>\n",
       "      <th>17</th>\n",
       "      <td>NaN</td>\n",
       "      <td>설사 지속 계속 끙끙거리면서 잠을 못 이룸 오늘 아침부터 호흡 및 기력 안 좋아짐...</td>\n",
       "    </tr>\n",
       "    <tr>\n",
       "      <th>18</th>\n",
       "      <td>Splenic mass</td>\n",
       "      <td>cc 복강 내 종양 및 담낭 파열 의심 서울 예스ah hpi month 전 부터 연...</td>\n",
       "    </tr>\n",
       "  </tbody>\n",
       "</table>\n",
       "</div>"
      ],
      "text/plain": [
       "             진단명                                                 SE\n",
       "0       Anorexia   체온 호흡수 shivering 있음 mm p.pink skin turgor 약간 ...\n",
       "1       Anorexia  cc 식욕부진 hpi 평소 식욕이 좋았으나 최근 열흘동안 식욕부진 계속 한달 전부터...\n",
       "16           NaN   퇴원기록 by 최새롬 식욕부진으로 내원 내원 후 보호자분 비용부담으로 최소한의 스...\n",
       "17           NaN   설사 지속 계속 끙끙거리면서 잠을 못 이룸 오늘 아침부터 호흡 및 기력 안 좋아짐...\n",
       "18  Splenic mass  cc 복강 내 종양 및 담낭 파열 의심 서울 예스ah hpi month 전 부터 연..."
      ]
     },
     "execution_count": 24,
     "metadata": {},
     "output_type": "execute_result"
    }
   ],
   "source": [
    "df1 = df_pre1.copy()\n",
    "df1 = df1[['진단명','SE'] ]\n",
    "df1.head()"
   ]
  },
  {
   "cell_type": "code",
   "execution_count": 25,
   "metadata": {},
   "outputs": [],
   "source": [
    "df1['SE'] = df1[df1.columns[:]].apply(\n",
    "            lambda x : ','.join(x.dropna().astype(str)),\n",
    "            axis=1)"
   ]
  },
  {
   "cell_type": "code",
   "execution_count": 26,
   "metadata": {},
   "outputs": [
    {
     "data": {
      "text/html": [
       "<div>\n",
       "<style scoped>\n",
       "    .dataframe tbody tr th:only-of-type {\n",
       "        vertical-align: middle;\n",
       "    }\n",
       "\n",
       "    .dataframe tbody tr th {\n",
       "        vertical-align: top;\n",
       "    }\n",
       "\n",
       "    .dataframe thead th {\n",
       "        text-align: right;\n",
       "    }\n",
       "</style>\n",
       "<table border=\"1\" class=\"dataframe\">\n",
       "  <thead>\n",
       "    <tr style=\"text-align: right;\">\n",
       "      <th></th>\n",
       "      <th>진단명</th>\n",
       "      <th>SE</th>\n",
       "    </tr>\n",
       "  </thead>\n",
       "  <tbody>\n",
       "    <tr>\n",
       "      <th>0</th>\n",
       "      <td>Anorexia</td>\n",
       "      <td>Anorexia, 체온 호흡수 shivering 있음 mm p.pink skin t...</td>\n",
       "    </tr>\n",
       "    <tr>\n",
       "      <th>1</th>\n",
       "      <td>Anorexia</td>\n",
       "      <td>Anorexia,cc 식욕부진 hpi 평소 식욕이 좋았으나 최근 열흘동안 식욕부진 ...</td>\n",
       "    </tr>\n",
       "    <tr>\n",
       "      <th>16</th>\n",
       "      <td>NaN</td>\n",
       "      <td>퇴원기록 by 최새롬 식욕부진으로 내원 내원 후 보호자분 비용부담으로 최소한의 스...</td>\n",
       "    </tr>\n",
       "    <tr>\n",
       "      <th>17</th>\n",
       "      <td>NaN</td>\n",
       "      <td>설사 지속 계속 끙끙거리면서 잠을 못 이룸 오늘 아침부터 호흡 및 기력 안 좋아짐...</td>\n",
       "    </tr>\n",
       "    <tr>\n",
       "      <th>18</th>\n",
       "      <td>Splenic mass</td>\n",
       "      <td>Splenic mass,cc 복강 내 종양 및 담낭 파열 의심 서울 예스ah hpi...</td>\n",
       "    </tr>\n",
       "  </tbody>\n",
       "</table>\n",
       "</div>"
      ],
      "text/plain": [
       "             진단명                                                 SE\n",
       "0       Anorexia  Anorexia, 체온 호흡수 shivering 있음 mm p.pink skin t...\n",
       "1       Anorexia  Anorexia,cc 식욕부진 hpi 평소 식욕이 좋았으나 최근 열흘동안 식욕부진 ...\n",
       "16           NaN   퇴원기록 by 최새롬 식욕부진으로 내원 내원 후 보호자분 비용부담으로 최소한의 스...\n",
       "17           NaN   설사 지속 계속 끙끙거리면서 잠을 못 이룸 오늘 아침부터 호흡 및 기력 안 좋아짐...\n",
       "18  Splenic mass  Splenic mass,cc 복강 내 종양 및 담낭 파열 의심 서울 예스ah hpi..."
      ]
     },
     "execution_count": 26,
     "metadata": {},
     "output_type": "execute_result"
    }
   ],
   "source": [
    "df1.head()"
   ]
  },
  {
   "cell_type": "code",
   "execution_count": 30,
   "metadata": {},
   "outputs": [
    {
     "data": {
      "text/html": [
       "<div>\n",
       "<style scoped>\n",
       "    .dataframe tbody tr th:only-of-type {\n",
       "        vertical-align: middle;\n",
       "    }\n",
       "\n",
       "    .dataframe tbody tr th {\n",
       "        vertical-align: top;\n",
       "    }\n",
       "\n",
       "    .dataframe thead th {\n",
       "        text-align: right;\n",
       "    }\n",
       "</style>\n",
       "<table border=\"1\" class=\"dataframe\">\n",
       "  <thead>\n",
       "    <tr style=\"text-align: right;\">\n",
       "      <th></th>\n",
       "      <th>진단명</th>\n",
       "      <th>SE</th>\n",
       "    </tr>\n",
       "  </thead>\n",
       "  <tbody>\n",
       "    <tr>\n",
       "      <th>0</th>\n",
       "      <td>Anorexia</td>\n",
       "      <td>[ ] - 체온 37.5 - 호흡수 36-24-27, shivering 있음 - M...</td>\n",
       "    </tr>\n",
       "    <tr>\n",
       "      <th>1</th>\n",
       "      <td>Anorexia</td>\n",
       "      <td>1.CC : 식욕부진 2.HPI - 평소 식욕이 좋았으나 최근 열흘동안 식욕부진 계...</td>\n",
       "    </tr>\n",
       "    <tr>\n",
       "      <th>16</th>\n",
       "      <td>NaN</td>\n",
       "      <td>[퇴원기록 by 최새롬] - 식욕부진으로 내원, 내원 후 보호자분 비용부담으로 최소...</td>\n",
       "    </tr>\n",
       "    <tr>\n",
       "      <th>17</th>\n",
       "      <td>NaN</td>\n",
       "      <td>[S] - 설사 지속, 계속 끙끙거리면서 잠을 못 이룸 - 오늘 아침부터 호흡 및 ...</td>\n",
       "    </tr>\n",
       "    <tr>\n",
       "      <th>18</th>\n",
       "      <td>Splenic mass</td>\n",
       "      <td>1.CC : 복강 내 종양 및 담낭 파열 의심 (서울 예스ah) 2.HPI - mo...</td>\n",
       "    </tr>\n",
       "  </tbody>\n",
       "</table>\n",
       "</div>"
      ],
      "text/plain": [
       "             진단명                                                 SE\n",
       "0       Anorexia  [ ] - 체온 37.5 - 호흡수 36-24-27, shivering 있음 - M...\n",
       "1       Anorexia  1.CC : 식욕부진 2.HPI - 평소 식욕이 좋았으나 최근 열흘동안 식욕부진 계...\n",
       "16           NaN  [퇴원기록 by 최새롬] - 식욕부진으로 내원, 내원 후 보호자분 비용부담으로 최소...\n",
       "17           NaN  [S] - 설사 지속, 계속 끙끙거리면서 잠을 못 이룸 - 오늘 아침부터 호흡 및 ...\n",
       "18  Splenic mass  1.CC : 복강 내 종양 및 담낭 파열 의심 (서울 예스ah) 2.HPI - mo..."
      ]
     },
     "execution_count": 30,
     "metadata": {},
     "output_type": "execute_result"
    }
   ],
   "source": [
    "df = df[['진단명','SE'] ]\n",
    "df.head()"
   ]
  },
  {
   "cell_type": "code",
   "execution_count": 31,
   "metadata": {},
   "outputs": [
    {
     "name": "stdout",
     "output_type": "stream",
     "text": [
      "(672172, 2)\n",
      "(659565, 2)\n"
     ]
    }
   ],
   "source": [
    "print(df.shape)\n",
    "print(df1.shape)"
   ]
  },
  {
   "cell_type": "code",
   "execution_count": 32,
   "metadata": {},
   "outputs": [
    {
     "data": {
      "text/plain": [
       "(1331737, 2)"
      ]
     },
     "execution_count": 32,
     "metadata": {},
     "output_type": "execute_result"
    }
   ],
   "source": [
    "dfa = pd.concat([df, df1])\n",
    "dfa.reset_index(drop=True, inplace=True)\n",
    "dfa.shape"
   ]
  },
  {
   "cell_type": "code",
   "execution_count": 33,
   "metadata": {},
   "outputs": [
    {
     "data": {
      "text/html": [
       "<div>\n",
       "<style scoped>\n",
       "    .dataframe tbody tr th:only-of-type {\n",
       "        vertical-align: middle;\n",
       "    }\n",
       "\n",
       "    .dataframe tbody tr th {\n",
       "        vertical-align: top;\n",
       "    }\n",
       "\n",
       "    .dataframe thead th {\n",
       "        text-align: right;\n",
       "    }\n",
       "</style>\n",
       "<table border=\"1\" class=\"dataframe\">\n",
       "  <thead>\n",
       "    <tr style=\"text-align: right;\">\n",
       "      <th></th>\n",
       "      <th>진단명</th>\n",
       "      <th>SE</th>\n",
       "    </tr>\n",
       "  </thead>\n",
       "  <tbody>\n",
       "    <tr>\n",
       "      <th>0</th>\n",
       "      <td>Anorexia</td>\n",
       "      <td>[ ] - 체온 37.5 - 호흡수 36-24-27, shivering 있음 - M...</td>\n",
       "    </tr>\n",
       "    <tr>\n",
       "      <th>1</th>\n",
       "      <td>Anorexia</td>\n",
       "      <td>1.CC : 식욕부진 2.HPI - 평소 식욕이 좋았으나 최근 열흘동안 식욕부진 계...</td>\n",
       "    </tr>\n",
       "    <tr>\n",
       "      <th>2</th>\n",
       "      <td>NaN</td>\n",
       "      <td>[퇴원기록 by 최새롬] - 식욕부진으로 내원, 내원 후 보호자분 비용부담으로 최소...</td>\n",
       "    </tr>\n",
       "    <tr>\n",
       "      <th>3</th>\n",
       "      <td>NaN</td>\n",
       "      <td>[S] - 설사 지속, 계속 끙끙거리면서 잠을 못 이룸 - 오늘 아침부터 호흡 및 ...</td>\n",
       "    </tr>\n",
       "    <tr>\n",
       "      <th>4</th>\n",
       "      <td>Splenic mass</td>\n",
       "      <td>1.CC : 복강 내 종양 및 담낭 파열 의심 (서울 예스ah) 2.HPI - mo...</td>\n",
       "    </tr>\n",
       "  </tbody>\n",
       "</table>\n",
       "</div>"
      ],
      "text/plain": [
       "            진단명                                                 SE\n",
       "0      Anorexia  [ ] - 체온 37.5 - 호흡수 36-24-27, shivering 있음 - M...\n",
       "1      Anorexia  1.CC : 식욕부진 2.HPI - 평소 식욕이 좋았으나 최근 열흘동안 식욕부진 계...\n",
       "2           NaN  [퇴원기록 by 최새롬] - 식욕부진으로 내원, 내원 후 보호자분 비용부담으로 최소...\n",
       "3           NaN  [S] - 설사 지속, 계속 끙끙거리면서 잠을 못 이룸 - 오늘 아침부터 호흡 및 ...\n",
       "4  Splenic mass  1.CC : 복강 내 종양 및 담낭 파열 의심 (서울 예스ah) 2.HPI - mo..."
      ]
     },
     "execution_count": 33,
     "metadata": {},
     "output_type": "execute_result"
    }
   ],
   "source": [
    "dfa.head()"
   ]
  },
  {
   "cell_type": "code",
   "execution_count": 37,
   "metadata": {},
   "outputs": [
    {
     "data": {
      "text/html": [
       "<div>\n",
       "<style scoped>\n",
       "    .dataframe tbody tr th:only-of-type {\n",
       "        vertical-align: middle;\n",
       "    }\n",
       "\n",
       "    .dataframe tbody tr th {\n",
       "        vertical-align: top;\n",
       "    }\n",
       "\n",
       "    .dataframe thead th {\n",
       "        text-align: right;\n",
       "    }\n",
       "</style>\n",
       "<table border=\"1\" class=\"dataframe\">\n",
       "  <thead>\n",
       "    <tr style=\"text-align: right;\">\n",
       "      <th></th>\n",
       "      <th>진단명</th>\n",
       "      <th>SE</th>\n",
       "    </tr>\n",
       "  </thead>\n",
       "  <tbody>\n",
       "    <tr>\n",
       "      <th>1282558</th>\n",
       "      <td>교상</td>\n",
       "      <td>교상,radiographic findings thorax vhs approx. mi...</td>\n",
       "    </tr>\n",
       "    <tr>\n",
       "      <th>1113909</th>\n",
       "      <td>NaN</td>\n",
       "      <td>요새 들어서 밥 좀 잘 안 먹음 치우려고 하면 다 먹음 소량씩 급여 후 time 정...</td>\n",
       "    </tr>\n",
       "    <tr>\n",
       "      <th>796998</th>\n",
       "      <td>NaN</td>\n",
       "      <td>퇴원기록 by 이혜경 김진경선생님에게 인계 입원 경과 primary imt 입원치...</td>\n",
       "    </tr>\n",
       "    <tr>\n",
       "      <th>174464</th>\n",
       "      <td>NaN</td>\n",
       "      <td>month 전부터 귀 안좋아짐. 양측 귀 발적, 부종. 귀털 뽑고 귀드레싱. 주사...</td>\n",
       "    </tr>\n",
       "    <tr>\n",
       "      <th>1097141</th>\n",
       "      <td>NaN</td>\n",
       "      <td>오전관리사항 food 금식 urine feces etc tx cefa enro r...</td>\n",
       "    </tr>\n",
       "  </tbody>\n",
       "</table>\n",
       "</div>"
      ],
      "text/plain": [
       "         진단명                                                 SE\n",
       "1282558   교상  교상,radiographic findings thorax vhs approx. mi...\n",
       "1113909  NaN  요새 들어서 밥 좀 잘 안 먹음 치우려고 하면 다 먹음 소량씩 급여 후 time 정...\n",
       "796998   NaN   퇴원기록 by 이혜경 김진경선생님에게 인계 입원 경과 primary imt 입원치...\n",
       "174464   NaN   month 전부터 귀 안좋아짐. 양측 귀 발적, 부종. 귀털 뽑고 귀드레싱. 주사...\n",
       "1097141  NaN   오전관리사항 food 금식 urine feces etc tx cefa enro r..."
      ]
     },
     "execution_count": 37,
     "metadata": {},
     "output_type": "execute_result"
    }
   ],
   "source": [
    "dfa = dfa.sample(frac=1)\n",
    "dfa.head()"
   ]
  },
  {
   "cell_type": "code",
   "execution_count": 38,
   "metadata": {},
   "outputs": [],
   "source": [
    "# dfa.head(20)"
   ]
  },
  {
   "cell_type": "code",
   "execution_count": 39,
   "metadata": {},
   "outputs": [],
   "source": [
    "dft = dfa['SE']\n",
    "dft.to_csv('files/pet_0814.txt', index=None, header=False) "
   ]
  },
  {
   "cell_type": "code",
   "execution_count": null,
   "metadata": {},
   "outputs": [],
   "source": []
  }
 ],
 "metadata": {
  "kernelspec": {
   "display_name": "Python 3",
   "language": "python",
   "name": "python3"
  },
  "language_info": {
   "codemirror_mode": {
    "name": "ipython",
    "version": 3
   },
   "file_extension": ".py",
   "mimetype": "text/x-python",
   "name": "python",
   "nbconvert_exporter": "python",
   "pygments_lexer": "ipython3",
   "version": "3.6.9"
  }
 },
 "nbformat": 4,
 "nbformat_minor": 4
}
