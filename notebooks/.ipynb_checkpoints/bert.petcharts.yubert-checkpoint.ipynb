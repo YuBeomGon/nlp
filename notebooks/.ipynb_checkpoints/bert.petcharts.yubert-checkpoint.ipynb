{
 "cells": [
  {
   "cell_type": "code",
   "execution_count": 1,
   "metadata": {},
   "outputs": [],
   "source": [
    "import numpy as np\n",
    "import pandas as pd\n",
    "import re\n",
    "import torch\n",
    "from torch.utils.data import Dataset, DataLoader\n",
    "from transformers import BertTokenizer, BertForSequenceClassification\n",
    "from transformers import RobertaTokenizer, RobertaForSequenceClassification, RobertaModel\n",
    "from torch.optim import Adam, lr_scheduler\n",
    "import torch.nn.functional as F\n",
    "import sys\n",
    "sys.path.append('../')\n",
    "\n",
    "import os\n",
    "import argparse\n",
    "import json\n",
    "import torch.nn as nn\n",
    "\n",
    "from util import *\n",
    "from losses import LabelSmoothingCrossEntropy, SupConLoss, FocalLoss\n",
    "from augment import *\n",
    "\n",
    "from torch.utils.data.dataset import ConcatDataset\n",
    "# from torch_model import SupConRobertaNet, SupConMultiRobertaNet\n",
    "from torch.utils.data.sampler import RandomSampler\n",
    "from torch_model import *\n",
    "from preprop import *\n",
    "from transformers import PreTrainedModel, BertPreTrainedModel\n",
    "from transformers import (\n",
    "        BertPreTrainedModel, BertModel, BertForPreTraining, BertForMaskedLM, BertLMHeadModel,\n",
    "        BertForNextSentencePrediction, BertForSequenceClassification, BertForMultipleChoice,\n",
    "        BertForTokenClassification, BertForQuestionAnswering,\n",
    "        load_tf_weights_in_bert, BERT_PRETRAINED_MODEL_ARCHIVE_LIST,\n",
    "        BertLayer, BertSelfAttention, BertAttention, BertLayer, BertEncoder\n",
    ")"
   ]
  },
  {
   "cell_type": "code",
   "execution_count": 2,
   "metadata": {},
   "outputs": [],
   "source": [
    "# !pip3 install pandas"
   ]
  },
  {
   "cell_type": "code",
   "execution_count": 3,
   "metadata": {},
   "outputs": [],
   "source": [
    "class PetDataset(Dataset):\n",
    "    def __init__(self, df):\n",
    "        self.df = df\n",
    "        self.SE_index = [ i for i, c in enumerate(df.columns) if \"SE\" in c][0]\n",
    "        self.label_index = [ i for i, c in enumerate(df.columns) if \"label_id\" in c][0]\n",
    "        self.Num_class = len(df[df.columns[self.label_index]].value_counts())\n",
    "\n",
    "    def __len__(self):\n",
    "        return len(self.df)\n",
    "\n",
    "    def __getitem__(self, idx):\n",
    "        text = self.df.iloc[idx, self.SE_index]\n",
    "        label = self.df.iloc[idx, self.label_index]\n",
    "        return text, label\n",
    "    "
   ]
  },
  {
   "cell_type": "code",
   "execution_count": 4,
   "metadata": {},
   "outputs": [],
   "source": [
    "BATCH_SIZE = 8\n",
    "MAX_SEQ_LEN = 512"
   ]
  },
  {
   "cell_type": "code",
   "execution_count": 5,
   "metadata": {},
   "outputs": [
    {
     "name": "stdout",
     "output_type": "stream",
     "text": [
      "10\n",
      "(4280, 5)\n",
      "(476, 5)\n"
     ]
    }
   ],
   "source": [
    "train_df = pd.read_csv('files/train2.csv')\n",
    "test_df = pd.read_csv('files/test2.csv')\n",
    "# train_df = pd.read_csv('data/files/disease_train.csv')\n",
    "# test_df = pd.read_csv('data/files/disease_test.csv')\n",
    "train_df.SE = train_df.SE.apply(lambda x : preprocess(str(x)))\n",
    "test_df.SE = test_df.SE.apply(lambda x : preprocess(str(x)))\n",
    "Num_Label = len(train_df.label_id.value_counts())\n",
    "print(Num_Label)\n",
    "print(train_df.shape)\n",
    "print(test_df.shape)"
   ]
  },
  {
   "cell_type": "code",
   "execution_count": 6,
   "metadata": {},
   "outputs": [],
   "source": [
    "pretrained_path = './pretrained_local/'\n",
    "tokenizer = RobertaTokenizer.from_pretrained(pretrained_path, do_lower_case=False)"
   ]
  },
  {
   "cell_type": "code",
   "execution_count": 7,
   "metadata": {},
   "outputs": [
    {
     "data": {
      "text/plain": [
       "[0, 4, 5, 4, 3, 0, 6]"
      ]
     },
     "execution_count": 7,
     "metadata": {},
     "output_type": "execute_result"
    }
   ],
   "source": [
    "tokenizer.all_special_ids"
   ]
  },
  {
   "cell_type": "code",
   "execution_count": 8,
   "metadata": {},
   "outputs": [
    {
     "data": {
      "text/plain": [
       "'<s>'"
      ]
     },
     "execution_count": 8,
     "metadata": {},
     "output_type": "execute_result"
    }
   ],
   "source": [
    "tokenizer.convert_ids_to_tokens(0)"
   ]
  },
  {
   "cell_type": "code",
   "execution_count": 9,
   "metadata": {},
   "outputs": [
    {
     "data": {
      "text/plain": [
       "'<s1>'"
      ]
     },
     "execution_count": 9,
     "metadata": {},
     "output_type": "execute_result"
    }
   ],
   "source": [
    "tokenizer.convert_ids_to_tokens(1)"
   ]
  },
  {
   "cell_type": "code",
   "execution_count": 10,
   "metadata": {},
   "outputs": [
    {
     "data": {
      "text/plain": [
       "'<s2>'"
      ]
     },
     "execution_count": 10,
     "metadata": {},
     "output_type": "execute_result"
    }
   ],
   "source": [
    "tokenizer.convert_ids_to_tokens(2)"
   ]
  },
  {
   "cell_type": "code",
   "execution_count": 11,
   "metadata": {},
   "outputs": [
    {
     "name": "stdout",
     "output_type": "stream",
     "text": [
      "[2500, 9570, 1259, 1149, 2835, 18, 22284, 6948, 15695, 1507, 3686]\n"
     ]
    }
   ],
   "source": [
    "text = '안녕 반가워, hi my pet is good'\n",
    "\n",
    "print(tokenizer.encode(text, add_special_tokens=False, max_length=15, truncation=True))\n",
    "# print(tokenizer.encode(text, add_special_tokens=False, max_length=10, truncation=True))\n"
   ]
  },
  {
   "cell_type": "code",
   "execution_count": 12,
   "metadata": {},
   "outputs": [
    {
     "name": "stdout",
     "output_type": "stream",
     "text": [
      "[2500, 9570, 1259, 1149, 2835, 18, 22284, 6948, 15695, 1507, 3686, 0, 0, 0, 0, 0, 0, 0, 0, 0]\n"
     ]
    }
   ],
   "source": [
    "e = [2500, 9570, 1259, 1149, 2835, 18, 22284, 6948, 15695, 1507, 3686]\n",
    "print(e[:20] + [0] * (20-len(e[:20])))"
   ]
  },
  {
   "cell_type": "code",
   "execution_count": 13,
   "metadata": {},
   "outputs": [
    {
     "name": "stdout",
     "output_type": "stream",
     "text": [
      "[2500, 9570, 1259, 1149, 2835, 18, 22284, 6948]\n",
      "[2500, 9570, 1259, 1149, 2835, 18, 22284, 6948]\n"
     ]
    }
   ],
   "source": [
    "print(tokenizer.encode(text, add_special_tokens=False, max_length=10-2, truncation=True))\n",
    "print(tokenizer.encode(text, add_special_tokens=False, max_length=10-2, truncation=True))"
   ]
  },
  {
   "cell_type": "code",
   "execution_count": 14,
   "metadata": {},
   "outputs": [
    {
     "name": "stdout",
     "output_type": "stream",
     "text": [
      "[0, 1, 2, 2500, 9570, 1259, 1149, 2835, 18, 4]\n"
     ]
    }
   ],
   "source": [
    "tokenized = tokenizer.encode(text, add_special_tokens=False, max_length=10-4, truncation=True)\n",
    "# tokenized.append(4)\n",
    "# tokenized.insert(0,2)\n",
    "# tokenized.insert(0,1)\n",
    "# tokenized.insert(0,0)\n",
    "tokenized = [0,1,2] + tokenized + [4]\n",
    "print(tokenized)"
   ]
  },
  {
   "cell_type": "code",
   "execution_count": 15,
   "metadata": {},
   "outputs": [
    {
     "name": "stderr",
     "output_type": "stream",
     "text": [
      "Some weights of the model checkpoint at ./pretrained_local/ were not used when initializing YuBertNet: ['lm_head.bias', 'lm_head.dense.weight', 'lm_head.dense.bias', 'lm_head.layer_norm.weight', 'lm_head.layer_norm.bias', 'lm_head.decoder.weight', 'lm_head.decoder.bias']\n",
      "- This IS expected if you are initializing YuBertNet from the checkpoint of a model trained on another task or with another architecture (e.g. initializing a BertForSequenceClassification model from a BertForPretraining model).\n",
      "- This IS NOT expected if you are initializing YuBertNet from the checkpoint of a model that you expect to be exactly identical (initializing a BertForSequenceClassification model from a BertForSequenceClassification model).\n",
      "Some weights of YuBertNet were not initialized from the model checkpoint at ./pretrained_local/ and are newly initialized: ['down_fc.weight', 'down_fc.bias']\n",
      "You should probably TRAIN this model on a down-stream task to be able to use it for predictions and inference.\n"
     ]
    },
    {
     "data": {
      "text/plain": [
       "YuBertNet(\n",
       "  (roberta): YubertModel(\n",
       "    (embeddings): RobertaEmbeddings(\n",
       "      (word_embeddings): Embedding(32000, 384, padding_idx=1)\n",
       "      (position_embeddings): Embedding(516, 384, padding_idx=1)\n",
       "      (token_type_embeddings): Embedding(1, 384)\n",
       "      (LayerNorm): LayerNorm((384,), eps=1e-12, elementwise_affine=True)\n",
       "      (dropout): Dropout(p=0.1, inplace=False)\n",
       "    )\n",
       "    (encoder): YuBertEncoder(\n",
       "      (layer): ModuleList(\n",
       "        (0): YuBertLayer(\n",
       "          (attention): YuBertAttention(\n",
       "            (self): YuBertSelfAttentionJupyter(\n",
       "              (query): Linear(in_features=384, out_features=384, bias=True)\n",
       "              (key): Linear(in_features=384, out_features=384, bias=True)\n",
       "              (value): Linear(in_features=384, out_features=384, bias=True)\n",
       "              (dropout): Dropout(p=0.1, inplace=False)\n",
       "            )\n",
       "            (output): BertSelfOutput(\n",
       "              (dense): Linear(in_features=384, out_features=384, bias=True)\n",
       "              (LayerNorm): LayerNorm((384,), eps=1e-12, elementwise_affine=True)\n",
       "              (dropout): Dropout(p=0.1, inplace=False)\n",
       "            )\n",
       "          )\n",
       "          (intermediate): BertIntermediate(\n",
       "            (dense): Linear(in_features=384, out_features=1536, bias=True)\n",
       "          )\n",
       "          (output): BertOutput(\n",
       "            (dense): Linear(in_features=1536, out_features=384, bias=True)\n",
       "            (LayerNorm): LayerNorm((384,), eps=1e-12, elementwise_affine=True)\n",
       "            (dropout): Dropout(p=0.1, inplace=False)\n",
       "          )\n",
       "        )\n",
       "        (1): YuBertLayer(\n",
       "          (attention): YuBertAttention(\n",
       "            (self): YuBertSelfAttentionJupyter(\n",
       "              (query): Linear(in_features=384, out_features=384, bias=True)\n",
       "              (key): Linear(in_features=384, out_features=384, bias=True)\n",
       "              (value): Linear(in_features=384, out_features=384, bias=True)\n",
       "              (dropout): Dropout(p=0.1, inplace=False)\n",
       "            )\n",
       "            (output): BertSelfOutput(\n",
       "              (dense): Linear(in_features=384, out_features=384, bias=True)\n",
       "              (LayerNorm): LayerNorm((384,), eps=1e-12, elementwise_affine=True)\n",
       "              (dropout): Dropout(p=0.1, inplace=False)\n",
       "            )\n",
       "          )\n",
       "          (intermediate): BertIntermediate(\n",
       "            (dense): Linear(in_features=384, out_features=1536, bias=True)\n",
       "          )\n",
       "          (output): BertOutput(\n",
       "            (dense): Linear(in_features=1536, out_features=384, bias=True)\n",
       "            (LayerNorm): LayerNorm((384,), eps=1e-12, elementwise_affine=True)\n",
       "            (dropout): Dropout(p=0.1, inplace=False)\n",
       "          )\n",
       "        )\n",
       "        (2): YuBertLayer(\n",
       "          (attention): YuBertAttention(\n",
       "            (self): YuBertSelfAttentionJupyter(\n",
       "              (query): Linear(in_features=384, out_features=384, bias=True)\n",
       "              (key): Linear(in_features=384, out_features=384, bias=True)\n",
       "              (value): Linear(in_features=384, out_features=384, bias=True)\n",
       "              (dropout): Dropout(p=0.1, inplace=False)\n",
       "            )\n",
       "            (output): BertSelfOutput(\n",
       "              (dense): Linear(in_features=384, out_features=384, bias=True)\n",
       "              (LayerNorm): LayerNorm((384,), eps=1e-12, elementwise_affine=True)\n",
       "              (dropout): Dropout(p=0.1, inplace=False)\n",
       "            )\n",
       "          )\n",
       "          (intermediate): BertIntermediate(\n",
       "            (dense): Linear(in_features=384, out_features=1536, bias=True)\n",
       "          )\n",
       "          (output): BertOutput(\n",
       "            (dense): Linear(in_features=1536, out_features=384, bias=True)\n",
       "            (LayerNorm): LayerNorm((384,), eps=1e-12, elementwise_affine=True)\n",
       "            (dropout): Dropout(p=0.1, inplace=False)\n",
       "          )\n",
       "        )\n",
       "        (3): YuBertLayer(\n",
       "          (attention): YuBertAttention(\n",
       "            (self): YuBertSelfAttentionJupyter(\n",
       "              (query): Linear(in_features=384, out_features=384, bias=True)\n",
       "              (key): Linear(in_features=384, out_features=384, bias=True)\n",
       "              (value): Linear(in_features=384, out_features=384, bias=True)\n",
       "              (dropout): Dropout(p=0.1, inplace=False)\n",
       "            )\n",
       "            (output): BertSelfOutput(\n",
       "              (dense): Linear(in_features=384, out_features=384, bias=True)\n",
       "              (LayerNorm): LayerNorm((384,), eps=1e-12, elementwise_affine=True)\n",
       "              (dropout): Dropout(p=0.1, inplace=False)\n",
       "            )\n",
       "          )\n",
       "          (intermediate): BertIntermediate(\n",
       "            (dense): Linear(in_features=384, out_features=1536, bias=True)\n",
       "          )\n",
       "          (output): BertOutput(\n",
       "            (dense): Linear(in_features=1536, out_features=384, bias=True)\n",
       "            (LayerNorm): LayerNorm((384,), eps=1e-12, elementwise_affine=True)\n",
       "            (dropout): Dropout(p=0.1, inplace=False)\n",
       "          )\n",
       "        )\n",
       "        (4): YuBertLayer(\n",
       "          (attention): YuBertAttention(\n",
       "            (self): YuBertSelfAttentionJupyter(\n",
       "              (query): Linear(in_features=384, out_features=384, bias=True)\n",
       "              (key): Linear(in_features=384, out_features=384, bias=True)\n",
       "              (value): Linear(in_features=384, out_features=384, bias=True)\n",
       "              (dropout): Dropout(p=0.1, inplace=False)\n",
       "            )\n",
       "            (output): BertSelfOutput(\n",
       "              (dense): Linear(in_features=384, out_features=384, bias=True)\n",
       "              (LayerNorm): LayerNorm((384,), eps=1e-12, elementwise_affine=True)\n",
       "              (dropout): Dropout(p=0.1, inplace=False)\n",
       "            )\n",
       "          )\n",
       "          (intermediate): BertIntermediate(\n",
       "            (dense): Linear(in_features=384, out_features=1536, bias=True)\n",
       "          )\n",
       "          (output): BertOutput(\n",
       "            (dense): Linear(in_features=1536, out_features=384, bias=True)\n",
       "            (LayerNorm): LayerNorm((384,), eps=1e-12, elementwise_affine=True)\n",
       "            (dropout): Dropout(p=0.1, inplace=False)\n",
       "          )\n",
       "        )\n",
       "        (5): YuBertLayer(\n",
       "          (attention): YuBertAttention(\n",
       "            (self): YuBertSelfAttentionJupyter(\n",
       "              (query): Linear(in_features=384, out_features=384, bias=True)\n",
       "              (key): Linear(in_features=384, out_features=384, bias=True)\n",
       "              (value): Linear(in_features=384, out_features=384, bias=True)\n",
       "              (dropout): Dropout(p=0.1, inplace=False)\n",
       "            )\n",
       "            (output): BertSelfOutput(\n",
       "              (dense): Linear(in_features=384, out_features=384, bias=True)\n",
       "              (LayerNorm): LayerNorm((384,), eps=1e-12, elementwise_affine=True)\n",
       "              (dropout): Dropout(p=0.1, inplace=False)\n",
       "            )\n",
       "          )\n",
       "          (intermediate): BertIntermediate(\n",
       "            (dense): Linear(in_features=384, out_features=1536, bias=True)\n",
       "          )\n",
       "          (output): BertOutput(\n",
       "            (dense): Linear(in_features=1536, out_features=384, bias=True)\n",
       "            (LayerNorm): LayerNorm((384,), eps=1e-12, elementwise_affine=True)\n",
       "            (dropout): Dropout(p=0.1, inplace=False)\n",
       "          )\n",
       "        )\n",
       "      )\n",
       "    )\n",
       "    (pooler): BertPooler(\n",
       "      (dense): Linear(in_features=384, out_features=384, bias=True)\n",
       "      (activation): Tanh()\n",
       "    )\n",
       "  )\n",
       "  (down_fc): Linear(in_features=384, out_features=10, bias=True)\n",
       ")"
      ]
     },
     "execution_count": 15,
     "metadata": {},
     "output_type": "execute_result"
    }
   ],
   "source": [
    "device = torch.device(\"cuda\")\n",
    "# device = torch.device('cpu')\n",
    "# pretrained_path = './pretrained_without_wiki'\n",
    "pretrained_path = './pretrained_local/'\n",
    "# pretrained_path = './pretrained_0824/'\n",
    "tokenizer = RobertaTokenizer.from_pretrained(pretrained_path, do_lower_case=False)\n",
    "# model = YuBertNet(path=pretrained_path,                       \n",
    "#                               embedding_dim=768,\n",
    "#                               num_class=Num_Label)\n",
    "\n",
    "model = YuBertNet.from_pretrained(pretrained_path, num_labels=Num_Label)\n",
    "# model = YubertForSequenceClassification.from_pretrained(pretrained_path, num_labels=Num_Label)\n",
    "model.to(device)\n",
    "# criterion = torch.nn.CrossEntropyLoss()\n",
    "# criterion = LabelSmoothingCrossEntropy()\n",
    "# criterion = SupConLoss()\n",
    "# criterion = criterion.to(device)"
   ]
  },
  {
   "cell_type": "code",
   "execution_count": 16,
   "metadata": {},
   "outputs": [],
   "source": [
    "# def reset_parameters(model):\n",
    "#     for p in model.parameters():\n",
    "#         if p.dim() > 1:\n",
    "#             nn.init.xavier_uniform_(p)\n",
    "            \n",
    "# reset_parameters(model)            "
   ]
  },
  {
   "cell_type": "code",
   "execution_count": 17,
   "metadata": {},
   "outputs": [],
   "source": [
    "# for param in model.parameters() :\n",
    "#     print(param)"
   ]
  },
  {
   "cell_type": "code",
   "execution_count": 18,
   "metadata": {},
   "outputs": [],
   "source": [
    "# for param, state in zip(model.parameters(), model.state_dict()) :\n",
    "#     print(state)\n",
    "#     print(param.size())"
   ]
  },
  {
   "cell_type": "code",
   "execution_count": 19,
   "metadata": {},
   "outputs": [],
   "source": [
    "def model_eval(test_df) :\n",
    "#     device = torch.device(\"cuda\")\n",
    "#     model.to(device)       \n",
    "    model.eval()\n",
    "\n",
    "    test_dataset = PetDataset(test_df)\n",
    "    test_loader = DataLoader(test_dataset, batch_size=2, shuffle=False, num_workers=2)\n",
    "\n",
    "    total_loss = 0\n",
    "    total_len = 0\n",
    "    total_correct = 0\n",
    "\n",
    "    for text, label in test_loader:\n",
    "        #   encoded_list = [tokenizer.encode(t, add_special_token=True) for t in text]\n",
    "        encoded_list = [tokenizer.encode(t, max_length=512, truncation=True) for t in text]\n",
    "        padded_list = [e[:512] + [0] * (512-len(e[:512])) for e in encoded_list]\n",
    "        sample = torch.tensor(padded_list)\n",
    "        sample, label = sample.to(device), label.to(device)\n",
    "        label = torch.tensor(label)\n",
    "        outputs = model(sample=sample)\n",
    "        logits = outputs\n",
    "\n",
    "        pred = torch.argmax(F.softmax(logits), dim=1)\n",
    "        correct = pred.eq(label)\n",
    "        total_correct += correct.sum().item()\n",
    "        total_len += len(label)\n",
    "\n",
    "    print('Test accuracy: ', total_correct / total_len) "
   ]
  },
  {
   "cell_type": "code",
   "execution_count": 20,
   "metadata": {},
   "outputs": [],
   "source": [
    "# for param, state in zip(model.parameters(), model.state_dict()) :\n",
    "#     print(state)\n",
    "#     print(param.size())\n",
    "# for param, state in zip(model.parameters(), model.state_dict()) :\n",
    "#     print(state)\n",
    "#     print(param)"
   ]
  },
  {
   "cell_type": "code",
   "execution_count": null,
   "metadata": {},
   "outputs": [],
   "source": []
  },
  {
   "cell_type": "code",
   "execution_count": 21,
   "metadata": {},
   "outputs": [],
   "source": [
    "train_dataset = PetDataset(train_df)\n",
    "train_loader = DataLoader(train_dataset, batch_size=BATCH_SIZE, shuffle=True, num_workers=2)"
   ]
  },
  {
   "cell_type": "code",
   "execution_count": 22,
   "metadata": {},
   "outputs": [],
   "source": [
    "# # Learning_rate=0.00001\n",
    "# Learning_rate=0.00001\n",
    "# optimizer = Adam(model.parameters(), lr=Learning_rate)\n",
    "# scheduler = lr_scheduler.LambdaLR(\n",
    "#     optimizer=optimizer, lr_lambda=lambda epoch: 1 / ((epoch/100)+1)\n",
    "# )"
   ]
  },
  {
   "cell_type": "code",
   "execution_count": 23,
   "metadata": {},
   "outputs": [],
   "source": [
    "# model.load_state_dict(torch.load('yubert/tune1'))"
   ]
  },
  {
   "cell_type": "code",
   "execution_count": 24,
   "metadata": {},
   "outputs": [],
   "source": [
    "# torch.save(model.state_dict(), 'yubert/tune1')"
   ]
  },
  {
   "cell_type": "code",
   "execution_count": 25,
   "metadata": {},
   "outputs": [],
   "source": [
    "# model.load_state_dict(torch.load('yubert/tune1'))"
   ]
  },
  {
   "cell_type": "code",
   "execution_count": 26,
   "metadata": {},
   "outputs": [],
   "source": [
    "# for param, state in zip(model.parameters(), model.state_dict()) :\n",
    "#     if 'fc.' not in state :\n",
    "#         param.requires_grad = False\n"
   ]
  },
  {
   "cell_type": "code",
   "execution_count": 27,
   "metadata": {},
   "outputs": [],
   "source": [
    "# for param, state in zip(model.parameters(), model.state_dict()) :\n",
    "#     torch.nn.init.normal_(param, mean=0, std=1)\n",
    "# #     print(param)"
   ]
  },
  {
   "cell_type": "code",
   "execution_count": 28,
   "metadata": {},
   "outputs": [],
   "source": [
    "optimizer = Adam(model.parameters(), lr=0.00001)\n",
    "scheduler = lr_scheduler.LambdaLR(\n",
    "    optimizer=optimizer, lr_lambda=lambda epoch: 1 / ((epoch/4) + 1)\n",
    ")"
   ]
  },
  {
   "cell_type": "code",
   "execution_count": 29,
   "metadata": {},
   "outputs": [],
   "source": [
    "# model.load_state_dict(torch.load('contrastive/tune5'))"
   ]
  },
  {
   "cell_type": "code",
   "execution_count": 30,
   "metadata": {},
   "outputs": [],
   "source": [
    "# # optimizer = Adam(model.parameters(), lr=0.00008)\n",
    "\n",
    "# # scheduler = lr_scheduler.LambdaLR(\n",
    "# #     optimizer=optimizer, lr_lambda=lambda epoch: 1 / (int(epoch/3) + 1)\n",
    "# # )\n",
    "\n",
    "# epochs = 10\n",
    "# model.train()\n",
    "\n",
    "# for epoch in range(epochs):\n",
    "#     total_loss = 0\n",
    "#     total_len = 0\n",
    "#     total_correct = 0\n",
    "#     total_count = 0\n",
    "#     model.train()\n",
    "#     for text, label in train_loader:\n",
    "\n",
    "#         encoded_list = [tokenizer.encode(t, add_special_tokens=True, max_length=512, truncation=True) for t in text]\n",
    "#         padded_list = [e[:512] + [0] * (512-len(e[:512])) for e in encoded_list]\n",
    "#         sample = torch.tensor(padded_list)\n",
    "#         sample, label = sample.to(device), label.to(device)\n",
    "#         labels = torch.tensor(label)\n",
    "#         outputs = model(sample, labels=labels)\n",
    "#         loss, logits = outputs\n",
    "\n",
    "#         pred = torch.argmax(F.softmax(logits), dim=1)\n",
    "#         correct = pred.eq(labels)\n",
    "#         total_correct += correct.sum().item()\n",
    "#         total_len += len(labels)\n",
    "#         total_loss += loss.item()\n",
    "#         total_count += 1\n",
    "\n",
    "#         optimizer.zero_grad()    \n",
    "#         loss.backward()\n",
    "#         optimizer.step()\n",
    "#     scheduler.step()\n",
    "#     model_eval(test_df)\n",
    "\n",
    "#     print('[Epoch {}/{}] Train Loss: {:.4f}, Accuracy: {:.3f}'.format(epoch + 1, epochs, total_loss / total_count, total_correct / total_len))"
   ]
  },
  {
   "cell_type": "code",
   "execution_count": 31,
   "metadata": {},
   "outputs": [],
   "source": [
    "def tokenize(text : str)  : \n",
    "    tokenized_list = tokenizer.encode(text, add_special_tokens=True, max_length=512-2, truncation=True)\n",
    "    tokenized_list = [0, 1, 2] + tokenized_list[1:-1] + [4]\n",
    "    return tokenized_list"
   ]
  },
  {
   "cell_type": "code",
   "execution_count": null,
   "metadata": {},
   "outputs": [],
   "source": [
    "CUDA_LAUNCH_BLOCKING=1\n",
    "model.train()\n",
    "criterion = FocalLoss(alpha=0.97, reduce=True)\n",
    "# criterion = torch.nn.CrossEntropyLoss()\n",
    "criterion.to(device)\n",
    "epochs = 20\n",
    "\n",
    "for epoch in range(epochs):\n",
    "    losses = AverageMeter()\n",
    "    total_loss = 0\n",
    "    total_len = 0\n",
    "    total_correct = 0\n",
    "    total_count = 0\n",
    "    model.train()\n",
    "    for text, label in train_loader:\n",
    "#         print(text)\n",
    "#         encoded_list = [tokenizer.encode(t, add_special_tokens=True, max_length=512, truncation=True) for t in text]\n",
    "        encoded_list = [tokenize(t) for t in text]\n",
    "#         print(encoded_list)\n",
    "        padded_list = [e[:512] + [0] * (512-len(e[:512])) for e in encoded_list]\n",
    "        sample = torch.tensor(padded_list)\n",
    "        sample, label = sample.to(device), label.to(device)\n",
    "        label = torch.tensor(label)\n",
    "        outputs = model(sample=sample)\n",
    "\n",
    "        loss = criterion(outputs, label)\n",
    "        losses.update(loss.item(), BATCH_SIZE)\n",
    "        pred = torch.argmax(F.softmax(outputs), dim=1)\n",
    "        correct = pred.eq(label)\n",
    "        total_correct += correct.sum().item()\n",
    "        total_len += len(label)\n",
    "        total_loss += loss.item()\n",
    "        total_count += 1\n",
    "        \n",
    "        optimizer.zero_grad()\n",
    "        loss.backward()\n",
    "        optimizer.step() \n",
    "\n",
    "#         if (total_count + 1) % 200 == 0:\n",
    "# #             print_weight(model)\n",
    "#             print('Train: [{0}][{1}/{2}]\\t'\n",
    "#                   'loss {loss.avg: .5f}'.format(\n",
    "#                    epoch, total_count + 1, len(train_loader), loss=losses))   \n",
    "\n",
    "    model.train()\n",
    "    scheduler.step()\n",
    "    model_eval(test_df)\n",
    "    print('[Epoch {}/{}] Train Loss: {:.4f}, Accuracy: {:.3f}'.format(epoch + 1, epochs, total_loss / total_count, total_correct / total_len))\n",
    "#     print(tloss)  "
   ]
  },
  {
   "cell_type": "code",
   "execution_count": null,
   "metadata": {},
   "outputs": [],
   "source": [
    "torch.save(model.state_dict(), 'contrastive/tune5')"
   ]
  },
  {
   "cell_type": "code",
   "execution_count": null,
   "metadata": {},
   "outputs": [],
   "source": [
    "# for param, state in zip(model.parameters(), model.state_dict()) :\n",
    "#     if 'fc.' not in state :\n",
    "#         param.requires_grad = True\n",
    "#     else  :\n",
    "#         param.requires_grad = False        "
   ]
  },
  {
   "cell_type": "code",
   "execution_count": null,
   "metadata": {},
   "outputs": [],
   "source": [
    "# optimizer = Adam(model.parameters(), lr=0.00001)\n",
    "# scheduler = lr_scheduler.LambdaLR(\n",
    "#     optimizer=optimizer, lr_lambda=lambda epoch: 1 / ((epoch/2) + 1)\n",
    "# )"
   ]
  },
  {
   "cell_type": "code",
   "execution_count": null,
   "metadata": {},
   "outputs": [],
   "source": [
    "# model.train()\n",
    "# criterion = FocalLoss(alpha=0.97, reduce=True)\n",
    "# # criterion = torch.nn.CrossEntropyLoss()\n",
    "# criterion.to(device)\n",
    "# epochs = 7\n",
    "\n",
    "# for epoch in range(epochs):\n",
    "#     losses = AverageMeter()\n",
    "#     total_loss = 0\n",
    "#     total_len = 0\n",
    "#     total_correct = 0\n",
    "#     total_count = 0\n",
    "#     model.train()\n",
    "#     for text, label in train_loader:\n",
    "# #         print(label)\n",
    "#         encoded_list = [tokenizer.encode(t, add_special_tokens=True, max_length=512, truncation=True) for t in text]\n",
    "#         padded_list = [e[:512] + [0] * (512-len(e[:512])) for e in encoded_list]\n",
    "#         sample = torch.tensor(padded_list)\n",
    "#         sample, label = sample.to(device), label.to(device)\n",
    "#         label = torch.tensor(label)\n",
    "#         outputs = model(sample=sample, iscontra=False)\n",
    "\n",
    "#         loss = criterion(outputs, label)\n",
    "#         losses.update(loss.item(), BATCH_SIZE)\n",
    "# #         print(loss)\n",
    "        \n",
    "# #         total_correct += correct.sum().item()\n",
    "#         total_len += len(label)\n",
    "#         total_loss += loss.item()\n",
    "#         total_count += 1\n",
    "        \n",
    "#         optimizer.zero_grad()\n",
    "#         loss.backward()\n",
    "#         optimizer.step() \n",
    "\n",
    "#         if (total_count + 1) % 200 == 0:\n",
    "# #             print_weight(model)\n",
    "#             print('Train: [{0}][{1}/{2}]\\t'\n",
    "#                   'loss {loss.avg:.5f}'.format(\n",
    "#                    epoch, total_count + 1, len(train_loader), loss=losses))   \n",
    "\n",
    "#     model.train()\n",
    "#     scheduler.step()\n",
    "#     model_eval(test_df)\n",
    "#     print('***********************************')\n",
    "# #     print(tloss)  "
   ]
  },
  {
   "cell_type": "code",
   "execution_count": null,
   "metadata": {},
   "outputs": [],
   "source": []
  }
 ],
 "metadata": {
  "kernelspec": {
   "display_name": "Python 3",
   "language": "python",
   "name": "python3"
  },
  "language_info": {
   "codemirror_mode": {
    "name": "ipython",
    "version": 3
   },
   "file_extension": ".py",
   "mimetype": "text/x-python",
   "name": "python",
   "nbconvert_exporter": "python",
   "pygments_lexer": "ipython3",
   "version": "3.6.9"
  }
 },
 "nbformat": 4,
 "nbformat_minor": 4
}
