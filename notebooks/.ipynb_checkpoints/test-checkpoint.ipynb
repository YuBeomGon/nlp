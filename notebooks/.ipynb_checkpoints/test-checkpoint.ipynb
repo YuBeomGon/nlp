{
 "cells": [
  {
   "cell_type": "code",
   "execution_count": 39,
   "metadata": {},
   "outputs": [],
   "source": [
    "import numpy as np\n",
    "import pandas as pd\n",
    "import re\n",
    "import torch\n",
    "from dataclasses import dataclass"
   ]
  },
  {
   "cell_type": "code",
   "execution_count": 4,
   "metadata": {},
   "outputs": [
    {
     "data": {
      "text/plain": [
       "torch.Size([16])"
      ]
     },
     "execution_count": 4,
     "metadata": {},
     "output_type": "execute_result"
    }
   ],
   "source": [
    "labels = torch.tensor([1,3,10,20,50,1, 100, 20, 5,77,20,35,44,99,66,98])\n",
    "labels.shape"
   ]
  },
  {
   "cell_type": "code",
   "execution_count": 6,
   "metadata": {},
   "outputs": [
    {
     "data": {
      "text/plain": [
       "tensor([0.1500, 0.1500, 0.1500, 0.1500, 0.1500, 0.1500, 0.1500, 0.1500, 0.1500,\n",
       "        0.1500, 0.1500, 0.1500, 0.1500, 0.1500, 0.1500, 0.1500])"
      ]
     },
     "execution_count": 6,
     "metadata": {},
     "output_type": "execute_result"
    }
   ],
   "source": [
    "probability_matrix = torch.full(labels.shape, 0.15)\n",
    "probability_matrix"
   ]
  },
  {
   "cell_type": "code",
   "execution_count": 40,
   "metadata": {},
   "outputs": [],
   "source": [
    "class WithClass:\n",
    "    def __init__(self):\n",
    "        self.value = \"Bob\"\n",
    "    def my_func(self):\n",
    "        print(self.value)\n",
    "\n",
    "@dataclass\n",
    "class WithoutClass:\n",
    "    value: str ='hi'\n",
    "    def my_func(cls):\n",
    "        print(cls.value)"
   ]
  },
  {
   "cell_type": "code",
   "execution_count": 41,
   "metadata": {},
   "outputs": [
    {
     "name": "stdout",
     "output_type": "stream",
     "text": [
      "Bob\n"
     ]
    }
   ],
   "source": [
    "WithClass().my_func()"
   ]
  },
  {
   "cell_type": "code",
   "execution_count": 42,
   "metadata": {},
   "outputs": [
    {
     "name": "stdout",
     "output_type": "stream",
     "text": [
      "hi\n"
     ]
    }
   ],
   "source": [
    "WithoutClass().my_func()"
   ]
  },
  {
   "cell_type": "code",
   "execution_count": 43,
   "metadata": {},
   "outputs": [],
   "source": [
    "myclass = WithoutClass(value='hi1')"
   ]
  },
  {
   "cell_type": "code",
   "execution_count": 20,
   "metadata": {},
   "outputs": [
    {
     "ename": "AttributeError",
     "evalue": "'WithoutClass' object has no attribute 'value'",
     "output_type": "error",
     "traceback": [
      "\u001b[0;31m---------------------------------------------------------------------------\u001b[0m",
      "\u001b[0;31mAttributeError\u001b[0m                            Traceback (most recent call last)",
      "\u001b[0;32m<ipython-input-20-3e9b0798e747>\u001b[0m in \u001b[0;36m<module>\u001b[0;34m\u001b[0m\n\u001b[0;32m----> 1\u001b[0;31m \u001b[0mmyclass\u001b[0m\u001b[0;34m.\u001b[0m\u001b[0mmy_func\u001b[0m\u001b[0;34m(\u001b[0m\u001b[0;34m)\u001b[0m\u001b[0;34m\u001b[0m\u001b[0;34m\u001b[0m\u001b[0m\n\u001b[0m",
      "\u001b[0;32m<ipython-input-15-ff967c03b1dd>\u001b[0m in \u001b[0;36mmy_func\u001b[0;34m(cls)\u001b[0m\n\u001b[1;32m      9\u001b[0m \u001b[0;34m\u001b[0m\u001b[0m\n\u001b[1;32m     10\u001b[0m     \u001b[0;32mdef\u001b[0m \u001b[0mmy_func\u001b[0m\u001b[0;34m(\u001b[0m\u001b[0mcls\u001b[0m\u001b[0;34m)\u001b[0m\u001b[0;34m:\u001b[0m\u001b[0;34m\u001b[0m\u001b[0;34m\u001b[0m\u001b[0m\n\u001b[0;32m---> 11\u001b[0;31m         \u001b[0mprint\u001b[0m\u001b[0;34m(\u001b[0m\u001b[0mcls\u001b[0m\u001b[0;34m.\u001b[0m\u001b[0mvalue\u001b[0m\u001b[0;34m)\u001b[0m\u001b[0;34m\u001b[0m\u001b[0;34m\u001b[0m\u001b[0m\n\u001b[0m",
      "\u001b[0;31mAttributeError\u001b[0m: 'WithoutClass' object has no attribute 'value'"
     ]
    }
   ],
   "source": [
    "myclass.my_func()"
   ]
  },
  {
   "cell_type": "code",
   "execution_count": 49,
   "metadata": {},
   "outputs": [],
   "source": [
    "a = [1, 2, 3, 4]"
   ]
  },
  {
   "cell_type": "code",
   "execution_count": 50,
   "metadata": {},
   "outputs": [],
   "source": [
    "a.append(6)"
   ]
  },
  {
   "cell_type": "code",
   "execution_count": 51,
   "metadata": {},
   "outputs": [
    {
     "data": {
      "text/plain": [
       "[1, 2, 3, 4, 6]"
      ]
     },
     "execution_count": 51,
     "metadata": {},
     "output_type": "execute_result"
    }
   ],
   "source": [
    "a"
   ]
  },
  {
   "cell_type": "code",
   "execution_count": 52,
   "metadata": {},
   "outputs": [
    {
     "data": {
      "text/plain": [
       "1"
      ]
     },
     "execution_count": 52,
     "metadata": {},
     "output_type": "execute_result"
    }
   ],
   "source": [
    "a.pop(0)"
   ]
  },
  {
   "cell_type": "code",
   "execution_count": 53,
   "metadata": {},
   "outputs": [
    {
     "data": {
      "text/plain": [
       "2"
      ]
     },
     "execution_count": 53,
     "metadata": {},
     "output_type": "execute_result"
    }
   ],
   "source": [
    "a.pop(0)"
   ]
  },
  {
   "cell_type": "code",
   "execution_count": 90,
   "metadata": {},
   "outputs": [
    {
     "data": {
      "text/plain": [
       "tensor([[[[ 0.1263,  0.0000,  1.5344,  0.0000,  0.0000, -0.1386],\n",
       "          [ 0.0000, -0.0222, -1.3478,  0.0000,  1.8432,  0.0000],\n",
       "          [ 0.0000,  0.0000,  0.1390,  0.0000,  0.2183, -0.3458],\n",
       "          [-1.3671,  0.0000,  0.0000, -0.1483, -1.0102,  0.0000],\n",
       "          [ 0.3902,  0.6202,  0.0000,  0.0000,  0.1047, -0.0564],\n",
       "          [ 0.0000,  0.6956,  0.2227,  1.1135,  0.1047,  0.4873]]],\n",
       "\n",
       "\n",
       "        [[[ 0.0000,  0.4616, -1.1032,  0.0000, -0.4252,  0.3287],\n",
       "          [ 0.0000, -0.0305,  0.0000,  0.8009,  0.0000,  0.0000],\n",
       "          [-0.9233,  1.7728,  0.1312,  0.0000,  1.4368,  0.0000],\n",
       "          [ 1.0643,  0.5100, -0.2422,  0.0000,  0.0000, -0.0613],\n",
       "          [ 0.0000, -0.0494,  0.0000,  0.0000,  1.2479,  0.2012],\n",
       "          [ 1.5685,  1.7789,  0.0000, -0.5775, -1.7138,  0.0000]]]])"
      ]
     },
     "execution_count": 90,
     "metadata": {},
     "output_type": "execute_result"
    }
   ],
   "source": [
    "a = torch.randn(2,1,6,6)\n",
    "\n",
    "torch.nn.ReLU()(a-0.5) - torch.nn.ReLU()(-(a+0.5))"
   ]
  },
  {
   "cell_type": "code",
   "execution_count": 87,
   "metadata": {},
   "outputs": [
    {
     "ename": "RuntimeError",
     "evalue": "Boolean value of Tensor with more than one value is ambiguous",
     "output_type": "error",
     "traceback": [
      "\u001b[0;31m---------------------------------------------------------------------------\u001b[0m",
      "\u001b[0;31mRuntimeError\u001b[0m                              Traceback (most recent call last)",
      "\u001b[0;32m<ipython-input-87-53a8266364fc>\u001b[0m in \u001b[0;36m<module>\u001b[0;34m\u001b[0m\n\u001b[0;32m----> 1\u001b[0;31m \u001b[0mmax\u001b[0m\u001b[0;34m(\u001b[0m\u001b[0ma\u001b[0m\u001b[0;34m,\u001b[0m \u001b[0;36m2\u001b[0m\u001b[0;34m)\u001b[0m\u001b[0;34m\u001b[0m\u001b[0;34m\u001b[0m\u001b[0m\n\u001b[0m",
      "\u001b[0;31mRuntimeError\u001b[0m: Boolean value of Tensor with more than one value is ambiguous"
     ]
    }
   ],
   "source": [
    "max(a, 2)"
   ]
  },
  {
   "cell_type": "code",
   "execution_count": 76,
   "metadata": {},
   "outputs": [
    {
     "data": {
      "text/plain": [
       "tensor([[[[0.0000, 0.4131, 0.0000, 0.4096],\n",
       "          [0.0000, 1.5068, 0.0000, 0.3886],\n",
       "          [0.1342, 0.1803, 0.7047, 0.0000],\n",
       "          [0.0000, 0.0000, 0.4895, 0.0000]]],\n",
       "\n",
       "\n",
       "        [[[0.0000, 0.0000, 0.0000, 0.0000],\n",
       "          [0.1447, 0.0000, 0.0000, 0.0000],\n",
       "          [0.0000, 0.0000, 0.0000, 0.0000],\n",
       "          [0.0000, 0.0000, 0.0000, 0.0000]]]])"
      ]
     },
     "execution_count": 76,
     "metadata": {},
     "output_type": "execute_result"
    }
   ],
   "source": [
    "torch.nn.ReLU()(a-0.5) "
   ]
  },
  {
   "cell_type": "code",
   "execution_count": 77,
   "metadata": {},
   "outputs": [
    {
     "data": {
      "text/plain": [
       "tensor([[[[-0.8454, -0.0000, -0.8236, -0.0000],\n",
       "          [-1.0045, -0.0000, -0.0000, -0.0000],\n",
       "          [-0.0000, -0.0000, -0.0000, -0.0000],\n",
       "          [-0.9467, -0.0000, -0.0000, -0.0000]]],\n",
       "\n",
       "\n",
       "        [[[-0.3031, -0.0000, -0.4700, -0.0000],\n",
       "          [-0.0000, -0.0000, -0.0000, -0.8862],\n",
       "          [-0.5878, -0.0000, -0.7079, -0.0000],\n",
       "          [-0.0000, -0.0135, -0.0000, -1.5056]]]])"
      ]
     },
     "execution_count": 77,
     "metadata": {},
     "output_type": "execute_result"
    }
   ],
   "source": [
    "-torch.nn.ReLU()(-(a+0.5))"
   ]
  },
  {
   "cell_type": "code",
   "execution_count": 78,
   "metadata": {},
   "outputs": [
    {
     "data": {
      "text/plain": [
       "tensor([[[[-0.8454,  0.4131, -0.8236,  0.4096],\n",
       "          [-1.0045,  1.5068,  0.0000,  0.3886],\n",
       "          [ 0.1342,  0.1803,  0.7047,  0.0000],\n",
       "          [-0.9467,  0.0000,  0.4895,  0.0000]]],\n",
       "\n",
       "\n",
       "        [[[-0.3031,  0.0000, -0.4700,  0.0000],\n",
       "          [ 0.1447,  0.0000,  0.0000, -0.8862],\n",
       "          [-0.5878,  0.0000, -0.7079,  0.0000],\n",
       "          [ 0.0000, -0.0135,  0.0000, -1.5056]]]])"
      ]
     },
     "execution_count": 78,
     "metadata": {},
     "output_type": "execute_result"
    }
   ],
   "source": [
    "torch.nn.ReLU()(a-0.5) - torch.nn.ReLU()(-(a+0.5))"
   ]
  },
  {
   "cell_type": "code",
   "execution_count": 112,
   "metadata": {},
   "outputs": [
    {
     "data": {
      "text/plain": [
       "Linear(in_features=8, out_features=4, bias=True)"
      ]
     },
     "execution_count": 112,
     "metadata": {},
     "output_type": "execute_result"
    }
   ],
   "source": [
    "value_pro = torch.nn.Linear(8, 4) \n",
    "value_pro"
   ]
  },
  {
   "cell_type": "code",
   "execution_count": 113,
   "metadata": {},
   "outputs": [
    {
     "data": {
      "text/plain": [
       "tensor([[[[-1.3469, -0.2895, -1.0597, -0.9533, -1.1543,  0.7273],\n",
       "          [ 0.4561,  0.7384,  0.5414, -0.6006, -0.8781, -0.2635],\n",
       "          [-0.6636, -0.4145,  1.3894, -0.2870,  0.3997,  1.0690],\n",
       "          [ 0.3648, -1.1983, -0.6828, -0.4326, -0.4810, -0.4602],\n",
       "          [-0.9472, -0.8666, -0.1962, -0.4576, -0.0234, -0.2499],\n",
       "          [-0.8848, -0.6148, -1.4856,  0.7279, -0.7373,  0.8775],\n",
       "          [ 0.6906, -0.4550,  0.9239,  2.2191,  0.5893, -0.0464],\n",
       "          [ 1.0204, -0.8020, -0.1754, -0.3413, -0.3083, -1.6282]]]])"
      ]
     },
     "execution_count": 113,
     "metadata": {},
     "output_type": "execute_result"
    }
   ],
   "source": [
    "seq = torch.randn(1, 1, 8, 6  )\n",
    "seq"
   ]
  },
  {
   "cell_type": "code",
   "execution_count": 114,
   "metadata": {},
   "outputs": [
    {
     "data": {
      "text/plain": [
       "torch.Size([1, 1, 6, 8])"
      ]
     },
     "execution_count": 114,
     "metadata": {},
     "output_type": "execute_result"
    }
   ],
   "source": [
    "seq.transpose(-1,-2).size()"
   ]
  },
  {
   "cell_type": "code",
   "execution_count": 117,
   "metadata": {},
   "outputs": [],
   "source": [
    "# value_pro(seq)"
   ]
  },
  {
   "cell_type": "code",
   "execution_count": 118,
   "metadata": {},
   "outputs": [
    {
     "data": {
      "text/plain": [
       "tensor([[[[ 0.3309, -0.3087,  0.0621,  0.2637],\n",
       "          [-0.0471, -0.4798, -0.2039,  0.1426],\n",
       "          [-0.7219, -0.9713,  0.3143,  0.3759],\n",
       "          [ 0.3356,  0.6886,  0.0174, -0.0602],\n",
       "          [-0.3470, -0.2880, -0.0926, -0.3138],\n",
       "          [-0.3301,  0.2512,  0.2256,  0.1382]]]], grad_fn=<AddBackward0>)"
      ]
     },
     "execution_count": 118,
     "metadata": {},
     "output_type": "execute_result"
    }
   ],
   "source": [
    "value_pro(seq.transpose(-1,-2))"
   ]
  },
  {
   "cell_type": "code",
   "execution_count": 125,
   "metadata": {},
   "outputs": [],
   "source": [
    "class Node :\n",
    "    def __init__(self, data) :\n",
    "        self.data = data\n",
    "        self.next = None\n",
    "        \n",
    "    def add(self, node) :\n",
    "        if self.next is None :\n",
    "            self.next = node\n",
    "        else :\n",
    "            n = self.next\n",
    "            while True :\n",
    "                if n.next is None :\n",
    "                    n.next = node\n",
    "                    break\n",
    "                else :\n",
    "                    n = n.next\n",
    "#         return n\n",
    "                    \n",
    "    def select(self, idx) :\n",
    "        n = self.next\n",
    "        for i in range(idx -1) :\n",
    "            n = n.next\n",
    "        return n.data\n",
    "    \n",
    "    def delete(self, idx) :\n",
    "        n = self.next\n",
    "        for i in range(idx -2) :\n",
    "            n = n.next\n",
    "        t = n.next\n",
    "        n.next = t.next\n",
    "        del t\n",
    "        \n",
    "    def insert(self, idx, node) :\n",
    "        n = self.next\n",
    "        for i in range(idx -2 ):\n",
    "            n = n.next\n",
    "        t = n.next\n",
    "        n.next = node\n",
    "        node.next = t\n",
    "        \n",
    "    def print(self) :\n",
    "        n = self.next\n",
    "        while n.next is not None :\n",
    "            print(n.data)\n",
    "            n = n.next\n"
   ]
  },
  {
   "cell_type": "code",
   "execution_count": 126,
   "metadata": {},
   "outputs": [],
   "source": [
    "input1 = [1,2,4]\n",
    "input2 = [1,3,4]\n"
   ]
  },
  {
   "cell_type": "code",
   "execution_count": 128,
   "metadata": {},
   "outputs": [],
   "source": [
    "# Function to insert node \n",
    "def insert(root, item): \n",
    "    temp = Node(item) \n",
    "      \n",
    "    if (root == None): \n",
    "        root = temp \n",
    "    else : \n",
    "        ptr = root \n",
    "        while (ptr.next != None): \n",
    "            ptr = ptr.next\n",
    "        ptr.next = temp \n",
    "      \n",
    "    return root \n",
    "    "
   ]
  },
  {
   "cell_type": "code",
   "execution_count": 135,
   "metadata": {},
   "outputs": [],
   "source": [
    "root = None\n",
    "for i in input1 :\n",
    "    root = insert(root, i)"
   ]
  },
  {
   "cell_type": "code",
   "execution_count": 136,
   "metadata": {},
   "outputs": [
    {
     "name": "stdout",
     "output_type": "stream",
     "text": [
      "1\n",
      "2\n",
      "4\n"
     ]
    }
   ],
   "source": [
    "while root != None :\n",
    "    print(root.data)\n",
    "    root = root.next"
   ]
  },
  {
   "cell_type": "code",
   "execution_count": 157,
   "metadata": {},
   "outputs": [],
   "source": [
    "head = temp = Node(None)"
   ]
  },
  {
   "cell_type": "code",
   "execution_count": 158,
   "metadata": {},
   "outputs": [],
   "source": [
    "for i in input2 :\n",
    "    if temp.next == None :\n",
    "        temp.next = Node(i)\n",
    "        temp = temp.next"
   ]
  },
  {
   "cell_type": "code",
   "execution_count": 159,
   "metadata": {},
   "outputs": [
    {
     "name": "stdout",
     "output_type": "stream",
     "text": [
      "1\n",
      "3\n",
      "4\n"
     ]
    }
   ],
   "source": [
    "while head.next != None :\n",
    "    head = head.next\n",
    "    print(head.data)"
   ]
  },
  {
   "cell_type": "code",
   "execution_count": 276,
   "metadata": {},
   "outputs": [],
   "source": [
    "input1 = [1,2,4,5]\n",
    "input2 = [1,3,4]"
   ]
  },
  {
   "cell_type": "code",
   "execution_count": 277,
   "metadata": {},
   "outputs": [],
   "source": [
    "class Node :\n",
    "    def __init__(self, data) :\n",
    "        self.data = data\n",
    "        self.next = None"
   ]
  },
  {
   "cell_type": "code",
   "execution_count": 278,
   "metadata": {},
   "outputs": [],
   "source": [
    "head1 = temp = Node(None)\n",
    "for i in input1 :\n",
    "    if temp.next == None :\n",
    "        temp.next = Node(i)\n",
    "        temp = temp.next "
   ]
  },
  {
   "cell_type": "code",
   "execution_count": 279,
   "metadata": {},
   "outputs": [],
   "source": [
    "head2 = temp = Node(None)\n",
    "for i in input2 :\n",
    "    if temp.next == None :\n",
    "        temp.next = Node(i)\n",
    "        temp = temp.next "
   ]
  },
  {
   "cell_type": "code",
   "execution_count": 280,
   "metadata": {},
   "outputs": [],
   "source": [
    "# while head2.next != None :\n",
    "#     head2 = head2.next\n",
    "#     print(head2.data)"
   ]
  },
  {
   "cell_type": "code",
   "execution_count": 281,
   "metadata": {},
   "outputs": [],
   "source": [
    "class Solution:\n",
    "    def mergeTwoLists(self, l1: Node, l2: Node) -> Node:\n",
    "#         temp = l1\n",
    "#         while temp.next != None :\n",
    "#             temp = temp.next\n",
    "#         temp.next = l2\n",
    "        head = local = Node(None)\n",
    "#         while l1.next is not None or l2.next is not None \n",
    "        while True :\n",
    "            if l1.next == None and l2.next ==None :\n",
    "                break\n",
    "            elif l1.next == None :\n",
    "                local.next = Node(l2.next.data)\n",
    "                l2 = l2.next\n",
    "            elif l2.next == None :\n",
    "                local.next = Node(l1.next.data)\n",
    "                l1 = l1.next\n",
    "            else :\n",
    "                if l1.next.data <= l2.next.data :\n",
    "                    local.next = Node(l1.next.data)\n",
    "    #                 if l1.next is not None :\n",
    "                    l1 = l1.next\n",
    "\n",
    "                else :\n",
    "                    local.next = Node(l2.next.data)\n",
    "    #                 if l2.next is not None :\n",
    "                    l2 = l2.next \n",
    "        \n",
    "            local = local.next\n",
    "        return head\n",
    "        "
   ]
  },
  {
   "cell_type": "code",
   "execution_count": 282,
   "metadata": {},
   "outputs": [],
   "source": [
    "sol = Solution()"
   ]
  },
  {
   "cell_type": "code",
   "execution_count": 283,
   "metadata": {},
   "outputs": [],
   "source": [
    "ret = sol.mergeTwoLists(head1, head2)"
   ]
  },
  {
   "cell_type": "code",
   "execution_count": 284,
   "metadata": {},
   "outputs": [
    {
     "name": "stdout",
     "output_type": "stream",
     "text": [
      "1\n",
      "1\n",
      "2\n",
      "3\n",
      "4\n",
      "4\n",
      "5\n"
     ]
    }
   ],
   "source": [
    "while ret.next != None :\n",
    "    ret = ret.next\n",
    "    print(ret.data)"
   ]
  },
  {
   "cell_type": "code",
   "execution_count": 306,
   "metadata": {},
   "outputs": [],
   "source": [
    "gp1 = {0:[1,2], 1:[2], 2:[3,0], 3:[3]}\n",
    "gp2 = {0:[1,2], 1:[2], 2:[3], 3:[]}\n",
    "Heads = []"
   ]
  },
  {
   "cell_type": "code",
   "execution_count": 328,
   "metadata": {},
   "outputs": [],
   "source": [
    "def dfs(graph, start):\n",
    "    nodes = list(graph.keys())\n",
    "    stack = [start]\n",
    "    visited = []\n",
    "    \n",
    "#     while stack :\n",
    "#         current = stack.pop()\n",
    "#         print(current)\n",
    "#         for edge in graph[current] :\n",
    "#             if edge not in visited :\n",
    "#                 stack.append(edge)\n",
    "            \n",
    "#         visited.append(current)\n",
    "#     print(visited)\n",
    "#     return visited\n",
    "    while stack :\n",
    "        current = stack.pop()\n",
    "        print(current)\n",
    "        visited.append(current)\n",
    "        for edge in graph[current] :\n",
    "            if edge not in visited :\n",
    "                stack.append(edge)\n",
    "            elif edge == start :\n",
    "                return True\n",
    "#         visited.append(current)\n",
    "    return False"
   ]
  },
  {
   "cell_type": "code",
   "execution_count": 329,
   "metadata": {},
   "outputs": [
    {
     "name": "stdout",
     "output_type": "stream",
     "text": [
      "{0: [1, 2], 1: [2], 2: [3, 0], 3: [3]}\n"
     ]
    }
   ],
   "source": [
    "print(gp1)"
   ]
  },
  {
   "cell_type": "code",
   "execution_count": 330,
   "metadata": {},
   "outputs": [
    {
     "name": "stdout",
     "output_type": "stream",
     "text": [
      "0\n",
      "2\n"
     ]
    },
    {
     "data": {
      "text/plain": [
       "True"
      ]
     },
     "execution_count": 330,
     "metadata": {},
     "output_type": "execute_result"
    }
   ],
   "source": [
    "\n",
    "dfs(gp1, 0)"
   ]
  },
  {
   "cell_type": "code",
   "execution_count": 331,
   "metadata": {},
   "outputs": [
    {
     "name": "stdout",
     "output_type": "stream",
     "text": [
      "0\n",
      "2\n",
      "3\n",
      "1\n"
     ]
    },
    {
     "data": {
      "text/plain": [
       "False"
      ]
     },
     "execution_count": 331,
     "metadata": {},
     "output_type": "execute_result"
    }
   ],
   "source": [
    "dfs(gp2, 0)"
   ]
  },
  {
   "cell_type": "code",
   "execution_count": 338,
   "metadata": {},
   "outputs": [
    {
     "data": {
      "text/plain": [
       "2"
      ]
     },
     "execution_count": 338,
     "metadata": {},
     "output_type": "execute_result"
    }
   ],
   "source": [
    "109%(10**2+7)"
   ]
  },
  {
   "cell_type": "code",
   "execution_count": 339,
   "metadata": {},
   "outputs": [
    {
     "data": {
      "text/plain": [
       "9"
      ]
     },
     "execution_count": 339,
     "metadata": {},
     "output_type": "execute_result"
    }
   ],
   "source": [
    "109%(10**2)"
   ]
  },
  {
   "cell_type": "code",
   "execution_count": 340,
   "metadata": {},
   "outputs": [
    {
     "data": {
      "text/plain": [
       "4"
      ]
     },
     "execution_count": 340,
     "metadata": {},
     "output_type": "execute_result"
    }
   ],
   "source": [
    "109%(7)"
   ]
  },
  {
   "cell_type": "code",
   "execution_count": 467,
   "metadata": {},
   "outputs": [
    {
     "name": "stdout",
     "output_type": "stream",
     "text": [
      "d\n",
      "X\n",
      "A\n",
      "C\n",
      "A\n",
      "d\n"
     ]
    }
   ],
   "source": [
    "S = 'dACAXd'\n",
    "for rc in S[::-1] :\n",
    "    print(rc)"
   ]
  },
  {
   "cell_type": "code",
   "execution_count": 369,
   "metadata": {},
   "outputs": [],
   "source": [
    "a = 'ABCAXD'\n",
    "di = {}\n",
    "alphabet = 'ABCDEFGHIJKLMNOPQRSTUVWXYZ' \n",
    "len(set(alphabet))\n",
    "for v in alphabet :\n",
    "    di[v] = 0"
   ]
  },
  {
   "cell_type": "code",
   "execution_count": 358,
   "metadata": {},
   "outputs": [],
   "source": [
    "for v in a :\n",
    "    di[v] += 1"
   ]
  },
  {
   "cell_type": "code",
   "execution_count": 363,
   "metadata": {},
   "outputs": [
    {
     "data": {
      "text/plain": [
       "2"
      ]
     },
     "execution_count": 363,
     "metadata": {},
     "output_type": "execute_result"
    }
   ],
   "source": [
    "li = [ a for a, v in dic.items() if v == 1]\n",
    "li\n",
    "len(li)"
   ]
  },
  {
   "cell_type": "code",
   "execution_count": 493,
   "metadata": {},
   "outputs": [],
   "source": [
    "def reset_dic() :\n",
    "    di = {}\n",
    "    alphabet = 'ABCDEFGHIJKLMNOPQRSTUVWXYZ' \n",
    "#     alphabet = 'ACXAd'\n",
    "    for v in alphabet :\n",
    "        di[v] = 0\n",
    "#     di['d'] = -999999\n",
    "    return di\n",
    "\n",
    "def make_dic(S, di):\n",
    "#     print(S)\n",
    "    for v in S :\n",
    "        di[v] = di[v] + 1\n",
    "    return di\n",
    "\n",
    "def get_len(di) :\n",
    "    return len([ a for a, v in di.items() if v == 1])\n",
    "\n",
    "def solution(S) :\n",
    "#     for i in S:\n",
    "#     print(S)\n",
    "    di = reset_dic()\n",
    "    di = make_dic(S, di)\n",
    "\n",
    "    tot_num = 0\n",
    "    max_num = (10**9+7)\n",
    "    count = 0\n",
    "    \n",
    "    for i, fc in enumerate(S[:]):\n",
    "        di = reset_dic()\n",
    "        temp_str = S[i:]\n",
    "#         print(temp_str)\n",
    "        di = make_dic(temp_str, di)\n",
    "#         di[fc] = di[fc] -1\n",
    "#         print(di)\n",
    "        tot_num = tot_num + get_len(di)\n",
    "        if tot_num > max_num :\n",
    "            tot_num = tot_num%max_num    \n",
    "        for rc in temp_str[::-1] :\n",
    "#             print(rc)\n",
    "            di[rc] = di[rc] -1\n",
    "#             print(di)\n",
    "#             print(get_len(di))\n",
    "            tot_num = tot_num + get_len(di)\n",
    "            if tot_num > max_num :\n",
    "                tot_num = tot_num%max_num\n",
    "            count = count + 1\n",
    "    \n",
    "    print('count ',count)\n",
    "    return tot_num\n",
    "\n",
    "#     print(di)\n"
   ]
  },
  {
   "cell_type": "code",
   "execution_count": 494,
   "metadata": {},
   "outputs": [
    {
     "name": "stdout",
     "output_type": "stream",
     "text": [
      "count  10\n"
     ]
    },
    {
     "data": {
      "text/plain": [
       "16"
      ]
     },
     "execution_count": 494,
     "metadata": {},
     "output_type": "execute_result"
    }
   ],
   "source": [
    "string = 'ACAX'\n",
    "num = solution(string)\n",
    "num"
   ]
  },
  {
   "cell_type": "code",
   "execution_count": 495,
   "metadata": {},
   "outputs": [
    {
     "data": {
      "text/plain": [
       "{'A': 16,\n",
       " 'B': 8,\n",
       " 'C': 8,\n",
       " 'D': 8,\n",
       " 'E': 0,\n",
       " 'F': 0,\n",
       " 'G': 0,\n",
       " 'H': 0,\n",
       " 'I': 0,\n",
       " 'J': 0,\n",
       " 'K': 0,\n",
       " 'L': 0,\n",
       " 'M': 0,\n",
       " 'N': 0,\n",
       " 'O': 0,\n",
       " 'P': 0,\n",
       " 'Q': 0,\n",
       " 'R': 0,\n",
       " 'S': 0,\n",
       " 'T': 0,\n",
       " 'U': 0,\n",
       " 'V': 0,\n",
       " 'W': 0,\n",
       " 'X': 8,\n",
       " 'Y': 0,\n",
       " 'Z': 0}"
      ]
     },
     "execution_count": 495,
     "metadata": {},
     "output_type": "execute_result"
    }
   ],
   "source": [
    "di"
   ]
  },
  {
   "cell_type": "code",
   "execution_count": 404,
   "metadata": {},
   "outputs": [
    {
     "data": {
      "text/plain": [
       "{'A', 'B', 'C', 'D', 'X'}"
      ]
     },
     "execution_count": 404,
     "metadata": {},
     "output_type": "execute_result"
    }
   ],
   "source": [
    "set(a)"
   ]
  },
  {
   "cell_type": "code",
   "execution_count": 345,
   "metadata": {},
   "outputs": [],
   "source": [
    "dic = {'a':1, 'b':2, 'c':1}"
   ]
  },
  {
   "cell_type": "code",
   "execution_count": 346,
   "metadata": {},
   "outputs": [
    {
     "data": {
      "text/plain": [
       "dict_values([1, 2, 1])"
      ]
     },
     "execution_count": 346,
     "metadata": {},
     "output_type": "execute_result"
    }
   ],
   "source": [
    "dic.values()"
   ]
  },
  {
   "cell_type": "code",
   "execution_count": 347,
   "metadata": {},
   "outputs": [],
   "source": [
    "inv_map = {v: k for k, v in dic.items()}"
   ]
  },
  {
   "cell_type": "code",
   "execution_count": 348,
   "metadata": {},
   "outputs": [
    {
     "data": {
      "text/plain": [
       "{1: 'c', 2: 'b'}"
      ]
     },
     "execution_count": 348,
     "metadata": {},
     "output_type": "execute_result"
    }
   ],
   "source": [
    "inv_map"
   ]
  },
  {
   "cell_type": "code",
   "execution_count": 349,
   "metadata": {},
   "outputs": [],
   "source": [
    "li = [ a for a, v in dic.items() if v == 1]"
   ]
  },
  {
   "cell_type": "code",
   "execution_count": 350,
   "metadata": {},
   "outputs": [
    {
     "data": {
      "text/plain": [
       "['a', 'c']"
      ]
     },
     "execution_count": 350,
     "metadata": {},
     "output_type": "execute_result"
    }
   ],
   "source": [
    "li"
   ]
  },
  {
   "cell_type": "code",
   "execution_count": 516,
   "metadata": {},
   "outputs": [],
   "source": []
  },
  {
   "cell_type": "code",
   "execution_count": 543,
   "metadata": {},
   "outputs": [],
   "source": [
    "def solution(A):\n",
    "    prev_index = 0\n",
    "    dic = {}\n",
    "    for index, value in enumerate(A) :\n",
    "    #     print(index)\n",
    "    #     print(value)\n",
    "        if prev_index == index :\n",
    "            dic[index] = 1\n",
    "        else :\n",
    "            if A[index] > A[index -1] :\n",
    "                dic[index] = 1 \n",
    "            else :\n",
    "                dic[index] = 0\n",
    "                \n",
    "    prev = -1\n",
    "    length = 1\n",
    "    max_len = 1\n",
    "    result = []\n",
    "    result1 = []\n",
    "    \n",
    "    check_flag = False\n",
    "    for k, v in dic.items() :\n",
    "    #     print(v)\n",
    "        if prev == 0 and v == 1 :\n",
    "            check_flag = True\n",
    "    #         print(k-1)\n",
    "            length = length + 1\n",
    "            result.append(k - length + 1) \n",
    "                \n",
    "        else :\n",
    "            if prev == 1 and v == 1 :\n",
    "                length = length + 1\n",
    "                if length > max_len :\n",
    "                    result = []\n",
    "                    result.append(k - length + 1)\n",
    "                    max_len = length\n",
    "                elif length == max_len :\n",
    "                    result.append(k - length + 1)\n",
    "            else :\n",
    "                length = 1\n",
    "        prev = v\n",
    "\n",
    "    if check_flag == False :\n",
    "        print('no more than length 2')\n",
    "        return range(len(A))\n",
    "    \n",
    "    return result\n",
    "\n",
    "\n"
   ]
  },
  {
   "cell_type": "code",
   "execution_count": 544,
   "metadata": {},
   "outputs": [
    {
     "data": {
      "text/plain": [
       "[4, 6, 8]"
      ]
     },
     "execution_count": 544,
     "metadata": {},
     "output_type": "execute_result"
    }
   ],
   "source": [
    "Ar = [2, 2,2,2,1,2,-1,2,1,3]\n",
    "ans = solution(Ar)\n",
    "ans"
   ]
  },
  {
   "cell_type": "code",
   "execution_count": null,
   "metadata": {},
   "outputs": [],
   "source": []
  },
  {
   "cell_type": "code",
   "execution_count": null,
   "metadata": {},
   "outputs": [],
   "source": []
  },
  {
   "cell_type": "code",
   "execution_count": null,
   "metadata": {},
   "outputs": [],
   "source": []
  },
  {
   "cell_type": "code",
   "execution_count": null,
   "metadata": {},
   "outputs": [],
   "source": []
  },
  {
   "cell_type": "code",
   "execution_count": null,
   "metadata": {},
   "outputs": [],
   "source": []
  }
 ],
 "metadata": {
  "kernelspec": {
   "display_name": "Python 3",
   "language": "python",
   "name": "python3"
  },
  "language_info": {
   "codemirror_mode": {
    "name": "ipython",
    "version": 3
   },
   "file_extension": ".py",
   "mimetype": "text/x-python",
   "name": "python",
   "nbconvert_exporter": "python",
   "pygments_lexer": "ipython3",
   "version": "3.6.9"
  }
 },
 "nbformat": 4,
 "nbformat_minor": 4
}
